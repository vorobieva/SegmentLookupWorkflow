{
 "cells": [
  {
   "cell_type": "code",
   "execution_count": 5,
   "metadata": {},
   "outputs": [],
   "source": [
    "import pandas as pd\n",
    "import glob\n",
    "import os\n",
    "import numpy as np\n",
    "import matplotlib \n",
    "import matplotlib.pyplot as plt\n",
    "import seaborn as sns\n",
    "import re\n",
    "\n",
    "%matplotlib inline"
   ]
  },
  {
   "cell_type": "code",
   "execution_count": 2,
   "metadata": {},
   "outputs": [
    {
     "name": "stdout",
     "output_type": "stream",
     "text": [
      "    SCORE:  total_score  atom_pair_constraint   cbeta  cenpack  \\\n",
      "0   SCORE:       82.370                   0.0  53.225   -0.225   \n",
      "1   SCORE:       86.072                   0.0  52.959   -0.703   \n",
      "2   SCORE:       82.205                   0.0  52.223   -1.390   \n",
      "3   SCORE:       83.346                   0.0  53.005   -1.790   \n",
      "4   SCORE:       81.202                   0.0  52.127   -2.771   \n",
      "5   SCORE:       83.992                   0.0  52.422   -0.097   \n",
      "6   SCORE:       80.987                   0.0  52.605   -1.370   \n",
      "7   SCORE:       87.293                   0.0  52.704    1.591   \n",
      "8   SCORE:       82.118                   0.0  52.883   -1.918   \n",
      "9   SCORE:       84.475                   0.0  52.951   -1.048   \n",
      "10  SCORE:       87.627                   0.0  52.973    0.395   \n",
      "11  SCORE:       85.756                   0.0  52.575   -0.879   \n",
      "12  SCORE:       88.240                   0.0  52.779    0.343   \n",
      "13  SCORE:       87.173                   0.0  53.200   -0.795   \n",
      "14  SCORE:       78.549                   0.0  51.772   -2.669   \n",
      "15  SCORE:       83.241                   0.0  52.224   -1.995   \n",
      "16  SCORE:       85.289                   0.0  53.731   -0.168   \n",
      "17  SCORE:       81.274                   0.0  52.256   -0.811   \n",
      "18  SCORE:       84.181                   0.0  53.285   -2.783   \n",
      "19  SCORE:       84.774                   0.0  53.814   -2.403   \n",
      "20  SCORE:       79.087                   0.0  51.656   -1.294   \n",
      "21  SCORE:       79.873                   0.0  52.043   -1.961   \n",
      "22  SCORE:       96.150                   0.0  53.053    1.767   \n",
      "23  SCORE:      106.395                   0.0  53.289    5.648   \n",
      "24  SCORE:       80.695                   0.0  52.217   -3.837   \n",
      "25  SCORE:       79.432                   0.0  53.040   -3.331   \n",
      "26  SCORE:       87.173                   0.0  53.516    1.087   \n",
      "27  SCORE:       82.172                   0.0  52.634   -2.188   \n",
      "28  SCORE:       82.220                   0.0  52.837   -1.553   \n",
      "29  SCORE:       78.088                   0.0  52.748   -3.028   \n",
      "..     ...          ...                   ...     ...      ...   \n",
      "39  SCORE:       79.911                   0.0  47.605    0.919   \n",
      "40  SCORE:       79.513                   0.0  47.553    0.664   \n",
      "41  SCORE:       84.287                   0.0  47.621    3.340   \n",
      "42  SCORE:       83.332                   0.0  47.644    2.737   \n",
      "43  SCORE:       83.241                   0.0  47.651    2.573   \n",
      "44  SCORE:       79.209                   0.0  47.553    0.352   \n",
      "45  SCORE:       80.717                   0.0  47.815    0.827   \n",
      "46  SCORE:       84.306                   0.0  47.638    3.322   \n",
      "47  SCORE:       83.003                   0.0  47.640    2.462   \n",
      "48  SCORE:       80.590                   0.0  47.831    0.283   \n",
      "49  SCORE:       80.234                   0.0  47.639    0.933   \n",
      "0   SCORE:       98.113                   0.0  51.182    3.416   \n",
      "1   SCORE:       96.510                   0.0  50.610    6.201   \n",
      "2   SCORE:       90.922                   0.0  51.387   -2.144   \n",
      "3   SCORE:       91.069                   0.0  51.322   -1.951   \n",
      "4   SCORE:       89.140                   0.0  51.642   -1.498   \n",
      "5   SCORE:       91.478                   0.0  49.806   -1.532   \n",
      "6   SCORE:       82.307                   0.0  51.345   -5.019   \n",
      "7   SCORE:       88.993                   0.0  51.092   -1.025   \n",
      "8   SCORE:       95.621                   0.0  50.602    2.612   \n",
      "9   SCORE:       87.949                   0.0  51.186   -0.047   \n",
      "10  SCORE:      111.955                   0.0  51.438    7.039   \n",
      "11  SCORE:       94.133                   0.0  51.258    0.544   \n",
      "12  SCORE:       91.238                   0.0  51.101   -0.804   \n",
      "13  SCORE:       91.551                   0.0  52.494    0.586   \n",
      "14  SCORE:       95.824                   0.0  51.057    3.129   \n",
      "15  SCORE:       91.542                   0.0  51.580   -2.102   \n",
      "16  SCORE:       89.993                   0.0  51.972   -0.035   \n",
      "17  SCORE:       84.056                   0.0  51.524   -3.853   \n",
      "18  SCORE:      103.361                   0.0  50.910    3.124   \n",
      "\n",
      "    chainbreak_posthyb     env  hs_pair  linear_chainbreak    pair      rg  \\\n",
      "0                  1.0 -19.204    0.000                0.0  -9.809  53.447   \n",
      "1                  0.0 -16.372    0.000                0.0  -7.687  53.600   \n",
      "2                  1.0 -18.678    0.000                0.0  -8.304  53.447   \n",
      "3                  1.0 -18.210    0.000                0.0  -7.187  53.365   \n",
      "4                  1.0 -18.219    0.000                0.0  -7.603  53.531   \n",
      "5                  1.0 -18.909    0.081                0.0  -7.889  53.621   \n",
      "6                  1.0 -19.523    0.000                0.0  -8.528  53.607   \n",
      "7                  1.0 -16.838    0.000                0.0  -7.898  53.518   \n",
      "8                  1.0 -18.277    0.000                0.0  -8.364  53.565   \n",
      "9                  1.0 -17.519    0.000                0.0  -7.140  53.067   \n",
      "10                 1.0 -15.848    0.000                0.0  -8.189  53.546   \n",
      "11                 1.0 -16.271    0.000                0.0  -8.075  53.730   \n",
      "12                 0.0 -15.654    0.000                0.0  -7.972  53.649   \n",
      "13                 1.0 -15.201    0.000                0.0  -7.550  53.406   \n",
      "14                 1.0 -20.132   -0.102                0.0  -7.701  53.295   \n",
      "15                 1.0 -18.104   -0.102                0.0  -7.359  53.493   \n",
      "16                 1.0 -18.713    0.000                0.0  -7.804  53.692   \n",
      "17                 1.0 -18.986    0.000                0.0  -9.123  53.347   \n",
      "18                 1.0 -16.950    0.000                0.0  -7.991  53.472   \n",
      "19                 1.0 -16.937    0.000                0.0  -7.369  53.588   \n",
      "20                 1.0 -19.560    0.000                0.0  -9.266  53.389   \n",
      "21                 1.0 -19.597    0.000                0.0  -8.302  53.214   \n",
      "22                 1.0 -14.624    0.147                0.0  -9.597  53.773   \n",
      "23                 1.0 -16.238   -0.059                0.0  -8.399  53.492   \n",
      "24                 1.0 -19.485    0.176                0.0  -6.514  53.197   \n",
      "25                 1.0 -19.151    0.000                0.0  -8.682  53.387   \n",
      "26                 1.0 -17.452    0.000                0.0  -8.218  53.455   \n",
      "27                 1.0 -18.126    0.000                0.0  -8.775  53.568   \n",
      "28                 1.0 -17.728    0.000                0.0  -9.268  53.398   \n",
      "29                 1.0 -19.392    0.000                0.0  -9.404  53.078   \n",
      "..                 ...     ...      ...                ...     ...     ...   \n",
      "39                 0.0  -9.949    0.000                0.0 -11.295  48.626   \n",
      "40                 0.0 -10.025    0.000                0.0 -11.267  48.582   \n",
      "41                 0.0  -9.132    0.000                0.0 -10.221  48.671   \n",
      "42                 0.0  -9.132    0.000                0.0 -10.527  48.603   \n",
      "43                 0.0  -9.132    0.000                0.0 -10.474  48.616   \n",
      "44                 0.0 -10.025    0.000                0.0 -11.257  48.581   \n",
      "45                 0.0  -9.249    0.000                0.0 -11.267  48.586   \n",
      "46                 0.0  -9.132    0.000                0.0 -10.202  48.672   \n",
      "47                 0.0  -9.132    0.000                0.0 -10.575  48.601   \n",
      "48                 0.0  -9.611    0.000                0.0 -10.513  48.594   \n",
      "49                 0.0  -9.686    0.000                0.0 -11.278  48.620   \n",
      "0                  1.0  -5.834    0.000                0.0 -10.727  51.178   \n",
      "1                  1.0  -4.477    0.000                0.0 -11.528  50.484   \n",
      "2                  1.0  -4.991    0.000                0.0  -8.482  50.816   \n",
      "3                  0.0  -5.547    0.000                0.0  -7.650  50.719   \n",
      "4                  1.0  -6.820    0.000                0.0 -10.029  50.865   \n",
      "5                  1.0  -2.775    0.000                0.0  -9.773  51.670   \n",
      "6                  1.0  -8.817    0.000                0.0 -11.028  51.541   \n",
      "7                  1.0  -8.074    0.000                0.0  -9.822  51.407   \n",
      "8                  1.0  -9.120    0.000                0.0  -8.204  51.013   \n",
      "9                  1.0  -5.628    0.000                0.0 -12.649  50.705   \n",
      "10                 1.0  -8.394    0.000                0.0 -10.180  50.550   \n",
      "11                 1.0  -4.300    0.000                0.0  -9.406  51.671   \n",
      "12                 1.0  -3.225    0.000                0.0 -11.652  51.221   \n",
      "13                 1.0  -6.676    0.000                0.0  -9.578  50.649   \n",
      "14                 1.0  -8.635    0.000                0.0  -6.952  50.706   \n",
      "15                 1.0  -5.278    0.000                0.0  -8.875  51.161   \n",
      "16                 1.0  -7.333    0.000                0.0  -9.371  50.471   \n",
      "17                 1.0 -10.468    0.000                0.0  -8.211  50.498   \n",
      "18                 1.0  -4.353    0.000                0.0  -9.091  51.089   \n",
      "\n",
      "    rsigma  sheet  ss_pair     vdw         description  \n",
      "0      0.0  3.776      0.0   1.161  K_c_0001_0242_0001  \n",
      "1      0.0  3.776      0.0   0.500  K_c_0001_0242_0002  \n",
      "2      0.0  3.776      0.0   1.132  K_c_0001_0242_0003  \n",
      "3      0.0  3.776      0.0   0.387  K_c_0001_0242_0004  \n",
      "4      0.0  3.776      0.0   0.360  K_c_0001_0242_0005  \n",
      "5      0.0  3.776      0.0   0.988  K_c_0001_0242_0006  \n",
      "6      0.0  3.776      0.0   0.421  K_c_0001_0242_0007  \n",
      "7      0.0  3.776      0.0   0.441  K_c_0001_0242_0008  \n",
      "8      0.0  3.776      0.0   0.454  K_c_0001_0242_0009  \n",
      "9      0.0  3.776      0.0   0.389  K_c_0001_0242_0010  \n",
      "10     0.0  3.776      0.0   0.974  K_c_0001_0242_0011  \n",
      "11     0.0  3.776      0.0   0.900  K_c_0001_0242_0012  \n",
      "12     0.0  3.776      0.0   1.320  K_c_0001_0242_0013  \n",
      "13     0.0  3.776      0.0   0.337  K_c_0001_0242_0014  \n",
      "14     0.0  3.776      0.0   0.310  K_c_0001_0242_0015  \n",
      "15     0.0  3.776      0.0   1.309  K_c_0001_0242_0016  \n",
      "16     0.0  3.776      0.0   0.776  K_c_0001_0242_0017  \n",
      "17     0.0  3.776      0.0   0.816  K_c_0001_0242_0018  \n",
      "18     0.0  3.776      0.0   1.372  K_c_0001_0242_0019  \n",
      "19     0.0  3.776      0.0   0.305  K_c_0001_0242_0020  \n",
      "20     0.0  3.776      0.0   0.387  K_c_0001_0242_0021  \n",
      "21     0.0  3.776      0.0   0.702  K_c_0001_0242_0022  \n",
      "22     0.0  3.776      0.0   7.856  K_c_0001_0242_0023  \n",
      "23     0.0  3.776      0.0  14.887  K_c_0001_0242_0024  \n",
      "24     0.0  3.776      0.0   1.164  K_c_0001_0242_0025  \n",
      "25     0.0  3.776      0.0   0.393  K_c_0001_0242_0026  \n",
      "26     0.0  3.776      0.0   1.010  K_c_0001_0242_0027  \n",
      "27     0.0  3.776      0.0   1.285  K_c_0001_0242_0028  \n",
      "28     0.0  3.776      0.0   0.757  K_c_0001_0242_0029  \n",
      "29     0.0  3.776      0.0   0.310  K_c_0001_0242_0030  \n",
      "..     ...    ...      ...     ...                 ...  \n",
      "39     0.0  3.776      0.0   0.229  N_f_0001_0206_0040  \n",
      "40     0.0  3.776      0.0   0.229  N_f_0001_0206_0041  \n",
      "41     0.0  3.776      0.0   0.232  N_f_0001_0206_0042  \n",
      "42     0.0  3.776      0.0   0.233  N_f_0001_0206_0043  \n",
      "43     0.0  3.776      0.0   0.232  N_f_0001_0206_0044  \n",
      "44     0.0  3.776      0.0   0.229  N_f_0001_0206_0045  \n",
      "45     0.0  3.776      0.0   0.229  N_f_0001_0206_0046  \n",
      "46     0.0  3.776      0.0   0.232  N_f_0001_0206_0047  \n",
      "47     0.0  3.776      0.0   0.233  N_f_0001_0206_0048  \n",
      "48     0.0  3.776      0.0   0.230  N_f_0001_0206_0049  \n",
      "49     0.0  3.776      0.0   0.229  N_f_0001_0206_0050  \n",
      "0      0.0  3.776      0.0   5.123  N_d_0001_0188_0002  \n",
      "1      0.0  3.776      0.0   1.445  N_d_0001_0188_0006  \n",
      "2      0.0  3.776      0.0   0.560  N_d_0001_0188_0011  \n",
      "3      0.0  3.776      0.0   0.401  N_d_0001_0188_0013  \n",
      "4      0.0  3.776      0.0   1.205  N_d_0001_0188_0014  \n",
      "5      0.0  3.776      0.0   0.305  N_d_0001_0188_0018  \n",
      "6      0.0  3.776      0.0   0.509  N_d_0001_0188_0019  \n",
      "7      0.0  3.776      0.0   1.640  N_d_0001_0188_0022  \n",
      "8      0.0  3.776      0.0   4.942  N_d_0001_0188_0025  \n",
      "9      0.0  3.776      0.0   0.607  N_d_0001_0188_0026  \n",
      "10     0.0  3.776      0.0  17.727  N_d_0001_0188_0027  \n",
      "11     0.0  3.776      0.0   0.590  N_d_0001_0188_0029  \n",
      "12     0.0  3.776      0.0   0.821  N_d_0001_0188_0030  \n",
      "13     0.0  3.776      0.0   0.301  N_d_0001_0188_0037  \n",
      "14     0.0  3.776      0.0   2.744  N_d_0001_0188_0038  \n",
      "15     0.0  3.776      0.0   1.281  N_d_0001_0188_0043  \n",
      "16     0.0  3.776      0.0   0.513  N_d_0001_0188_0048  \n",
      "17     0.0  3.776      0.0   0.791  N_d_0001_0188_0049  \n",
      "18     0.0  3.776      0.0   7.905  N_d_0001_0188_0050  \n",
      "\n",
      "[70542 rows x 16 columns]\n"
     ]
    }
   ],
   "source": [
    "df = pd.concat(pd.read_csv(f,header=1,sep=\"\\s+\") for f in glob.glob(\"*/score.sc\"))\n",
    "print(df)"
   ]
  },
  {
   "cell_type": "code",
   "execution_count": 3,
   "metadata": {},
   "outputs": [
    {
     "data": {
      "text/plain": [
       "<matplotlib.axes._subplots.AxesSubplot at 0x7ffa1792bdd8>"
      ]
     },
     "execution_count": 3,
     "metadata": {},
     "output_type": "execute_result"
    },
    {
     "data": {
      "image/png": "[encoded data removed]",
      "text/plain": [
       "<matplotlib.figure.Figure at 0x7ffa1792b358>"
      ]
     },
     "metadata": {
      "needs_background": "light"
     },
     "output_type": "display_data"
    }
   ],
   "source": [
    "df[\"vdw\"].hist(bins=100)"
   ]
  },
  {
   "cell_type": "code",
   "execution_count": 4,
   "metadata": {},
   "outputs": [
    {
     "data": {
      "text/plain": [
       "<matplotlib.axes._subplots.AxesSubplot at 0x7ffa1769a080>"
      ]
     },
     "execution_count": 4,
     "metadata": {},
     "output_type": "execute_result"
    },
    {
     "data": {
      "image/png": "[encoded data removed]",
      "text/plain": [
       "<matplotlib.figure.Figure at 0x7ffa1788e550>"
      ]
     },
     "metadata": {
      "needs_background": "light"
     },
     "output_type": "display_data"
    }
   ],
   "source": [
    "df[\"rg\"].hist(bins=100)"
   ]
  },
  {
   "cell_type": "code",
   "execution_count": 5,
   "metadata": {},
   "outputs": [
    {
     "data": {
      "text/plain": [
       "<matplotlib.axes._subplots.AxesSubplot at 0x7ffa17649cc0>"
      ]
     },
     "execution_count": 5,
     "metadata": {},
     "output_type": "execute_result"
    },
    {
     "data": {
      "image/png": "[encoded data removed]",
      "text/plain": [
       "<matplotlib.figure.Figure at 0x7ffa175b76d8>"
      ]
     },
     "metadata": {
      "needs_background": "light"
     },
     "output_type": "display_data"
    }
   ],
   "source": [
    "df[\"cenpack\"].hist(bins=100)"
   ]
  },
  {
   "cell_type": "code",
   "execution_count": 3,
   "metadata": {},
   "outputs": [],
   "source": [
    "df[\"scaffold\"] = df[\"description\"].str.split(\"_\").str[0] + \"_\" + df[\"description\"].str.split(\"_\").str[1] + \"_\" + df[\"description\"].str.split(\"_\").str[2] + \"_\" + df[\"description\"].str.split(\"_\").str[3]\n"
   ]
  },
  {
   "cell_type": "code",
   "execution_count": 4,
   "metadata": {},
   "outputs": [
    {
     "name": "stdout",
     "output_type": "stream",
     "text": [
      "              description  rms_to_template            abego_loop  vdw_dimer\n",
      "0      B_h_0001_0017_0001         0.435983  BBBAAABBBBAAAGBBBBAA   0.542030\n",
      "1      B_h_0001_0017_0002         0.366253  BBBAAABBBBAAAGBBBBAA   0.542030\n",
      "2      B_h_0001_0017_0003         0.169783  BBBAAABBBBAAAGBBBBAA   0.542030\n",
      "3      B_h_0001_0017_0004         0.205891  BBBAAABBBBAAAGBBBBAA   0.542030\n",
      "4      B_h_0001_0017_0005         0.262500  BBBAAABBBBAAAGBBBBAA   0.542030\n",
      "5      B_h_0001_0017_0006         0.189150  BBBAAABBBBAAAGBBBBAA   0.542030\n",
      "6      B_h_0001_0017_0007         0.230790  BBBAAABBBBAAAGBBBBAA   0.542030\n",
      "7      B_h_0001_0017_0008         0.307711  BBBAAABBBBAAAGBBBBAA   0.542030\n",
      "8      B_h_0001_0017_0009         0.194958  BBBAAABBBBAAAGBBBBAA   0.614531\n",
      "9      B_h_0001_0017_0010         0.241155  BBBAAABBBBAAAGBBBBAB   0.548704\n",
      "10     B_h_0001_0017_0011         0.142456  BBBAAABBBBAAAGBBBBAA   0.542030\n",
      "11     B_h_0001_0017_0012         0.389443  BBBAAABBBBAAAGBBBBAA   0.542030\n",
      "12     B_h_0001_0017_0013         0.224224  BBBAAABBBBAAAGBBBBAA   0.542030\n",
      "13     B_h_0001_0017_0014         0.164909  BBBAAABBBBAAAGBBBBAA   0.542030\n",
      "14     B_h_0001_0017_0015         0.737750  BBBAAABBBBAAAGBBBBAO   2.848626\n",
      "15     B_h_0001_0017_0016         0.381357  BBBAAABBBBAAAGBBBBAA   0.542030\n",
      "16     B_h_0001_0017_0017         0.688242  BBBAAABBBBAAGABBBBAA   0.542030\n",
      "17     B_h_0001_0017_0018         0.221620  BBBAAABBBBAAAGBBBBAA   0.542030\n",
      "18     B_h_0001_0017_0019         0.361738  BBBAAABBBBAAAGBBBBAA   0.542030\n",
      "19     B_h_0001_0017_0020         0.154555  BBBAAABBBBAAAGBBBBAA   0.542030\n",
      "20     B_h_0001_0017_0021         0.322019  BBBAAABBBBAAAGBBBBAA   0.542030\n",
      "21     B_h_0001_0017_0022         0.108375  BBBAAABBBBAAAGBBBBAA   0.542030\n",
      "22     B_h_0001_0017_0023         0.181285  BBBAAABBBBAAAGBBBBAA   0.542030\n",
      "23     B_h_0001_0017_0024         0.223392  BBBAAABBBBAAAGBBBBAA   0.542030\n",
      "24     B_h_0001_0017_0025         0.209282  BBBAAABBBBAAAGBBBBAA   0.542030\n",
      "25     B_h_0001_0017_0026         0.731862  BBBAAABBBBAAAGBBBBAA   2.858575\n",
      "26     B_h_0001_0017_0027         0.170375  BBBAAABBBBAAAGBBBBAA   0.542030\n",
      "27     B_h_0001_0017_0028         0.171558  BBBAAABBBBAAAGBBBBAA   0.542030\n",
      "28     B_h_0001_0017_0029         0.190334  BBBAAABBBBAAAGBBBBAA   0.542030\n",
      "29     B_h_0001_0017_0030         0.167848  BBBAAABBBBAAAGBBBBAA   0.542030\n",
      "...                   ...              ...                   ...        ...\n",
      "10077  B_h_0001_0015_0021         0.134568  BBBABBBBAAEBBBBAAOGA   0.544170\n",
      "10078  B_h_0001_0015_0022         0.367702  BBBABBBBAAEBBBBAAOGA   0.542030\n",
      "10079  B_h_0001_0015_0023         0.134412  BBBABBBBAAEBBBBAAOGA   0.559203\n",
      "10080  B_h_0001_0015_0024         0.144370  BBBABBBBAAEBBBBAAOGA   0.564759\n",
      "10081  B_h_0001_0015_0025         0.220113  BBBABBBBAAEBBBBAAOGA   0.563676\n",
      "10082  B_h_0001_0015_0026         0.407856  BBBABBBBAAEBBBBAAOGA   0.542030\n",
      "10083  B_h_0001_0015_0027         0.156630  BBBABBBBAAEBBBBAAOGA   0.544185\n",
      "10084  B_h_0001_0015_0028         0.228770  BBBABBBBAAEBBBBAAOGA   0.555839\n",
      "10085  B_h_0001_0015_0029         0.132869  BBBABBBBAAEBBBBAAOGA   0.556208\n",
      "10086  B_h_0001_0015_0030         0.219559  BBBABBBBAAEBBBBAAOGA   0.561489\n",
      "10087  B_h_0001_0015_0031         0.136043  BBBABBBBAAEBBBBAAOGA   0.542030\n",
      "10088  B_h_0001_0015_0032         0.140988  BBBABBBBAAEBBBBAAOGA   0.546891\n",
      "10089  B_h_0001_0015_0033         0.138718  BBBABBBBAAEBBBBAAOGA   0.559529\n",
      "10090  B_h_0001_0015_0034         0.360055  BBBABBBBAAEBBBBAAOGA   0.542030\n",
      "10091  B_h_0001_0015_0035         0.137169  BBBABBBBAAEBBBBAAOGA   0.557068\n",
      "10092  B_h_0001_0015_0036         0.225405  BBBABBBBAAEBBBBAAOGA   0.573689\n",
      "10093  B_h_0001_0015_0037         0.146682  BBBABBBBAAEBBBBAAOGA   0.570200\n",
      "10094  B_h_0001_0015_0038         0.597407  BBBOBBABAABBBBBAAOGA   0.542030\n",
      "10095  B_h_0001_0015_0039         0.136069  BBBABBBBAAEBBBBAAOGA   0.553084\n",
      "10096  B_h_0001_0015_0040         0.208460  BBBABBBBAAEBBBBAAOGA   0.567928\n",
      "10097  B_h_0001_0015_0041         0.156655  BBBABBBBAAEBBBBAAOGA   0.542030\n",
      "10098  B_h_0001_0015_0042         0.127059  BBBABBBBAAEBBBBAAOGA   0.564046\n",
      "10099  B_h_0001_0015_0043         0.139533  BBBABBBBAAEBBBBAAOGA   0.542030\n",
      "10100  B_h_0001_0015_0044         0.215140  BBBABBBBAAEBBBBAAOGA   0.561880\n",
      "10101  B_h_0001_0015_0045         0.139392  BBBABBBBAAEBBBBAAOGA   0.570473\n",
      "10102  B_h_0001_0015_0046         0.139461  BBBABBBBAAEBBBBAAOGA   0.561874\n",
      "10103  B_h_0001_0015_0047         0.136949  BBBABBBBAAEBBBBAAOGA   0.546306\n",
      "10104  B_h_0001_0015_0048         0.207313  BBBABBBBAAEBBBBAAOGA   0.567423\n",
      "10105  B_h_0001_0015_0049         0.142800  BBBABBBBAAEBBBBAAOGA   0.542030\n",
      "10106  B_h_0001_0015_0050         0.216303  BBBABBBBAAEBBBBAAOGA   0.560391\n",
      "\n",
      "[70542 rows x 4 columns]\n"
     ]
    }
   ],
   "source": [
    "ddata = pd.concat(pd.read_pickle(f) for f in glob.glob(\"../hybrid_data_*2.pkl\"))\n",
    "print(ddata)"
   ]
  },
  {
   "cell_type": "code",
   "execution_count": 8,
   "metadata": {},
   "outputs": [
    {
     "name": "stdout",
     "output_type": "stream",
     "text": [
      "              description  rms_to_template            abego_loop  vdw_dimer  \\\n",
      "0      B_h_0001_0017_0001         0.435983  BBBAAABBBBAAAGBBBBAA   0.542030   \n",
      "1      B_h_0001_0017_0002         0.366253  BBBAAABBBBAAAGBBBBAA   0.542030   \n",
      "2      B_h_0001_0017_0003         0.169783  BBBAAABBBBAAAGBBBBAA   0.542030   \n",
      "3      B_h_0001_0017_0004         0.205891  BBBAAABBBBAAAGBBBBAA   0.542030   \n",
      "4      B_h_0001_0017_0005         0.262500  BBBAAABBBBAAAGBBBBAA   0.542030   \n",
      "5      B_h_0001_0017_0006         0.189150  BBBAAABBBBAAAGBBBBAA   0.542030   \n",
      "6      B_h_0001_0017_0007         0.230790  BBBAAABBBBAAAGBBBBAA   0.542030   \n",
      "7      B_h_0001_0017_0008         0.307711  BBBAAABBBBAAAGBBBBAA   0.542030   \n",
      "8      B_h_0001_0017_0009         0.194958  BBBAAABBBBAAAGBBBBAA   0.614531   \n",
      "9      B_h_0001_0017_0010         0.241155  BBBAAABBBBAAAGBBBBAB   0.548704   \n",
      "10     B_h_0001_0017_0011         0.142456  BBBAAABBBBAAAGBBBBAA   0.542030   \n",
      "11     B_h_0001_0017_0012         0.389443  BBBAAABBBBAAAGBBBBAA   0.542030   \n",
      "12     B_h_0001_0017_0013         0.224224  BBBAAABBBBAAAGBBBBAA   0.542030   \n",
      "13     B_h_0001_0017_0014         0.164909  BBBAAABBBBAAAGBBBBAA   0.542030   \n",
      "14     B_h_0001_0017_0015         0.737750  BBBAAABBBBAAAGBBBBAO   2.848626   \n",
      "15     B_h_0001_0017_0016         0.381357  BBBAAABBBBAAAGBBBBAA   0.542030   \n",
      "16     B_h_0001_0017_0017         0.688242  BBBAAABBBBAAGABBBBAA   0.542030   \n",
      "17     B_h_0001_0017_0018         0.221620  BBBAAABBBBAAAGBBBBAA   0.542030   \n",
      "18     B_h_0001_0017_0019         0.361738  BBBAAABBBBAAAGBBBBAA   0.542030   \n",
      "19     B_h_0001_0017_0020         0.154555  BBBAAABBBBAAAGBBBBAA   0.542030   \n",
      "20     B_h_0001_0017_0021         0.322019  BBBAAABBBBAAAGBBBBAA   0.542030   \n",
      "21     B_h_0001_0017_0022         0.108375  BBBAAABBBBAAAGBBBBAA   0.542030   \n",
      "22     B_h_0001_0017_0023         0.181285  BBBAAABBBBAAAGBBBBAA   0.542030   \n",
      "23     B_h_0001_0017_0024         0.223392  BBBAAABBBBAAAGBBBBAA   0.542030   \n",
      "24     B_h_0001_0017_0025         0.209282  BBBAAABBBBAAAGBBBBAA   0.542030   \n",
      "25     B_h_0001_0017_0026         0.731862  BBBAAABBBBAAAGBBBBAA   2.858575   \n",
      "26     B_h_0001_0017_0027         0.170375  BBBAAABBBBAAAGBBBBAA   0.542030   \n",
      "27     B_h_0001_0017_0028         0.171558  BBBAAABBBBAAAGBBBBAA   0.542030   \n",
      "28     B_h_0001_0017_0029         0.190334  BBBAAABBBBAAAGBBBBAA   0.542030   \n",
      "29     B_h_0001_0017_0030         0.167848  BBBAAABBBBAAAGBBBBAA   0.542030   \n",
      "...                   ...              ...                   ...        ...   \n",
      "10077  B_h_0001_0015_0021         0.134568  BBBABBBBAAEBBBBAAOGA   0.544170   \n",
      "10078  B_h_0001_0015_0022         0.367702  BBBABBBBAAEBBBBAAOGA   0.542030   \n",
      "10079  B_h_0001_0015_0023         0.134412  BBBABBBBAAEBBBBAAOGA   0.559203   \n",
      "10080  B_h_0001_0015_0024         0.144370  BBBABBBBAAEBBBBAAOGA   0.564759   \n",
      "10081  B_h_0001_0015_0025         0.220113  BBBABBBBAAEBBBBAAOGA   0.563676   \n",
      "10082  B_h_0001_0015_0026         0.407856  BBBABBBBAAEBBBBAAOGA   0.542030   \n",
      "10083  B_h_0001_0015_0027         0.156630  BBBABBBBAAEBBBBAAOGA   0.544185   \n",
      "10084  B_h_0001_0015_0028         0.228770  BBBABBBBAAEBBBBAAOGA   0.555839   \n",
      "10085  B_h_0001_0015_0029         0.132869  BBBABBBBAAEBBBBAAOGA   0.556208   \n",
      "10086  B_h_0001_0015_0030         0.219559  BBBABBBBAAEBBBBAAOGA   0.561489   \n",
      "10087  B_h_0001_0015_0031         0.136043  BBBABBBBAAEBBBBAAOGA   0.542030   \n",
      "10088  B_h_0001_0015_0032         0.140988  BBBABBBBAAEBBBBAAOGA   0.546891   \n",
      "10089  B_h_0001_0015_0033         0.138718  BBBABBBBAAEBBBBAAOGA   0.559529   \n",
      "10090  B_h_0001_0015_0034         0.360055  BBBABBBBAAEBBBBAAOGA   0.542030   \n",
      "10091  B_h_0001_0015_0035         0.137169  BBBABBBBAAEBBBBAAOGA   0.557068   \n",
      "10092  B_h_0001_0015_0036         0.225405  BBBABBBBAAEBBBBAAOGA   0.573689   \n",
      "10093  B_h_0001_0015_0037         0.146682  BBBABBBBAAEBBBBAAOGA   0.570200   \n",
      "10094  B_h_0001_0015_0038         0.597407  BBBOBBABAABBBBBAAOGA   0.542030   \n",
      "10095  B_h_0001_0015_0039         0.136069  BBBABBBBAAEBBBBAAOGA   0.553084   \n",
      "10096  B_h_0001_0015_0040         0.208460  BBBABBBBAAEBBBBAAOGA   0.567928   \n",
      "10097  B_h_0001_0015_0041         0.156655  BBBABBBBAAEBBBBAAOGA   0.542030   \n",
      "10098  B_h_0001_0015_0042         0.127059  BBBABBBBAAEBBBBAAOGA   0.564046   \n",
      "10099  B_h_0001_0015_0043         0.139533  BBBABBBBAAEBBBBAAOGA   0.542030   \n",
      "10100  B_h_0001_0015_0044         0.215140  BBBABBBBAAEBBBBAAOGA   0.561880   \n",
      "10101  B_h_0001_0015_0045         0.139392  BBBABBBBAAEBBBBAAOGA   0.570473   \n",
      "10102  B_h_0001_0015_0046         0.139461  BBBABBBBAAEBBBBAAOGA   0.561874   \n",
      "10103  B_h_0001_0015_0047         0.136949  BBBABBBBAAEBBBBAAOGA   0.546306   \n",
      "10104  B_h_0001_0015_0048         0.207313  BBBABBBBAAEBBBBAAOGA   0.567423   \n",
      "10105  B_h_0001_0015_0049         0.142800  BBBABBBBAAEBBBBAAOGA   0.542030   \n",
      "10106  B_h_0001_0015_0050         0.216303  BBBABBBBAAEBBBBAAOGA   0.560391   \n",
      "\n",
      "      cis_pro  \n",
      "0          []  \n",
      "1          []  \n",
      "2          []  \n",
      "3          []  \n",
      "4          []  \n",
      "5          []  \n",
      "6          []  \n",
      "7          []  \n",
      "8          []  \n",
      "9          []  \n",
      "10         []  \n",
      "11         []  \n",
      "12         []  \n",
      "13         []  \n",
      "14        [O]  \n",
      "15         []  \n",
      "16         []  \n",
      "17         []  \n",
      "18         []  \n",
      "19         []  \n",
      "20         []  \n",
      "21         []  \n",
      "22         []  \n",
      "23         []  \n",
      "24         []  \n",
      "25         []  \n",
      "26         []  \n",
      "27         []  \n",
      "28         []  \n",
      "29         []  \n",
      "...       ...  \n",
      "10077     [O]  \n",
      "10078     [O]  \n",
      "10079     [O]  \n",
      "10080     [O]  \n",
      "10081     [O]  \n",
      "10082     [O]  \n",
      "10083     [O]  \n",
      "10084     [O]  \n",
      "10085     [O]  \n",
      "10086     [O]  \n",
      "10087     [O]  \n",
      "10088     [O]  \n",
      "10089     [O]  \n",
      "10090     [O]  \n",
      "10091     [O]  \n",
      "10092     [O]  \n",
      "10093     [O]  \n",
      "10094  [O, O]  \n",
      "10095     [O]  \n",
      "10096     [O]  \n",
      "10097     [O]  \n",
      "10098     [O]  \n",
      "10099     [O]  \n",
      "10100     [O]  \n",
      "10101     [O]  \n",
      "10102     [O]  \n",
      "10103     [O]  \n",
      "10104     [O]  \n",
      "10105     [O]  \n",
      "10106     [O]  \n",
      "\n",
      "[70542 rows x 5 columns]\n"
     ]
    }
   ],
   "source": [
    "ddata[\"cis_pro\"] = ddata[\"abego_loop\"].str.findall(\"O\")\n",
    "print(ddata)"
   ]
  },
  {
   "cell_type": "code",
   "execution_count": 9,
   "metadata": {},
   "outputs": [
    {
     "data": {
      "text/plain": [
       "<matplotlib.axes._subplots.AxesSubplot at 0x7fec64fd57f0>"
      ]
     },
     "execution_count": 9,
     "metadata": {},
     "output_type": "execute_result"
    },
    {
     "data": {
      "image/png": "[encoded data removed]",
      "text/plain": [
       "<matplotlib.figure.Figure at 0x7fec62b7bcf8>"
      ]
     },
     "metadata": {
      "needs_background": "light"
     },
     "output_type": "display_data"
    }
   ],
   "source": [
    "ddata[\"rms_to_template\"].hist(bins=100)"
   ]
  },
  {
   "cell_type": "code",
   "execution_count": 10,
   "metadata": {},
   "outputs": [
    {
     "name": "stdout",
     "output_type": "stream",
     "text": [
      "       SCORE:  total_score  atom_pair_constraint   cbeta  cenpack  \\\n",
      "0      SCORE:       82.370                   0.0  53.225   -0.225   \n",
      "1      SCORE:       86.072                   0.0  52.959   -0.703   \n",
      "2      SCORE:       82.205                   0.0  52.223   -1.390   \n",
      "3      SCORE:       83.346                   0.0  53.005   -1.790   \n",
      "4      SCORE:       81.202                   0.0  52.127   -2.771   \n",
      "5      SCORE:       83.992                   0.0  52.422   -0.097   \n",
      "6      SCORE:       80.987                   0.0  52.605   -1.370   \n",
      "7      SCORE:       87.293                   0.0  52.704    1.591   \n",
      "8      SCORE:       82.118                   0.0  52.883   -1.918   \n",
      "9      SCORE:       84.475                   0.0  52.951   -1.048   \n",
      "10     SCORE:       87.627                   0.0  52.973    0.395   \n",
      "11     SCORE:       85.756                   0.0  52.575   -0.879   \n",
      "12     SCORE:       88.240                   0.0  52.779    0.343   \n",
      "13     SCORE:       87.173                   0.0  53.200   -0.795   \n",
      "14     SCORE:       78.549                   0.0  51.772   -2.669   \n",
      "15     SCORE:       83.241                   0.0  52.224   -1.995   \n",
      "16     SCORE:       85.289                   0.0  53.731   -0.168   \n",
      "17     SCORE:       81.274                   0.0  52.256   -0.811   \n",
      "18     SCORE:       84.181                   0.0  53.285   -2.783   \n",
      "19     SCORE:       84.774                   0.0  53.814   -2.403   \n",
      "20     SCORE:       79.087                   0.0  51.656   -1.294   \n",
      "21     SCORE:       79.873                   0.0  52.043   -1.961   \n",
      "22     SCORE:       96.150                   0.0  53.053    1.767   \n",
      "23     SCORE:      106.395                   0.0  53.289    5.648   \n",
      "24     SCORE:       80.695                   0.0  52.217   -3.837   \n",
      "25     SCORE:       79.432                   0.0  53.040   -3.331   \n",
      "26     SCORE:       87.173                   0.0  53.516    1.087   \n",
      "27     SCORE:       82.172                   0.0  52.634   -2.188   \n",
      "28     SCORE:       82.220                   0.0  52.837   -1.553   \n",
      "29     SCORE:       78.088                   0.0  52.748   -3.028   \n",
      "...       ...          ...                   ...     ...      ...   \n",
      "70512  SCORE:       79.911                   0.0  47.605    0.919   \n",
      "70513  SCORE:       79.513                   0.0  47.553    0.664   \n",
      "70514  SCORE:       84.287                   0.0  47.621    3.340   \n",
      "70515  SCORE:       83.332                   0.0  47.644    2.737   \n",
      "70516  SCORE:       83.241                   0.0  47.651    2.573   \n",
      "70517  SCORE:       79.209                   0.0  47.553    0.352   \n",
      "70518  SCORE:       80.717                   0.0  47.815    0.827   \n",
      "70519  SCORE:       84.306                   0.0  47.638    3.322   \n",
      "70520  SCORE:       83.003                   0.0  47.640    2.462   \n",
      "70521  SCORE:       80.590                   0.0  47.831    0.283   \n",
      "70522  SCORE:       80.234                   0.0  47.639    0.933   \n",
      "70523  SCORE:       98.113                   0.0  51.182    3.416   \n",
      "70524  SCORE:       96.510                   0.0  50.610    6.201   \n",
      "70525  SCORE:       90.922                   0.0  51.387   -2.144   \n",
      "70526  SCORE:       91.069                   0.0  51.322   -1.951   \n",
      "70527  SCORE:       89.140                   0.0  51.642   -1.498   \n",
      "70528  SCORE:       91.478                   0.0  49.806   -1.532   \n",
      "70529  SCORE:       82.307                   0.0  51.345   -5.019   \n",
      "70530  SCORE:       88.993                   0.0  51.092   -1.025   \n",
      "70531  SCORE:       95.621                   0.0  50.602    2.612   \n",
      "70532  SCORE:       87.949                   0.0  51.186   -0.047   \n",
      "70533  SCORE:      111.955                   0.0  51.438    7.039   \n",
      "70534  SCORE:       94.133                   0.0  51.258    0.544   \n",
      "70535  SCORE:       91.238                   0.0  51.101   -0.804   \n",
      "70536  SCORE:       91.551                   0.0  52.494    0.586   \n",
      "70537  SCORE:       95.824                   0.0  51.057    3.129   \n",
      "70538  SCORE:       91.542                   0.0  51.580   -2.102   \n",
      "70539  SCORE:       89.993                   0.0  51.972   -0.035   \n",
      "70540  SCORE:       84.056                   0.0  51.524   -3.853   \n",
      "70541  SCORE:      103.361                   0.0  50.910    3.124   \n",
      "\n",
      "       chainbreak_posthyb     env  hs_pair  linear_chainbreak    pair  \\\n",
      "0                     1.0 -19.204    0.000                0.0  -9.809   \n",
      "1                     0.0 -16.372    0.000                0.0  -7.687   \n",
      "2                     1.0 -18.678    0.000                0.0  -8.304   \n",
      "3                     1.0 -18.210    0.000                0.0  -7.187   \n",
      "4                     1.0 -18.219    0.000                0.0  -7.603   \n",
      "5                     1.0 -18.909    0.081                0.0  -7.889   \n",
      "6                     1.0 -19.523    0.000                0.0  -8.528   \n",
      "7                     1.0 -16.838    0.000                0.0  -7.898   \n",
      "8                     1.0 -18.277    0.000                0.0  -8.364   \n",
      "9                     1.0 -17.519    0.000                0.0  -7.140   \n",
      "10                    1.0 -15.848    0.000                0.0  -8.189   \n",
      "11                    1.0 -16.271    0.000                0.0  -8.075   \n",
      "12                    0.0 -15.654    0.000                0.0  -7.972   \n",
      "13                    1.0 -15.201    0.000                0.0  -7.550   \n",
      "14                    1.0 -20.132   -0.102                0.0  -7.701   \n",
      "15                    1.0 -18.104   -0.102                0.0  -7.359   \n",
      "16                    1.0 -18.713    0.000                0.0  -7.804   \n",
      "17                    1.0 -18.986    0.000                0.0  -9.123   \n",
      "18                    1.0 -16.950    0.000                0.0  -7.991   \n",
      "19                    1.0 -16.937    0.000                0.0  -7.369   \n",
      "20                    1.0 -19.560    0.000                0.0  -9.266   \n",
      "21                    1.0 -19.597    0.000                0.0  -8.302   \n",
      "22                    1.0 -14.624    0.147                0.0  -9.597   \n",
      "23                    1.0 -16.238   -0.059                0.0  -8.399   \n",
      "24                    1.0 -19.485    0.176                0.0  -6.514   \n",
      "25                    1.0 -19.151    0.000                0.0  -8.682   \n",
      "26                    1.0 -17.452    0.000                0.0  -8.218   \n",
      "27                    1.0 -18.126    0.000                0.0  -8.775   \n",
      "28                    1.0 -17.728    0.000                0.0  -9.268   \n",
      "29                    1.0 -19.392    0.000                0.0  -9.404   \n",
      "...                   ...     ...      ...                ...     ...   \n",
      "70512                 0.0  -9.949    0.000                0.0 -11.295   \n",
      "70513                 0.0 -10.025    0.000                0.0 -11.267   \n",
      "70514                 0.0  -9.132    0.000                0.0 -10.221   \n",
      "70515                 0.0  -9.132    0.000                0.0 -10.527   \n",
      "70516                 0.0  -9.132    0.000                0.0 -10.474   \n",
      "70517                 0.0 -10.025    0.000                0.0 -11.257   \n",
      "70518                 0.0  -9.249    0.000                0.0 -11.267   \n",
      "70519                 0.0  -9.132    0.000                0.0 -10.202   \n",
      "70520                 0.0  -9.132    0.000                0.0 -10.575   \n",
      "70521                 0.0  -9.611    0.000                0.0 -10.513   \n",
      "70522                 0.0  -9.686    0.000                0.0 -11.278   \n",
      "70523                 1.0  -5.834    0.000                0.0 -10.727   \n",
      "70524                 1.0  -4.477    0.000                0.0 -11.528   \n",
      "70525                 1.0  -4.991    0.000                0.0  -8.482   \n",
      "70526                 0.0  -5.547    0.000                0.0  -7.650   \n",
      "70527                 1.0  -6.820    0.000                0.0 -10.029   \n",
      "70528                 1.0  -2.775    0.000                0.0  -9.773   \n",
      "70529                 1.0  -8.817    0.000                0.0 -11.028   \n",
      "70530                 1.0  -8.074    0.000                0.0  -9.822   \n",
      "70531                 1.0  -9.120    0.000                0.0  -8.204   \n",
      "70532                 1.0  -5.628    0.000                0.0 -12.649   \n",
      "70533                 1.0  -8.394    0.000                0.0 -10.180   \n",
      "70534                 1.0  -4.300    0.000                0.0  -9.406   \n",
      "70535                 1.0  -3.225    0.000                0.0 -11.652   \n",
      "70536                 1.0  -6.676    0.000                0.0  -9.578   \n",
      "70537                 1.0  -8.635    0.000                0.0  -6.952   \n",
      "70538                 1.0  -5.278    0.000                0.0  -8.875   \n",
      "70539                 1.0  -7.333    0.000                0.0  -9.371   \n",
      "70540                 1.0 -10.468    0.000                0.0  -8.211   \n",
      "70541                 1.0  -4.353    0.000                0.0  -9.091   \n",
      "\n",
      "        ...     rsigma  sheet  ss_pair     vdw         description  \\\n",
      "0       ...        0.0  3.776      0.0   1.161  K_c_0001_0242_0001   \n",
      "1       ...        0.0  3.776      0.0   0.500  K_c_0001_0242_0002   \n",
      "2       ...        0.0  3.776      0.0   1.132  K_c_0001_0242_0003   \n",
      "3       ...        0.0  3.776      0.0   0.387  K_c_0001_0242_0004   \n",
      "4       ...        0.0  3.776      0.0   0.360  K_c_0001_0242_0005   \n",
      "5       ...        0.0  3.776      0.0   0.988  K_c_0001_0242_0006   \n",
      "6       ...        0.0  3.776      0.0   0.421  K_c_0001_0242_0007   \n",
      "7       ...        0.0  3.776      0.0   0.441  K_c_0001_0242_0008   \n",
      "8       ...        0.0  3.776      0.0   0.454  K_c_0001_0242_0009   \n",
      "9       ...        0.0  3.776      0.0   0.389  K_c_0001_0242_0010   \n",
      "10      ...        0.0  3.776      0.0   0.974  K_c_0001_0242_0011   \n",
      "11      ...        0.0  3.776      0.0   0.900  K_c_0001_0242_0012   \n",
      "12      ...        0.0  3.776      0.0   1.320  K_c_0001_0242_0013   \n",
      "13      ...        0.0  3.776      0.0   0.337  K_c_0001_0242_0014   \n",
      "14      ...        0.0  3.776      0.0   0.310  K_c_0001_0242_0015   \n",
      "15      ...        0.0  3.776      0.0   1.309  K_c_0001_0242_0016   \n",
      "16      ...        0.0  3.776      0.0   0.776  K_c_0001_0242_0017   \n",
      "17      ...        0.0  3.776      0.0   0.816  K_c_0001_0242_0018   \n",
      "18      ...        0.0  3.776      0.0   1.372  K_c_0001_0242_0019   \n",
      "19      ...        0.0  3.776      0.0   0.305  K_c_0001_0242_0020   \n",
      "20      ...        0.0  3.776      0.0   0.387  K_c_0001_0242_0021   \n",
      "21      ...        0.0  3.776      0.0   0.702  K_c_0001_0242_0022   \n",
      "22      ...        0.0  3.776      0.0   7.856  K_c_0001_0242_0023   \n",
      "23      ...        0.0  3.776      0.0  14.887  K_c_0001_0242_0024   \n",
      "24      ...        0.0  3.776      0.0   1.164  K_c_0001_0242_0025   \n",
      "25      ...        0.0  3.776      0.0   0.393  K_c_0001_0242_0026   \n",
      "26      ...        0.0  3.776      0.0   1.010  K_c_0001_0242_0027   \n",
      "27      ...        0.0  3.776      0.0   1.285  K_c_0001_0242_0028   \n",
      "28      ...        0.0  3.776      0.0   0.757  K_c_0001_0242_0029   \n",
      "29      ...        0.0  3.776      0.0   0.310  K_c_0001_0242_0030   \n",
      "...     ...        ...    ...      ...     ...                 ...   \n",
      "70512   ...        0.0  3.776      0.0   0.229  N_f_0001_0206_0040   \n",
      "70513   ...        0.0  3.776      0.0   0.229  N_f_0001_0206_0041   \n",
      "70514   ...        0.0  3.776      0.0   0.232  N_f_0001_0206_0042   \n",
      "70515   ...        0.0  3.776      0.0   0.233  N_f_0001_0206_0043   \n",
      "70516   ...        0.0  3.776      0.0   0.232  N_f_0001_0206_0044   \n",
      "70517   ...        0.0  3.776      0.0   0.229  N_f_0001_0206_0045   \n",
      "70518   ...        0.0  3.776      0.0   0.229  N_f_0001_0206_0046   \n",
      "70519   ...        0.0  3.776      0.0   0.232  N_f_0001_0206_0047   \n",
      "70520   ...        0.0  3.776      0.0   0.233  N_f_0001_0206_0048   \n",
      "70521   ...        0.0  3.776      0.0   0.230  N_f_0001_0206_0049   \n",
      "70522   ...        0.0  3.776      0.0   0.229  N_f_0001_0206_0050   \n",
      "70523   ...        0.0  3.776      0.0   5.123  N_d_0001_0188_0002   \n",
      "70524   ...        0.0  3.776      0.0   1.445  N_d_0001_0188_0006   \n",
      "70525   ...        0.0  3.776      0.0   0.560  N_d_0001_0188_0011   \n",
      "70526   ...        0.0  3.776      0.0   0.401  N_d_0001_0188_0013   \n",
      "70527   ...        0.0  3.776      0.0   1.205  N_d_0001_0188_0014   \n",
      "70528   ...        0.0  3.776      0.0   0.305  N_d_0001_0188_0018   \n",
      "70529   ...        0.0  3.776      0.0   0.509  N_d_0001_0188_0019   \n",
      "70530   ...        0.0  3.776      0.0   1.640  N_d_0001_0188_0022   \n",
      "70531   ...        0.0  3.776      0.0   4.942  N_d_0001_0188_0025   \n",
      "70532   ...        0.0  3.776      0.0   0.607  N_d_0001_0188_0026   \n",
      "70533   ...        0.0  3.776      0.0  17.727  N_d_0001_0188_0027   \n",
      "70534   ...        0.0  3.776      0.0   0.590  N_d_0001_0188_0029   \n",
      "70535   ...        0.0  3.776      0.0   0.821  N_d_0001_0188_0030   \n",
      "70536   ...        0.0  3.776      0.0   0.301  N_d_0001_0188_0037   \n",
      "70537   ...        0.0  3.776      0.0   2.744  N_d_0001_0188_0038   \n",
      "70538   ...        0.0  3.776      0.0   1.281  N_d_0001_0188_0043   \n",
      "70539   ...        0.0  3.776      0.0   0.513  N_d_0001_0188_0048   \n",
      "70540   ...        0.0  3.776      0.0   0.791  N_d_0001_0188_0049   \n",
      "70541   ...        0.0  3.776      0.0   7.905  N_d_0001_0188_0050   \n",
      "\n",
      "            scaffold rms_to_template                abego_loop  vdw_dimer  \\\n",
      "0      K_c_0001_0242        0.556027  BBBABAGBGBBAAAAAAAAAAAAA   1.021848   \n",
      "1      K_c_0001_0242        0.702002  BBBBEBABGBBAAAAAAAAAAAAA   1.996065   \n",
      "2      K_c_0001_0242        0.815678  BBBABAGBGBBAAAAAAAAAAAAA   1.063037   \n",
      "3      K_c_0001_0242        0.806978  BBBBBBABGBBAAAAAAAAAAAAA   1.337298   \n",
      "4      K_c_0001_0242        0.818906  BBBAEAGBGBBAAAAAAAAAAAAA   1.029708   \n",
      "5      K_c_0001_0242        0.488746  BBBBEAGBGBBAAAAAAAAAAAAA   1.189110   \n",
      "6      K_c_0001_0242        0.879193  BBBBBGBAABBAAAAAAAAAAAAA   0.958373   \n",
      "7      K_c_0001_0242        0.829987  BBBAGBBBGBBAAAAAAAAAAAAB   2.446004   \n",
      "8      K_c_0001_0242        0.599282  BBBBEAGBGBBAAAAAAAAAAAAA   1.199348   \n",
      "9      K_c_0001_0242        0.838275  BBBOGAGBGBBAAAAAAAAAAAAA   0.950915   \n",
      "10     K_c_0001_0242        0.707183  BBBBEAGBGBBAAAAAAAAAAAAA   0.951233   \n",
      "11     K_c_0001_0242        0.413798  BBBOBAGBGBBAAAAAAAAAAAAA   2.028561   \n",
      "12     K_c_0001_0242        0.606056  BBBOEAGBGBBAAAAAAAAAAAAA   0.950962   \n",
      "13     K_c_0001_0242        0.858342  BBBABAGBGBBAAAAAAAAAAAAA   0.986158   \n",
      "14     K_c_0001_0242        0.951698  BBBBEABAABBAAAAAAAAAAAAA   0.993314   \n",
      "15     K_c_0001_0242        0.542241  BBBAEBBBGBBAAAAAAAAAAAAA   1.058725   \n",
      "16     K_c_0001_0242        0.693673  BBBBBBBBBBBAAAAAAAAAAAAA   1.244861   \n",
      "17     K_c_0001_0242        0.754995  BBBAGAGBGBBAAAAAAAAAAAAA   1.027273   \n",
      "18     K_c_0001_0242        0.643094  BBBBEBABGBBAAAAAAAAAAAAA   0.950915   \n",
      "19     K_c_0001_0242        0.628835  BBABEBBBGBBAAAAAAAAAAAAA   0.950915   \n",
      "20     K_c_0001_0242        0.714076  BBBBAAGBGBBAAAAAAAAAAAAA   1.460722   \n",
      "21     K_c_0001_0242        0.902134  BBBBBBBBBBBAAAAAAAAAAAAA   1.370806   \n",
      "22     K_c_0001_0242        0.939324  BBBEEBBBGAAAAAAAAAAAAAAA  14.358865   \n",
      "23     K_c_0001_0242        0.762201  BBBBEBBBGBBAAAAAAAAAAAAA  29.288489   \n",
      "24     K_c_0001_0242        0.801886  BEEBEBBBBBBAAAAAAAAAAAAA   0.955820   \n",
      "25     K_c_0001_0242        0.729669  BBBOABABGBBAAAAAAAAAAAAA   1.119429   \n",
      "26     K_c_0001_0242        0.579074  BBBBAAGBGBBAAAAAAAAAAAAA   0.956853   \n",
      "27     K_c_0001_0242        0.511405  BBBBBAGBGBBAAAAAAAAAAAAA   1.058725   \n",
      "28     K_c_0001_0242        0.641079  BBBBEAGBGBBAAAAAAAAAAAAA   0.950915   \n",
      "29     K_c_0001_0242        1.413461  BEEOABBAABBAAAAAAAAAAAAA   0.958610   \n",
      "...              ...             ...                       ...        ...   \n",
      "70512  N_f_0001_0206        0.183360             BBAAAABBGBAAB   0.548761   \n",
      "70513  N_f_0001_0206        0.279664             BBAAAABABBAAB   0.554793   \n",
      "70514  N_f_0001_0206        0.076029             BBAAAABBGBAAB   0.597798   \n",
      "70515  N_f_0001_0206        0.186519             BBAAAABABBAAB   0.580048   \n",
      "70516  N_f_0001_0206        0.178331             BBAAAABABBAAB   0.619025   \n",
      "70517  N_f_0001_0206        0.279506             BBAAAABABBAAB   0.558908   \n",
      "70518  N_f_0001_0206        0.211158             BBAAAAOABBAAB   0.983365   \n",
      "70519  N_f_0001_0206        0.074413             BBAAAABBGBAAB   0.592607   \n",
      "70520  N_f_0001_0206        0.187760             BBAAAABABBAAB   0.581553   \n",
      "70521  N_f_0001_0206        0.183252             BBAAAAOABBAAB   1.005144   \n",
      "70522  N_f_0001_0206        0.193222             BBAAAABBGBAAB   0.548761   \n",
      "70523  N_d_0001_0188        0.967206     BBBBBOBBBBGAAAAAAAAAA  13.662077   \n",
      "70524  N_d_0001_0188        1.848845     BBBBBBBAABBBGAAAAAAAA  15.760697   \n",
      "70525  N_d_0001_0188        1.903568     BBBBABBBABBBBAAAAAAAA   1.853835   \n",
      "70526  N_d_0001_0188        1.645145     BBBBOEBBBBBABAAAAAAAA   5.361298   \n",
      "70527  N_d_0001_0188        1.814924     BBABOEBAABBBBAAAAAAAA   2.830724   \n",
      "70528  N_d_0001_0188        1.648546     BBBBBABABOBAAAAAAAAAA   1.921214   \n",
      "70529  N_d_0001_0188        1.880430     BBBBBBBBBBAAAAAAAAAAA   5.109110   \n",
      "70530  N_d_0001_0188        1.624454     BBBBBBBBBAAAAAAAAAAAA   6.633172   \n",
      "70531  N_d_0001_0188        1.973275     AOBEBBBBBAAAAAAAAAAAA  12.843799   \n",
      "70532  N_d_0001_0188        1.182333     BBAGABBBBAAAAAAAAAAAA   1.783615   \n",
      "70533  N_d_0001_0188        1.902476     BBOAABBAABBBBAAAAAAAA  38.139324   \n",
      "70534  N_d_0001_0188        1.750666     BBBBAEBBBAABGAAAAAAAA   2.878784   \n",
      "70535  N_d_0001_0188        1.410390     BBABGOBBBAOBAAAAAAAAA   8.732125   \n",
      "70536  N_d_0001_0188        1.661509     BBBAGBABGBBBBAAAAAAAA   2.023093   \n",
      "70537  N_d_0001_0188        1.670971     BBBAOOBABBBBBAAAAAAAA   7.312767   \n",
      "70538  N_d_0001_0188        1.691455     BBBBOBBAABBBBAAAAAAAA   4.808619   \n",
      "70539  N_d_0001_0188        1.927535     BAEAABBABBBABAAAAAAAA   2.055832   \n",
      "70540  N_d_0001_0188        1.873377     BBABOGBBABBBBAAAAAAAA   2.151204   \n",
      "70541  N_d_0001_0188        1.095766     BBBGEBBABABAEAAAAAAAA  19.520208   \n",
      "\n",
      "       cis_pro  \n",
      "0           []  \n",
      "1           []  \n",
      "2           []  \n",
      "3           []  \n",
      "4           []  \n",
      "5           []  \n",
      "6           []  \n",
      "7           []  \n",
      "8           []  \n",
      "9          [O]  \n",
      "10          []  \n",
      "11         [O]  \n",
      "12         [O]  \n",
      "13          []  \n",
      "14          []  \n",
      "15          []  \n",
      "16          []  \n",
      "17          []  \n",
      "18          []  \n",
      "19          []  \n",
      "20          []  \n",
      "21          []  \n",
      "22          []  \n",
      "23          []  \n",
      "24          []  \n",
      "25         [O]  \n",
      "26          []  \n",
      "27          []  \n",
      "28          []  \n",
      "29         [O]  \n",
      "...        ...  \n",
      "70512       []  \n",
      "70513       []  \n",
      "70514       []  \n",
      "70515       []  \n",
      "70516       []  \n",
      "70517       []  \n",
      "70518      [O]  \n",
      "70519       []  \n",
      "70520       []  \n",
      "70521      [O]  \n",
      "70522       []  \n",
      "70523      [O]  \n",
      "70524       []  \n",
      "70525       []  \n",
      "70526      [O]  \n",
      "70527      [O]  \n",
      "70528      [O]  \n",
      "70529       []  \n",
      "70530       []  \n",
      "70531      [O]  \n",
      "70532       []  \n",
      "70533      [O]  \n",
      "70534       []  \n",
      "70535   [O, O]  \n",
      "70536       []  \n",
      "70537   [O, O]  \n",
      "70538      [O]  \n",
      "70539       []  \n",
      "70540      [O]  \n",
      "70541       []  \n",
      "\n",
      "[70542 rows x 21 columns]\n"
     ]
    }
   ],
   "source": [
    "dall = pd.merge(df, ddata, on='description')\n",
    "print(dall)"
   ]
  },
  {
   "cell_type": "code",
   "execution_count": 11,
   "metadata": {},
   "outputs": [],
   "source": [
    "average_dall = dall.groupby(by=\"scaffold\").mean()\n",
    "std_dall = dall.groupby(by=\"scaffold\").std()"
   ]
  },
  {
   "cell_type": "code",
   "execution_count": 12,
   "metadata": {},
   "outputs": [
    {
     "data": {
      "text/plain": [
       "<matplotlib.axes._subplots.AxesSubplot at 0x7fec64e69be0>"
      ]
     },
     "execution_count": 12,
     "metadata": {},
     "output_type": "execute_result"
    },
    {
     "data": {
      "image/png": "[encoded data removed]",
      "text/plain": [
       "<matplotlib.figure.Figure at 0x7fec64f34d30>"
      ]
     },
     "metadata": {
      "needs_background": "light"
     },
     "output_type": "display_data"
    }
   ],
   "source": [
    "average_dall[\"vdw\"].hist(bins=100)"
   ]
  },
  {
   "cell_type": "code",
   "execution_count": 13,
   "metadata": {},
   "outputs": [
    {
     "data": {
      "text/plain": [
       "<matplotlib.axes._subplots.AxesSubplot at 0x7fec64c41860>"
      ]
     },
     "execution_count": 13,
     "metadata": {},
     "output_type": "execute_result"
    },
    {
     "data": {
      "image/png": "[encoded data removed]",
      "text/plain": [
       "<matplotlib.figure.Figure at 0x7fec64c7cda0>"
      ]
     },
     "metadata": {
      "needs_background": "light"
     },
     "output_type": "display_data"
    }
   ],
   "source": [
    "std_dall[\"vdw\"].hist(bins=100)"
   ]
  },
  {
   "cell_type": "code",
   "execution_count": 14,
   "metadata": {},
   "outputs": [
    {
     "data": {
      "text/plain": [
       "<matplotlib.collections.PathCollection at 0x7fc84266eda0>"
      ]
     },
     "execution_count": 14,
     "metadata": {},
     "output_type": "execute_result"
    },
    {
     "data": {
      "image/png": "[encoded data removed]",
      "text/plain": [
       "<matplotlib.figure.Figure at 0x7fc8429a3ba8>"
      ]
     },
     "metadata": {
      "needs_background": "light"
     },
     "output_type": "display_data"
    }
   ],
   "source": [
    "plt.scatter(average_dall[\"vdw\"],std_dall[\"vdw\"])"
   ]
  },
  {
   "cell_type": "code",
   "execution_count": 15,
   "metadata": {},
   "outputs": [
    {
     "data": {
      "text/plain": [
       "<matplotlib.axes._subplots.AxesSubplot at 0x7fc842686c18>"
      ]
     },
     "execution_count": 15,
     "metadata": {},
     "output_type": "execute_result"
    },
    {
     "data": {
      "image/png": "[encoded data removed]",
      "text/plain": [
       "<matplotlib.figure.Figure at 0x7fc8426264e0>"
      ]
     },
     "metadata": {
      "needs_background": "light"
     },
     "output_type": "display_data"
    }
   ],
   "source": [
    "average_dall[\"vdw_dimer\"].hist(bins=100)"
   ]
  },
  {
   "cell_type": "code",
   "execution_count": 16,
   "metadata": {},
   "outputs": [
    {
     "data": {
      "text/plain": [
       "<matplotlib.axes._subplots.AxesSubplot at 0x7fc842ee8dd8>"
      ]
     },
     "execution_count": 16,
     "metadata": {},
     "output_type": "execute_result"
    },
    {
     "data": {
      "image/png": "[encoded data removed]",
      "text/plain": [
       "<matplotlib.figure.Figure at 0x7fc8425b6828>"
      ]
     },
     "metadata": {
      "needs_background": "light"
     },
     "output_type": "display_data"
    }
   ],
   "source": [
    "std_dall[\"vdw_dimer\"].hist(bins=100)"
   ]
  },
  {
   "cell_type": "code",
   "execution_count": 14,
   "metadata": {},
   "outputs": [
    {
     "data": {
      "text/plain": [
       "<matplotlib.collections.PathCollection at 0x7fec64758860>"
      ]
     },
     "execution_count": 14,
     "metadata": {},
     "output_type": "execute_result"
    },
    {
     "data": {
      "image/png": "[encoded data removed]",
      "text/plain": [
       "<matplotlib.figure.Figure at 0x7fec649f4c18>"
      ]
     },
     "metadata": {
      "needs_background": "light"
     },
     "output_type": "display_data"
    }
   ],
   "source": [
    "plt.scatter(average_dall[\"vdw_dimer\"],std_dall[\"vdw_dimer\"])"
   ]
  },
  {
   "cell_type": "code",
   "execution_count": 18,
   "metadata": {},
   "outputs": [
    {
     "data": {
      "text/plain": [
       "<matplotlib.axes._subplots.AxesSubplot at 0x7fc83d9462b0>"
      ]
     },
     "execution_count": 18,
     "metadata": {},
     "output_type": "execute_result"
    },
    {
     "data": {
      "image/png": "[encoded data removed]",
      "text/plain": [
       "<matplotlib.figure.Figure at 0x7fc83d8e5240>"
      ]
     },
     "metadata": {
      "needs_background": "light"
     },
     "output_type": "display_data"
    }
   ],
   "source": [
    "average_dall[\"rms_to_template\"].hist(bins=100)"
   ]
  },
  {
   "cell_type": "code",
   "execution_count": 19,
   "metadata": {},
   "outputs": [
    {
     "data": {
      "text/plain": [
       "<matplotlib.axes._subplots.AxesSubplot at 0x7fc835fe9be0>"
      ]
     },
     "execution_count": 19,
     "metadata": {},
     "output_type": "execute_result"
    },
    {
     "data": {
      "image/png": "[encoded data removed]",
      "text/plain": [
       "<matplotlib.figure.Figure at 0x7fc83601d748>"
      ]
     },
     "metadata": {
      "needs_background": "light"
     },
     "output_type": "display_data"
    }
   ],
   "source": [
    "std_dall[\"rms_to_template\"].hist(bins=100)"
   ]
  },
  {
   "cell_type": "code",
   "execution_count": 15,
   "metadata": {},
   "outputs": [
    {
     "data": {
      "text/plain": [
       "<matplotlib.collections.PathCollection at 0x7fec647053c8>"
      ]
     },
     "execution_count": 15,
     "metadata": {},
     "output_type": "execute_result"
    },
    {
     "data": {
      "image/png": "[encoded data removed]",
      "text/plain": [
       "<matplotlib.figure.Figure at 0x7fec64719320>"
      ]
     },
     "metadata": {
      "needs_background": "light"
     },
     "output_type": "display_data"
    }
   ],
   "source": [
    "plt.scatter(average_dall[\"rms_to_template\"],std_dall[\"rms_to_template\"])"
   ]
  },
  {
   "cell_type": "code",
   "execution_count": 16,
   "metadata": {},
   "outputs": [
    {
     "name": "stdout",
     "output_type": "stream",
     "text": [
      "['A_b_0001_0034', 'A_b_0001_0039', 'A_b_0001_0047', 'A_b_0001_0053', 'A_b_0001_0056', 'A_b_0001_0058', 'A_b_0001_0059', 'A_b_0001_0065', 'A_b_0001_0066', 'A_b_0001_0069', 'A_b_0001_0072', 'A_b_0001_0082', 'A_b_0001_0119', 'A_b_0001_0127', 'A_c_0001_0017', 'A_c_0001_0033', 'A_c_0001_0034', 'A_c_0001_0036', 'A_c_0001_0037', 'A_c_0001_0043', 'A_c_0001_0046', 'A_c_0001_0055', 'A_c_0001_0056', 'A_c_0001_0057', 'A_c_0001_0059', 'A_c_0001_0060', 'A_c_0001_0062', 'A_c_0001_0064', 'A_c_0001_0066', 'A_c_0001_0067', 'A_c_0001_0072', 'A_c_0001_0073', 'A_c_0001_0074', 'A_c_0001_0075', 'A_c_0001_0076', 'A_c_0001_0084', 'A_c_0001_0085', 'A_c_0001_0087', 'A_c_0001_0092', 'A_c_0001_0094', 'A_c_0001_0096', 'A_c_0001_0103', 'A_c_0001_0113', 'A_c_0001_0136', 'A_c_0001_0139', 'A_c_0001_0146', 'A_c_0001_0149', 'A_c_0001_0159', 'A_d_0001_0026', 'A_d_0001_0051', 'A_d_0001_0053', 'A_e_0001_0014', 'A_e_0001_0015', 'A_e_0001_0032', 'A_e_0001_0033', 'A_e_0001_0034', 'A_e_0001_0040', 'A_e_0001_0045', 'A_e_0001_0053', 'A_e_0001_0054', 'A_e_0001_0058', 'A_e_0001_0064', 'A_e_0001_0065', 'A_e_0001_0068', 'A_e_0001_0074', 'A_e_0001_0081', 'A_e_0001_0082', 'A_e_0001_0084', 'A_e_0001_0096', 'A_e_0001_0099', 'A_e_0001_0101', 'A_e_0001_0102', 'A_e_0001_0123', 'A_e_0001_0152', 'A_e_0001_0156', 'A_e_0001_0166', 'A_e_0001_0167', 'A_e_0001_0173', 'A_e_0001_0174', 'A_e_0001_0178', 'A_f_0001_0001', 'A_f_0001_0008', 'A_f_0001_0012', 'A_f_0001_0023', 'A_f_0001_0025', 'A_f_0001_0031', 'A_f_0001_0034', 'A_f_0001_0035', 'A_f_0001_0041', 'A_f_0001_0044', 'A_f_0001_0051', 'A_f_0001_0053', 'A_f_0001_0055', 'A_f_0001_0059', 'A_f_0001_0063', 'A_f_0001_0070', 'A_f_0001_0072', 'A_f_0001_0085', 'A_f_0001_0087', 'A_f_0001_0089', 'A_f_0001_0090', 'A_f_0001_0092', 'A_f_0001_0095', 'A_f_0001_0103', 'A_f_0001_0107', 'A_f_0001_0115', 'A_f_0001_0120', 'A_f_0001_0125', 'A_f_0001_0126', 'A_f_0001_0139', 'A_f_0001_0150', 'A_f_0001_0153', 'A_f_0001_0156', 'A_f_0001_0165', 'A_f_0001_0169', 'A_f_0001_0175', 'A_f_0001_0184', 'A_f_0001_0198', 'A_g_0001_0001', 'A_g_0001_0014', 'A_g_0001_0017', 'A_g_0001_0028', 'A_g_0001_0031', 'A_g_0001_0035', 'A_g_0001_0040', 'A_g_0001_0041', 'A_g_0001_0044', 'A_g_0001_0046', 'A_g_0001_0049', 'A_g_0001_0051', 'A_g_0001_0052', 'A_g_0001_0054', 'A_g_0001_0055', 'A_g_0001_0056', 'A_g_0001_0057', 'A_g_0001_0058', 'A_g_0001_0066', 'A_g_0001_0071', 'A_h_0001_0017', 'A_h_0001_0040', 'A_h_0001_0042', 'A_h_0001_0043', 'A_h_0001_0052', 'A_h_0001_0068', 'A_h_0001_0073', 'A_h_0001_0078', 'A_h_0001_0080', 'A_h_0001_0083', 'A_h_0001_0094', 'A_h_0001_0100', 'A_h_0001_0104', 'A_h_0001_0106', 'A_h_0001_0113', 'A_h_0001_0114', 'A_h_0001_0118', 'A_h_0001_0128', 'A_h_0001_0136', 'A_h_0001_0143', 'A_h_0001_0146', 'A_h_0001_0150', 'A_h_0001_0158', 'A_h_0001_0160', 'A_h_0001_0225', 'A_h_0001_0229', 'A_h_0001_0233', 'A_h_0001_0247', 'A_h_0001_0249', 'A_h_0001_0250', 'B_a_0001_0005', 'B_a_0001_0012', 'B_b_0001_0007', 'B_b_0001_0008', 'B_b_0001_0011', 'B_b_0001_0017', 'B_b_0001_0023', 'B_b_0001_0029', 'B_c_0001_0014', 'B_c_0001_0015', 'B_c_0001_0016', 'B_c_0001_0031', 'B_e_0001_0010', 'B_e_0001_0013', 'B_e_0001_0015', 'B_e_0001_0016', 'B_e_0001_0017', 'B_f_0001_0008', 'B_f_0001_0016', 'B_g_0001_0002', 'B_g_0001_0006', 'B_g_0001_0010', 'B_g_0001_0011', 'B_g_0001_0014', 'B_g_0001_0015', 'B_g_0001_0017', 'B_g_0001_0021', 'B_g_0001_0027', 'B_g_0001_0028', 'B_h_0001_0001', 'B_h_0001_0011', 'B_h_0001_0015', 'B_h_0001_0017', 'B_h_0001_0018', 'B_h_0001_0025', 'B_h_0001_0028', 'B_h_0001_0029', 'B_h_0001_0053', 'B_i_0001_0004', 'C_a_0001_0009', 'C_a_0001_0010', 'C_a_0001_0012', 'C_a_0001_0015', 'C_a_0001_0016', 'C_a_0001_0019', 'C_a_0001_0020', 'C_b_0001_0020', 'C_b_0001_0034', 'C_b_0001_0035', 'C_b_0001_0038', 'C_b_0001_0044', 'C_b_0001_0046', 'C_b_0001_0047', 'C_b_0001_0048', 'C_b_0001_0051', 'C_b_0001_0052', 'C_c_0001_0019', 'C_c_0001_0024', 'C_c_0001_0052', 'C_c_0001_0058', 'C_c_0001_0059', 'C_c_0001_0060', 'C_c_0001_0061', 'C_c_0001_0062', 'C_c_0001_0063', 'C_c_0001_0073', 'C_c_0001_0076', 'C_d_0001_0015', 'C_d_0001_0017', 'C_d_0001_0020', 'C_d_0001_0023', 'C_d_0001_0029', 'C_e_0001_0017', 'C_e_0001_0018', 'C_e_0001_0027', 'C_e_0001_0030', 'C_e_0001_0033', 'C_e_0001_0035', 'C_e_0001_0037', 'C_e_0001_0038', 'C_e_0001_0039', 'C_e_0001_0041', 'C_e_0001_0047', 'C_e_0001_0048', 'C_e_0001_0049', 'C_e_0001_0050', 'C_e_0001_0052', 'C_e_0001_0054', 'C_e_0001_0057', 'C_e_0001_0059', 'C_e_0001_0060', 'C_e_0001_0061', 'C_e_0001_0062', 'C_e_0001_0065', 'C_e_0001_0066', 'C_e_0001_0073', 'C_e_0001_0078', 'C_e_0001_0079', 'C_e_0001_0090', 'C_e_0001_0093', 'C_e_0001_0095', 'C_e_0001_0097', 'C_e_0001_0098', 'C_e_0001_0101', 'C_e_0001_0107', 'C_f_0001_0018', 'C_f_0001_0023', 'C_f_0001_0029', 'C_f_0001_0033', 'C_f_0001_0048', 'C_f_0001_0051', 'C_f_0001_0052', 'C_f_0001_0053', 'C_f_0001_0056', 'C_f_0001_0058', 'C_f_0001_0063', 'C_f_0001_0066', 'C_f_0001_0070', 'C_f_0001_0072', 'C_f_0001_0073', 'C_f_0001_0074', 'C_f_0001_0076', 'C_f_0001_0077', 'C_f_0001_0078', 'C_f_0001_0079', 'C_f_0001_0082', 'C_f_0001_0083', 'C_f_0001_0084', 'C_f_0001_0085', 'C_f_0001_0086', 'C_f_0001_0087', 'C_f_0001_0101', 'C_f_0001_0102', 'C_f_0001_0103', 'C_f_0001_0142', 'C_f_0001_0150', 'C_f_0001_0153', 'C_f_0001_0159', 'C_f_0001_0160', 'D_a_0001_0010', 'D_b_0001_0032', 'D_b_0001_0052', 'D_c_0001_0018', 'D_c_0001_0019', 'D_c_0001_0021', 'D_d_0001_0033', 'D_d_0001_0061', 'D_d_0001_0072', 'D_d_0001_0075', 'D_d_0001_0094', 'D_d_0001_0099', 'K_a_0001_0028', 'K_a_0001_0031', 'K_a_0001_0035', 'K_a_0001_0038', 'K_a_0001_0039', 'K_a_0001_0041', 'K_a_0001_0045', 'K_a_0001_0055', 'K_b_0001_0005', 'K_b_0001_0017', 'K_b_0001_0018', 'K_b_0001_0027', 'K_b_0001_0030', 'K_b_0001_0036', 'K_b_0001_0042', 'K_b_0001_0046', 'K_b_0001_0056', 'K_b_0001_0058', 'K_b_0001_0061', 'K_b_0001_0064', 'K_b_0001_0072', 'K_b_0001_0075', 'K_b_0001_0077', 'K_b_0001_0083', 'K_b_0001_0085', 'K_b_0001_0087', 'K_b_0001_0091', 'K_b_0001_0095', 'K_b_0001_0096', 'K_b_0001_0097', 'K_b_0001_0100', 'K_b_0001_0108', 'K_b_0001_0109', 'K_b_0001_0110', 'K_b_0001_0114', 'K_b_0001_0118', 'K_b_0001_0123', 'K_b_0001_0124', 'K_b_0001_0126', 'K_b_0001_0128', 'K_b_0001_0129', 'K_b_0001_0131', 'K_b_0001_0132', 'K_b_0001_0135', 'K_b_0001_0138', 'K_b_0001_0139', 'K_b_0001_0141', 'K_b_0001_0142', 'K_b_0001_0143', 'K_b_0001_0149', 'K_b_0001_0154', 'K_b_0001_0160', 'K_b_0001_0165', 'K_b_0001_0168', 'K_b_0001_0171', 'K_b_0001_0172', 'K_b_0001_0173', 'K_b_0001_0175', 'K_b_0001_0176', 'K_b_0001_0178', 'K_b_0001_0179', 'K_b_0001_0183', 'K_b_0001_0184', 'K_b_0001_0186', 'K_b_0001_0189', 'K_b_0001_0191', 'K_b_0001_0192', 'K_b_0001_0201', 'K_b_0001_0202', 'K_b_0001_0203', 'K_b_0001_0205', 'K_b_0001_0206', 'K_b_0001_0207', 'K_b_0001_0210', 'K_b_0001_0211', 'K_b_0001_0212', 'K_b_0001_0214', 'K_b_0001_0215', 'K_b_0001_0218', 'K_b_0001_0221', 'K_b_0001_0222', 'K_b_0001_0223', 'K_b_0001_0224', 'K_b_0001_0227', 'K_b_0001_0229', 'K_b_0001_0230', 'K_b_0001_0236', 'K_b_0001_0239', 'K_b_0001_0242', 'K_b_0001_0243', 'K_b_0001_0245', 'K_b_0001_0247', 'K_b_0001_0250', 'K_b_0001_0259', 'K_b_0001_0264', 'K_b_0001_0271', 'K_b_0001_0272', 'K_b_0001_0277', 'K_b_0001_0281', 'K_b_0001_0283', 'K_b_0001_0335', 'K_b_0001_0338', 'K_b_0001_0339', 'K_b_0001_0342', 'K_b_0001_0343', 'K_b_0001_0346', 'K_b_0001_0347', 'K_b_0001_0348', 'K_b_0001_0350', 'K_b_0001_0352', 'K_b_0001_0353', 'K_b_0001_0355', 'K_b_0001_0361', 'K_b_0001_0363', 'K_b_0001_0364', 'K_b_0001_0367', 'K_b_0001_0369', 'K_b_0001_0370', 'K_b_0001_0372', 'K_b_0001_0373', 'K_b_0001_0378', 'K_b_0001_0380', 'K_b_0001_0391', 'K_b_0001_0393', 'K_b_0001_0399', 'K_b_0001_0401', 'K_b_0001_0403', 'K_b_0001_0404', 'K_b_0001_0405', 'K_b_0001_0406', 'K_b_0001_0409', 'K_b_0001_0411', 'K_b_0001_0412', 'K_b_0001_0413', 'K_b_0001_0415', 'K_c_0001_0026', 'K_c_0001_0041', 'K_c_0001_0055', 'K_c_0001_0059', 'K_c_0001_0079', 'K_c_0001_0084', 'K_c_0001_0089', 'K_c_0001_0098', 'K_c_0001_0100', 'K_c_0001_0103', 'K_c_0001_0107', 'K_c_0001_0108', 'K_c_0001_0110', 'K_c_0001_0115', 'K_c_0001_0117', 'K_c_0001_0118', 'K_c_0001_0121', 'K_c_0001_0131', 'K_c_0001_0136', 'K_c_0001_0138', 'K_c_0001_0139', 'K_c_0001_0145', 'K_c_0001_0147', 'K_c_0001_0148', 'K_c_0001_0149', 'K_c_0001_0153', 'K_c_0001_0157', 'K_c_0001_0160', 'K_c_0001_0163', 'K_c_0001_0165', 'K_c_0001_0167', 'K_c_0001_0171', 'K_c_0001_0176', 'K_c_0001_0180', 'K_c_0001_0182', 'K_c_0001_0185', 'K_c_0001_0188', 'K_c_0001_0189', 'K_c_0001_0192', 'K_c_0001_0194', 'K_c_0001_0195', 'K_c_0001_0196', 'K_c_0001_0198', 'K_c_0001_0199', 'K_c_0001_0200', 'K_c_0001_0205', 'K_c_0001_0206', 'K_c_0001_0214', 'K_c_0001_0221', 'K_c_0001_0222', 'K_c_0001_0223', 'K_c_0001_0224', 'K_c_0001_0225', 'K_c_0001_0229', 'K_c_0001_0232', 'K_c_0001_0233', 'K_c_0001_0234', 'K_c_0001_0238', 'K_c_0001_0241', 'K_c_0001_0242', 'K_c_0001_0250', 'K_c_0001_0267', 'K_c_0001_0330', 'K_c_0001_0331', 'K_c_0001_0336', 'K_c_0001_0338', 'K_c_0001_0341', 'K_c_0001_0342', 'K_c_0001_0343', 'K_c_0001_0344', 'K_c_0001_0348', 'K_c_0001_0349', 'K_c_0001_0353', 'K_c_0001_0356', 'K_c_0001_0365', 'K_c_0001_0376', 'K_c_0001_0378', 'K_c_0001_0393', 'K_c_0001_0397', 'K_c_0001_0405', 'K_c_0001_0409', 'K_d_0001_0006', 'K_d_0001_0022', 'K_d_0001_0030', 'K_d_0001_0049', 'K_d_0001_0053', 'K_d_0001_0057', 'K_d_0001_0059', 'K_d_0001_0061', 'K_d_0001_0065', 'K_d_0001_0076', 'K_d_0001_0078', 'K_d_0001_0079', 'K_d_0001_0081', 'K_d_0001_0083', 'K_d_0001_0084', 'K_d_0001_0085', 'K_d_0001_0086', 'K_d_0001_0090', 'K_d_0001_0092', 'K_d_0001_0094', 'K_d_0001_0095', 'K_d_0001_0096', 'K_d_0001_0098', 'K_d_0001_0104', 'K_d_0001_0105', 'K_d_0001_0106', 'K_d_0001_0112', 'K_d_0001_0114', 'K_d_0001_0115', 'K_d_0001_0149', 'K_d_0001_0151', 'K_d_0001_0156', 'K_d_0001_0161', 'K_d_0001_0164', 'K_d_0001_0170', 'K_d_0001_0179', 'K_d_0001_0183', 'K_e_0001_0002', 'K_e_0001_0010', 'K_e_0001_0019', 'K_e_0001_0026', 'K_e_0001_0035', 'K_e_0001_0038', 'K_e_0001_0040', 'K_e_0001_0041', 'K_e_0001_0042', 'K_e_0001_0043', 'K_e_0001_0044', 'K_e_0001_0045', 'K_e_0001_0046', 'K_e_0001_0047', 'K_e_0001_0048', 'K_e_0001_0049', 'K_e_0001_0051', 'K_e_0001_0052', 'K_e_0001_0060', 'K_e_0001_0065', 'K_e_0001_0067', 'K_e_0001_0068', 'K_e_0001_0069', 'K_e_0001_0070', 'K_e_0001_0071', 'K_e_0001_0072', 'K_e_0001_0073', 'K_e_0001_0074', 'K_e_0001_0076', 'K_e_0001_0077', 'K_e_0001_0078', 'K_e_0001_0079', 'K_e_0001_0080', 'K_e_0001_0081', 'K_e_0001_0082', 'K_e_0001_0085', 'K_e_0001_0086', 'K_e_0001_0087', 'K_e_0001_0090', 'K_e_0001_0093', 'K_e_0001_0094', 'K_e_0001_0095', 'K_e_0001_0097', 'K_e_0001_0098', 'K_e_0001_0101', 'K_e_0001_0103', 'K_e_0001_0107', 'K_e_0001_0110', 'K_e_0001_0112', 'K_e_0001_0114', 'K_e_0001_0115', 'K_e_0001_0116', 'K_e_0001_0117', 'K_e_0001_0119', 'K_e_0001_0121', 'K_e_0001_0123', 'K_e_0001_0124', 'K_e_0001_0125', 'K_e_0001_0127', 'K_e_0001_0128', 'K_e_0001_0130', 'K_e_0001_0131', 'K_e_0001_0133', 'K_e_0001_0134', 'K_e_0001_0135', 'K_e_0001_0136', 'K_e_0001_0139', 'K_e_0001_0140', 'K_e_0001_0143', 'K_e_0001_0144', 'K_e_0001_0146', 'K_e_0001_0147', 'K_e_0001_0150', 'K_e_0001_0151', 'K_e_0001_0152', 'K_e_0001_0153', 'K_e_0001_0155', 'K_e_0001_0157', 'K_e_0001_0158', 'K_e_0001_0159', 'K_e_0001_0161', 'K_e_0001_0163', 'K_e_0001_0165', 'K_e_0001_0166', 'K_e_0001_0169', 'K_e_0001_0170', 'K_e_0001_0172', 'K_e_0001_0173', 'K_e_0001_0175', 'K_e_0001_0176', 'K_e_0001_0181', 'K_e_0001_0184', 'K_e_0001_0185', 'K_e_0001_0195', 'K_e_0001_0198', 'K_e_0001_0218', 'K_e_0001_0221', 'K_e_0001_0234', 'K_e_0001_0235', 'K_e_0001_0236', 'K_e_0001_0238', 'K_e_0001_0245', 'K_e_0001_0248', 'K_e_0001_0253', 'K_e_0001_0267', 'K_e_0001_0269', 'K_e_0001_0271', 'K_e_0001_0274', 'K_e_0001_0277', 'K_e_0001_0281', 'K_e_0001_0282', 'K_e_0001_0284', 'K_f_0001_0007', 'K_f_0001_0022', 'K_f_0001_0023', 'K_f_0001_0025', 'K_f_0001_0027', 'K_f_0001_0029', 'K_f_0001_0038', 'K_f_0001_0051', 'K_f_0001_0052', 'K_f_0001_0053', 'K_f_0001_0054', 'K_f_0001_0058', 'K_f_0001_0059', 'K_f_0001_0062', 'K_f_0001_0065', 'K_f_0001_0066', 'K_f_0001_0067', 'K_f_0001_0068', 'K_f_0001_0070', 'K_f_0001_0072', 'K_f_0001_0073', 'K_f_0001_0074', 'K_f_0001_0076', 'K_f_0001_0078', 'K_f_0001_0081', 'K_f_0001_0083', 'K_f_0001_0084', 'K_f_0001_0085', 'K_f_0001_0086', 'K_f_0001_0087', 'K_f_0001_0089', 'K_f_0001_0090', 'K_f_0001_0092', 'K_f_0001_0093', 'K_f_0001_0095', 'K_f_0001_0096', 'K_f_0001_0097', 'K_f_0001_0098', 'K_f_0001_0099', 'K_f_0001_0100', 'K_f_0001_0101', 'K_f_0001_0102', 'K_f_0001_0103', 'K_f_0001_0104', 'K_f_0001_0105', 'K_f_0001_0106', 'K_f_0001_0107', 'K_f_0001_0108', 'K_f_0001_0109', 'K_f_0001_0111', 'K_f_0001_0113', 'K_f_0001_0115', 'K_f_0001_0121', 'K_f_0001_0123', 'K_f_0001_0129', 'K_f_0001_0131', 'K_f_0001_0133', 'K_f_0001_0134', 'K_f_0001_0135', 'K_f_0001_0137', 'K_f_0001_0138', 'K_f_0001_0139', 'K_f_0001_0140', 'K_f_0001_0141', 'K_f_0001_0199', 'K_f_0001_0201', 'K_f_0001_0207', 'K_f_0001_0208', 'K_f_0001_0210', 'K_f_0001_0211', 'K_f_0001_0212', 'K_f_0001_0215', 'K_f_0001_0216', 'K_f_0001_0217', 'K_f_0001_0231', 'N_a_0001_0019', 'N_a_0001_0021', 'N_a_0001_0022', 'N_a_0001_0023', 'N_a_0001_0028', 'N_a_0001_0031', 'N_b_0001_0013', 'N_b_0001_0040', 'N_b_0001_0041', 'N_b_0001_0042', 'N_b_0001_0043', 'N_b_0001_0044', 'N_b_0001_0045', 'N_b_0001_0047', 'N_b_0001_0048', 'N_b_0001_0051', 'N_b_0001_0052', 'N_b_0001_0053', 'N_b_0001_0054', 'N_b_0001_0058', 'N_b_0001_0059', 'N_b_0001_0060', 'N_b_0001_0061', 'N_b_0001_0062', 'N_b_0001_0063', 'N_b_0001_0064', 'N_b_0001_0067', 'N_b_0001_0068', 'N_b_0001_0070', 'N_b_0001_0071', 'N_b_0001_0072', 'N_b_0001_0073', 'N_b_0001_0074', 'N_b_0001_0075', 'N_b_0001_0076', 'N_b_0001_0100', 'N_b_0001_0101', 'N_b_0001_0107', 'N_b_0001_0108', 'N_b_0001_0111', 'N_b_0001_0113', 'N_b_0001_0117', 'N_c_0001_0017', 'N_c_0001_0021', 'N_c_0001_0023', 'N_c_0001_0044', 'N_c_0001_0049', 'N_c_0001_0050', 'N_c_0001_0052', 'N_c_0001_0053', 'N_c_0001_0054', 'N_c_0001_0055', 'N_c_0001_0056', 'N_c_0001_0058', 'N_c_0001_0082', 'N_d_0001_0002', 'N_d_0001_0026', 'N_d_0001_0030', 'N_d_0001_0035', 'N_d_0001_0037', 'N_d_0001_0038', 'N_d_0001_0039', 'N_d_0001_0040', 'N_d_0001_0044', 'N_d_0001_0050', 'N_d_0001_0055', 'N_d_0001_0057', 'N_d_0001_0059', 'N_d_0001_0060', 'N_d_0001_0062', 'N_d_0001_0063', 'N_d_0001_0066', 'N_d_0001_0067', 'N_d_0001_0069', 'N_d_0001_0070', 'N_d_0001_0071', 'N_d_0001_0079', 'N_d_0001_0081', 'N_d_0001_0082', 'N_d_0001_0083', 'N_d_0001_0085', 'N_d_0001_0087', 'N_d_0001_0088', 'N_d_0001_0089', 'N_d_0001_0099', 'N_d_0001_0100', 'N_d_0001_0102', 'N_d_0001_0103', 'N_d_0001_0105', 'N_d_0001_0107', 'N_d_0001_0108', 'N_d_0001_0111', 'N_d_0001_0112', 'N_d_0001_0116', 'N_d_0001_0121', 'N_d_0001_0124', 'N_d_0001_0125', 'N_d_0001_0133', 'N_d_0001_0134', 'N_d_0001_0135', 'N_d_0001_0145', 'N_d_0001_0148', 'N_d_0001_0149', 'N_d_0001_0150', 'N_d_0001_0151', 'N_d_0001_0152', 'N_d_0001_0153', 'N_d_0001_0156', 'N_d_0001_0159', 'N_d_0001_0162', 'N_d_0001_0173', 'N_d_0001_0179', 'N_d_0001_0181', 'N_d_0001_0183', 'N_d_0001_0184', 'N_d_0001_0187', 'N_d_0001_0189', 'N_d_0001_0190', 'N_d_0001_0191', 'N_d_0001_0192', 'N_d_0001_0194', 'N_d_0001_0195', 'N_d_0001_0197', 'N_d_0001_0198', 'N_d_0001_0200', 'N_d_0001_0202', 'N_d_0001_0207', 'N_d_0001_0208', 'N_d_0001_0209', 'N_d_0001_0212', 'N_d_0001_0214', 'N_d_0001_0215', 'N_d_0001_0216', 'N_d_0001_0218', 'N_d_0001_0220', 'N_d_0001_0222', 'N_d_0001_0223', 'N_d_0001_0224', 'N_d_0001_0227', 'N_d_0001_0228', 'N_d_0001_0231', 'N_d_0001_0233', 'N_d_0001_0234', 'N_d_0001_0235', 'N_d_0001_0236', 'N_d_0001_0237', 'N_d_0001_0239', 'N_d_0001_0240', 'N_d_0001_0242', 'N_d_0001_0243', 'N_d_0001_0244', 'N_d_0001_0245', 'N_d_0001_0248', 'N_d_0001_0250', 'N_d_0001_0255', 'N_d_0001_0256', 'N_d_0001_0263', 'N_d_0001_0264', 'N_d_0001_0265', 'N_d_0001_0266', 'N_d_0001_0267', 'N_d_0001_0269', 'N_d_0001_0271', 'N_d_0001_0272', 'N_d_0001_0274', 'N_d_0001_0279', 'N_d_0001_0282', 'N_d_0001_0283', 'N_d_0001_0286', 'N_d_0001_0289', 'N_d_0001_0291', 'N_d_0001_0293', 'N_d_0001_0294', 'N_d_0001_0295', 'N_d_0001_0296', 'N_d_0001_0301', 'N_d_0001_0303', 'N_d_0001_0304', 'N_d_0001_0305', 'N_d_0001_0306', 'N_d_0001_0307', 'N_d_0001_0308', 'N_d_0001_0310', 'N_d_0001_0313', 'N_d_0001_0317', 'N_d_0001_0319', 'N_d_0001_0325', 'N_d_0001_0326', 'N_d_0001_0328', 'N_d_0001_0330', 'N_d_0001_0332', 'N_d_0001_0333', 'N_d_0001_0334', 'N_d_0001_0335', 'N_e_0001_0013', 'N_e_0001_0037', 'N_e_0001_0045', 'N_e_0001_0055', 'N_e_0001_0056', 'N_e_0001_0064', 'N_e_0001_0066', 'N_e_0001_0084', 'N_e_0001_0086', 'N_e_0001_0090', 'N_e_0001_0093', 'N_e_0001_0094', 'N_e_0001_0095', 'N_e_0001_0097', 'N_e_0001_0101', 'N_e_0001_0102', 'N_e_0001_0105', 'N_e_0001_0107', 'N_e_0001_0108', 'N_e_0001_0109', 'N_e_0001_0111', 'N_e_0001_0112', 'N_e_0001_0116', 'N_e_0001_0118', 'N_e_0001_0120', 'N_e_0001_0124', 'N_e_0001_0133', 'N_e_0001_0136', 'N_e_0001_0139', 'N_e_0001_0143', 'N_e_0001_0151', 'N_e_0001_0155', 'N_e_0001_0156', 'N_e_0001_0158', 'N_e_0001_0159', 'N_e_0001_0161', 'N_e_0001_0163', 'N_e_0001_0164', 'N_e_0001_0166', 'N_e_0001_0168', 'N_e_0001_0172', 'N_e_0001_0177', 'N_e_0001_0178', 'N_e_0001_0179', 'N_e_0001_0180', 'N_e_0001_0182', 'N_e_0001_0184', 'N_e_0001_0185', 'N_e_0001_0186', 'N_e_0001_0187', 'N_e_0001_0188', 'N_e_0001_0189', 'N_e_0001_0191', 'N_e_0001_0197', 'N_e_0001_0198', 'N_e_0001_0199', 'N_e_0001_0201', 'N_e_0001_0202', 'N_e_0001_0204', 'N_e_0001_0205', 'N_e_0001_0207', 'N_e_0001_0208', 'N_e_0001_0209', 'N_e_0001_0211', 'N_e_0001_0214', 'N_e_0001_0215', 'N_e_0001_0218', 'N_e_0001_0219', 'N_e_0001_0221', 'N_e_0001_0224', 'N_e_0001_0226', 'N_e_0001_0228', 'N_e_0001_0229', 'N_e_0001_0230', 'N_e_0001_0231', 'N_e_0001_0232', 'N_e_0001_0233', 'N_e_0001_0234', 'N_e_0001_0235', 'N_e_0001_0237', 'N_e_0001_0238', 'N_e_0001_0241', 'N_e_0001_0242', 'N_e_0001_0244', 'N_e_0001_0248', 'N_e_0001_0249', 'N_e_0001_0250', 'N_e_0001_0251', 'N_e_0001_0258', 'N_e_0001_0260', 'N_e_0001_0262', 'N_e_0001_0264', 'N_e_0001_0272', 'N_e_0001_0273', 'N_e_0001_0277', 'N_e_0001_0278', 'N_e_0001_0281', 'N_e_0001_0282', 'N_e_0001_0285', 'N_e_0001_0287', 'N_e_0001_0290', 'N_e_0001_0291', 'N_e_0001_0292', 'N_e_0001_0295', 'N_e_0001_0298', 'N_e_0001_0301', 'N_e_0001_0303', 'N_e_0001_0304', 'N_e_0001_0306', 'N_e_0001_0307', 'N_e_0001_0308', 'N_e_0001_0311', 'N_e_0001_0312', 'N_e_0001_0314', 'N_e_0001_0317', 'N_e_0001_0319', 'N_e_0001_0320', 'N_e_0001_0321', 'N_e_0001_0323', 'N_e_0001_0324', 'N_e_0001_0325', 'N_e_0001_0326', 'N_e_0001_0327', 'N_e_0001_0328', 'N_e_0001_0330', 'N_e_0001_0332', 'N_e_0001_0333', 'N_e_0001_0336', 'N_e_0001_0351', 'N_e_0001_0357', 'N_e_0001_0434', 'N_e_0001_0435', 'N_e_0001_0440', 'N_e_0001_0441', 'N_e_0001_0442', 'N_e_0001_0443', 'N_e_0001_0459', 'N_e_0001_0460', 'N_e_0001_0463', 'N_e_0001_0465', 'N_e_0001_0466', 'N_e_0001_0469', 'N_e_0001_0474', 'N_e_0001_0477', 'N_e_0001_0480', 'N_e_0001_0484', 'N_e_0001_0485', 'N_e_0001_0491', 'N_e_0001_0495', 'N_e_0001_0497', 'N_e_0001_0505', 'N_e_0001_0511', 'N_e_0001_0513', 'N_e_0001_0514', 'N_e_0001_0516', 'N_e_0001_0517', 'N_e_0001_0518', 'N_e_0001_0525', 'N_e_0001_0529', 'N_e_0001_0530', 'N_e_0001_0531', 'N_f_0001_0006', 'N_f_0001_0007', 'N_f_0001_0013', 'N_f_0001_0014', 'N_f_0001_0027', 'N_f_0001_0028', 'N_f_0001_0038', 'N_f_0001_0040', 'N_f_0001_0041', 'N_f_0001_0042', 'N_f_0001_0049', 'N_f_0001_0053', 'N_f_0001_0054', 'N_f_0001_0058', 'N_f_0001_0060', 'N_f_0001_0068', 'N_f_0001_0069', 'N_f_0001_0070', 'N_f_0001_0071', 'N_f_0001_0072', 'N_f_0001_0073', 'N_f_0001_0074', 'N_f_0001_0075', 'N_f_0001_0076', 'N_f_0001_0078', 'N_f_0001_0079', 'N_f_0001_0080', 'N_f_0001_0081', 'N_f_0001_0083', 'N_f_0001_0084', 'N_f_0001_0085', 'N_f_0001_0089', 'N_f_0001_0090', 'N_f_0001_0091', 'N_f_0001_0093', 'N_f_0001_0095', 'N_f_0001_0096', 'N_f_0001_0097', 'N_f_0001_0098', 'N_f_0001_0099', 'N_f_0001_0100', 'N_f_0001_0101', 'N_f_0001_0104', 'N_f_0001_0106', 'N_f_0001_0108', 'N_f_0001_0110', 'N_f_0001_0112', 'N_f_0001_0114', 'N_f_0001_0116', 'N_f_0001_0118', 'N_f_0001_0123', 'N_f_0001_0124', 'N_f_0001_0132', 'N_f_0001_0133', 'N_f_0001_0135', 'N_f_0001_0137', 'N_f_0001_0140', 'N_f_0001_0141', 'N_f_0001_0142', 'N_f_0001_0144', 'N_f_0001_0145', 'N_f_0001_0146', 'N_f_0001_0149', 'N_f_0001_0151', 'N_f_0001_0153', 'N_f_0001_0154', 'N_f_0001_0156', 'N_f_0001_0157', 'N_f_0001_0158', 'N_f_0001_0160', 'N_f_0001_0161', 'N_f_0001_0162', 'N_f_0001_0164', 'N_f_0001_0165', 'N_f_0001_0167', 'N_f_0001_0168', 'N_f_0001_0169', 'N_f_0001_0170', 'N_f_0001_0172', 'N_f_0001_0173', 'N_f_0001_0175', 'N_f_0001_0176', 'N_f_0001_0177', 'N_f_0001_0178', 'N_f_0001_0179', 'N_f_0001_0181', 'N_f_0001_0206', 'N_f_0001_0207', 'N_f_0001_0208', 'N_f_0001_0242', 'N_f_0001_0245', 'N_f_0001_0248', 'N_f_0001_0249', 'N_f_0001_0250', 'N_f_0001_0251', 'N_f_0001_0252', 'N_f_0001_0253', 'N_f_0001_0255', 'N_f_0001_0257', 'N_f_0001_0262', 'N_f_0001_0263', 'N_f_0001_0265', 'N_f_0001_0267', 'N_f_0001_0268', 'N_f_0001_0269', 'N_f_0001_0270', 'N_f_0001_0273', 'N_f_0001_0278', 'N_f_0001_0279', 'N_f_0001_0281', 'N_f_0001_0283', 'N_f_0001_0284', 'N_f_0001_0288', 'N_f_0001_0290', 'N_f_0001_0291', 'N_f_0001_0297', 'N_f_0001_0298', 'W_c_0001_0020', 'W_c_0001_0024', 'W_c_0001_0031', 'W_c_0001_0033', 'W_c_0001_0034', 'W_c_0001_0035', 'W_c_0001_0037', 'W_c_0001_0039', 'W_c_0001_0040', 'W_c_0001_0042', 'W_c_0001_0043', 'W_c_0001_0045', 'W_c_0001_0049', 'W_c_0001_0050', 'W_c_0001_0052', 'W_c_0001_0054', 'W_c_0001_0055', 'W_c_0001_0057', 'W_c_0001_0058', 'W_c_0001_0066', 'W_c_0001_0067', 'W_c_0001_0070', 'W_c_0001_0072', 'W_c_0001_0073', 'W_c_0001_0074', 'W_c_0001_0075', 'W_c_0001_0078', 'W_c_0001_0080', 'W_c_0001_0082', 'W_c_0001_0083', 'W_c_0001_0084', 'W_c_0001_0085', 'W_c_0001_0087', 'W_c_0001_0093', 'W_c_0001_0095', 'W_c_0001_0096', 'W_c_0001_0098', 'W_c_0001_0100', 'W_c_0001_0102', 'W_c_0001_0103', 'W_c_0001_0104', 'W_c_0001_0105', 'W_c_0001_0107', 'W_c_0001_0108', 'W_c_0001_0110', 'W_c_0001_0113', 'W_c_0001_0117', 'W_c_0001_0121', 'W_c_0001_0127', 'W_c_0001_0129', 'W_c_0001_0131', 'W_c_0001_0132', 'W_c_0001_0133', 'W_c_0001_0134', 'W_c_0001_0135', 'W_c_0001_0136', 'W_c_0001_0137', 'W_c_0001_0138', 'W_c_0001_0139', 'W_c_0001_0140', 'W_c_0001_0146', 'W_c_0001_0147', 'W_c_0001_0148', 'W_c_0001_0149', 'W_c_0001_0150', 'W_c_0001_0153', 'W_c_0001_0156', 'W_c_0001_0158', 'W_c_0001_0159', 'W_c_0001_0160', 'W_c_0001_0167', 'W_c_0001_0168', 'W_c_0001_0170', 'W_c_0001_0171', 'W_c_0001_0172', 'W_c_0001_0174', 'W_c_0001_0176', 'W_c_0001_0177', 'W_c_0001_0180', 'W_c_0001_0182', 'W_c_0001_0186', 'W_c_0001_0187', 'W_c_0001_0188', 'W_c_0001_0192', 'W_c_0001_0193', 'W_c_0001_0194', 'W_c_0001_0198', 'W_c_0001_0199', 'W_c_0001_0200', 'W_c_0001_0201', 'W_c_0001_0204', 'W_c_0001_0205', 'W_c_0001_0211', 'W_c_0001_0212', 'W_c_0001_0213', 'W_c_0001_0215', 'W_c_0001_0216', 'W_c_0001_0217', 'W_c_0001_0219', 'W_c_0001_0220', 'W_c_0001_0222', 'W_c_0001_0225', 'W_c_0001_0231', 'W_c_0001_0237', 'W_c_0001_0253', 'W_c_0001_0255', 'W_c_0001_0257', 'W_c_0001_0264', 'W_c_0001_0266', 'W_c_0001_0297', 'W_c_0001_0310', 'W_c_0001_0311', 'W_c_0001_0312', 'W_c_0001_0316', 'W_c_0001_0319', 'W_c_0001_0321', 'W_c_0001_0322', 'W_c_0001_0324', 'W_c_0001_0325', 'W_c_0001_0326', 'W_c_0001_0327', 'W_c_0001_0329', 'W_c_0001_0330', 'W_c_0001_0331', 'W_c_0001_0332', 'W_c_0001_0335', 'W_c_0001_0337', 'W_c_0001_0339', 'W_c_0001_0342', 'W_c_0001_0343', 'W_c_0001_0348', 'W_c_0001_0352', 'W_c_0001_0356', 'W_c_0001_0360', 'W_c_0001_0361', 'W_c_0001_0362', 'W_c_0001_0365', 'W_c_0001_0367', 'W_c_0001_0371', 'W_c_0001_0372', 'W_c_0001_0374', 'W_c_0001_0375', 'W_c_0001_0378', 'W_c_0001_0380', 'W_c_0001_0382', 'W_c_0001_0383', 'W_d_0001_0008', 'W_d_0001_0024', 'W_d_0001_0027', 'W_d_0001_0029', 'W_d_0001_0032', 'W_d_0001_0037', 'W_d_0001_0038', 'W_d_0001_0040', 'W_d_0001_0041', 'W_d_0001_0043', 'W_d_0001_0044', 'W_d_0001_0046', 'W_d_0001_0052', 'W_d_0001_0060', 'W_d_0001_0069', 'W_d_0001_0074', 'W_d_0001_0080', 'W_d_0001_0084', 'W_d_0001_0085', 'W_d_0001_0086', 'W_d_0001_0087', 'W_d_0001_0089', 'W_d_0001_0090', 'W_d_0001_0099', 'W_d_0001_0100', 'W_d_0001_0104', 'W_d_0001_0105', 'W_d_0001_0106', 'W_d_0001_0108', 'W_d_0001_0110', 'W_d_0001_0111', 'W_d_0001_0112', 'W_d_0001_0114', 'W_d_0001_0116', 'W_d_0001_0117', 'W_d_0001_0118', 'W_d_0001_0120', 'W_d_0001_0121', 'W_d_0001_0124', 'W_d_0001_0126', 'W_d_0001_0127', 'W_d_0001_0129', 'W_d_0001_0130', 'W_d_0001_0131', 'W_d_0001_0134', 'W_d_0001_0137', 'W_d_0001_0138', 'W_d_0001_0139', 'W_d_0001_0141', 'W_d_0001_0143', 'W_d_0001_0146', 'W_d_0001_0147', 'W_d_0001_0149', 'W_d_0001_0151', 'W_d_0001_0152', 'W_d_0001_0153', 'W_d_0001_0157', 'W_d_0001_0158', 'W_d_0001_0162', 'W_d_0001_0163', 'W_d_0001_0164', 'W_d_0001_0165', 'W_d_0001_0168', 'W_d_0001_0169', 'W_d_0001_0170', 'W_d_0001_0173', 'W_d_0001_0174', 'W_d_0001_0175', 'W_d_0001_0179', 'W_d_0001_0180', 'W_d_0001_0182', 'W_d_0001_0183', 'W_d_0001_0184', 'W_d_0001_0185', 'W_d_0001_0187', 'W_d_0001_0188', 'W_d_0001_0189', 'W_d_0001_0190', 'W_d_0001_0192', 'W_d_0001_0193', 'W_d_0001_0194', 'W_d_0001_0196', 'W_d_0001_0197', 'W_d_0001_0198', 'W_d_0001_0201', 'W_d_0001_0202', 'W_d_0001_0203', 'W_d_0001_0207', 'W_d_0001_0208', 'W_d_0001_0209', 'W_d_0001_0211', 'W_d_0001_0212', 'W_d_0001_0214', 'W_d_0001_0215', 'W_d_0001_0217', 'W_d_0001_0218', 'W_d_0001_0219', 'W_d_0001_0220', 'W_d_0001_0221', 'W_d_0001_0223', 'W_d_0001_0224', 'W_d_0001_0227', 'W_d_0001_0229', 'W_d_0001_0232', 'W_d_0001_0239', 'W_d_0001_0241', 'W_d_0001_0261', 'W_d_0001_0304', 'W_d_0001_0305', 'W_d_0001_0307', 'W_d_0001_0318', 'W_d_0001_0319', 'W_d_0001_0323', 'W_d_0001_0325', 'W_d_0001_0330', 'W_d_0001_0331', 'W_d_0001_0332', 'W_d_0001_0333', 'W_d_0001_0334', 'W_d_0001_0335', 'W_d_0001_0337', 'W_d_0001_0338', 'W_d_0001_0339', 'W_d_0001_0341', 'W_d_0001_0342', 'W_d_0001_0345', 'W_d_0001_0346', 'W_d_0001_0347', 'W_d_0001_0348', 'W_d_0001_0352', 'W_d_0001_0354', 'W_d_0001_0358', 'W_d_0001_0360', 'W_d_0001_0362', 'W_d_0001_0366', 'W_d_0001_0368', 'W_d_0001_0371', 'W_d_0001_0376', 'W_d_0001_0377', 'W_d_0001_0379', 'W_d_0001_0384', 'W_d_0001_0388', 'W_d_0001_0390', 'W_d_0001_0392', 'W_d_0001_0394', 'native_d_0001_0008', 'native_d_0001_0009', 'native_d_0001_0010', 'native_d_0001_0014', 'native_d_0001_0017', 'native_d_0001_0020']\n"
     ]
    }
   ],
   "source": [
    "average_rms = average_dall.loc[average_dall[\"rms_to_template\"] < 1.5].index.tolist()\n",
    "print(average_rms)"
   ]
  },
  {
   "cell_type": "code",
   "execution_count": 17,
   "metadata": {},
   "outputs": [
    {
     "name": "stdout",
     "output_type": "stream",
     "text": [
      "['A_b_0001_0034', 'A_b_0001_0039', 'A_b_0001_0047', 'A_b_0001_0053', 'A_b_0001_0056', 'A_b_0001_0058', 'A_b_0001_0059', 'A_b_0001_0065', 'A_b_0001_0066', 'A_b_0001_0069', 'A_b_0001_0072', 'A_b_0001_0082', 'A_b_0001_0119', 'A_b_0001_0127', 'A_c_0001_0017', 'A_c_0001_0033', 'A_c_0001_0034', 'A_c_0001_0036', 'A_c_0001_0037', 'A_c_0001_0043', 'A_c_0001_0046', 'A_c_0001_0055', 'A_c_0001_0056', 'A_c_0001_0057', 'A_c_0001_0059', 'A_c_0001_0060', 'A_c_0001_0062', 'A_c_0001_0064', 'A_c_0001_0066', 'A_c_0001_0067', 'A_c_0001_0072', 'A_c_0001_0073', 'A_c_0001_0074', 'A_c_0001_0075', 'A_c_0001_0076', 'A_c_0001_0084', 'A_c_0001_0085', 'A_c_0001_0087', 'A_c_0001_0092', 'A_c_0001_0094', 'A_c_0001_0096', 'A_c_0001_0103', 'A_c_0001_0113', 'A_c_0001_0136', 'A_c_0001_0139', 'A_c_0001_0146', 'A_c_0001_0149', 'A_c_0001_0159', 'A_d_0001_0026', 'A_d_0001_0051', 'A_d_0001_0053', 'A_e_0001_0014', 'A_e_0001_0015', 'A_e_0001_0032', 'A_e_0001_0033', 'A_e_0001_0034', 'A_e_0001_0040', 'A_e_0001_0045', 'A_e_0001_0053', 'A_e_0001_0054', 'A_e_0001_0058', 'A_e_0001_0064', 'A_e_0001_0065', 'A_e_0001_0068', 'A_e_0001_0074', 'A_e_0001_0081', 'A_e_0001_0082', 'A_e_0001_0084', 'A_e_0001_0096', 'A_e_0001_0101', 'A_e_0001_0102', 'A_e_0001_0123', 'A_e_0001_0152', 'A_e_0001_0156', 'A_e_0001_0166', 'A_e_0001_0167', 'A_e_0001_0173', 'A_e_0001_0174', 'A_e_0001_0178', 'A_f_0001_0001', 'A_f_0001_0008', 'A_f_0001_0012', 'A_f_0001_0023', 'A_f_0001_0025', 'A_f_0001_0031', 'A_f_0001_0034', 'A_f_0001_0035', 'A_f_0001_0041', 'A_f_0001_0044', 'A_f_0001_0048', 'A_f_0001_0051', 'A_f_0001_0053', 'A_f_0001_0055', 'A_f_0001_0059', 'A_f_0001_0063', 'A_f_0001_0070', 'A_f_0001_0072', 'A_f_0001_0085', 'A_f_0001_0087', 'A_f_0001_0089', 'A_f_0001_0090', 'A_f_0001_0092', 'A_f_0001_0095', 'A_f_0001_0103', 'A_f_0001_0107', 'A_f_0001_0115', 'A_f_0001_0120', 'A_f_0001_0125', 'A_f_0001_0126', 'A_f_0001_0139', 'A_f_0001_0150', 'A_f_0001_0153', 'A_f_0001_0156', 'A_f_0001_0165', 'A_f_0001_0169', 'A_f_0001_0175', 'A_f_0001_0184', 'A_f_0001_0198', 'A_g_0001_0001', 'A_g_0001_0014', 'A_g_0001_0017', 'A_g_0001_0028', 'A_g_0001_0031', 'A_g_0001_0035', 'A_g_0001_0040', 'A_g_0001_0041', 'A_g_0001_0044', 'A_g_0001_0046', 'A_g_0001_0049', 'A_g_0001_0051', 'A_g_0001_0052', 'A_g_0001_0054', 'A_g_0001_0056', 'A_g_0001_0057', 'A_g_0001_0058', 'A_g_0001_0066', 'A_g_0001_0071', 'A_h_0001_0017', 'A_h_0001_0040', 'A_h_0001_0042', 'A_h_0001_0043', 'A_h_0001_0052', 'A_h_0001_0068', 'A_h_0001_0073', 'A_h_0001_0078', 'A_h_0001_0080', 'A_h_0001_0083', 'A_h_0001_0094', 'A_h_0001_0100', 'A_h_0001_0104', 'A_h_0001_0106', 'A_h_0001_0113', 'A_h_0001_0114', 'A_h_0001_0118', 'A_h_0001_0128', 'A_h_0001_0136', 'A_h_0001_0143', 'A_h_0001_0146', 'A_h_0001_0150', 'A_h_0001_0151', 'A_h_0001_0158', 'A_h_0001_0160', 'A_h_0001_0225', 'A_h_0001_0229', 'A_h_0001_0233', 'A_h_0001_0247', 'A_h_0001_0249', 'A_h_0001_0250', 'B_a_0001_0005', 'B_a_0001_0012', 'B_b_0001_0007', 'B_b_0001_0008', 'B_b_0001_0011', 'B_b_0001_0023', 'B_b_0001_0029', 'B_c_0001_0014', 'B_c_0001_0015', 'B_c_0001_0016', 'B_c_0001_0031', 'B_e_0001_0010', 'B_e_0001_0013', 'B_e_0001_0015', 'B_e_0001_0016', 'B_e_0001_0017', 'B_f_0001_0008', 'B_f_0001_0016', 'B_g_0001_0002', 'B_g_0001_0006', 'B_g_0001_0010', 'B_g_0001_0011', 'B_g_0001_0014', 'B_g_0001_0015', 'B_g_0001_0017', 'B_g_0001_0021', 'B_g_0001_0027', 'B_g_0001_0028', 'B_h_0001_0001', 'B_h_0001_0011', 'B_h_0001_0015', 'B_h_0001_0017', 'B_h_0001_0018', 'B_h_0001_0025', 'B_h_0001_0028', 'B_h_0001_0029', 'B_h_0001_0053', 'B_i_0001_0004', 'C_a_0001_0009', 'C_a_0001_0010', 'C_a_0001_0012', 'C_a_0001_0015', 'C_a_0001_0016', 'C_a_0001_0019', 'C_a_0001_0020', 'C_b_0001_0020', 'C_b_0001_0034', 'C_b_0001_0035', 'C_b_0001_0038', 'C_b_0001_0044', 'C_b_0001_0047', 'C_b_0001_0048', 'C_b_0001_0052', 'C_c_0001_0019', 'C_c_0001_0024', 'C_c_0001_0052', 'C_c_0001_0058', 'C_c_0001_0059', 'C_c_0001_0060', 'C_c_0001_0061', 'C_c_0001_0062', 'C_c_0001_0063', 'C_c_0001_0073', 'C_c_0001_0076', 'C_d_0001_0015', 'C_d_0001_0017', 'C_d_0001_0020', 'C_d_0001_0023', 'C_d_0001_0029', 'C_e_0001_0017', 'C_e_0001_0018', 'C_e_0001_0027', 'C_e_0001_0030', 'C_e_0001_0033', 'C_e_0001_0035', 'C_e_0001_0037', 'C_e_0001_0038', 'C_e_0001_0039', 'C_e_0001_0041', 'C_e_0001_0047', 'C_e_0001_0048', 'C_e_0001_0049', 'C_e_0001_0050', 'C_e_0001_0052', 'C_e_0001_0054', 'C_e_0001_0057', 'C_e_0001_0059', 'C_e_0001_0060', 'C_e_0001_0061', 'C_e_0001_0062', 'C_e_0001_0065', 'C_e_0001_0066', 'C_e_0001_0073', 'C_e_0001_0078', 'C_e_0001_0079', 'C_e_0001_0090', 'C_e_0001_0093', 'C_e_0001_0095', 'C_e_0001_0097', 'C_e_0001_0098', 'C_e_0001_0101', 'C_e_0001_0107', 'C_f_0001_0018', 'C_f_0001_0023', 'C_f_0001_0029', 'C_f_0001_0033', 'C_f_0001_0048', 'C_f_0001_0051', 'C_f_0001_0052', 'C_f_0001_0053', 'C_f_0001_0056', 'C_f_0001_0058', 'C_f_0001_0063', 'C_f_0001_0066', 'C_f_0001_0068', 'C_f_0001_0070', 'C_f_0001_0072', 'C_f_0001_0073', 'C_f_0001_0074', 'C_f_0001_0076', 'C_f_0001_0077', 'C_f_0001_0078', 'C_f_0001_0079', 'C_f_0001_0082', 'C_f_0001_0083', 'C_f_0001_0084', 'C_f_0001_0085', 'C_f_0001_0086', 'C_f_0001_0087', 'C_f_0001_0101', 'C_f_0001_0102', 'C_f_0001_0103', 'C_f_0001_0142', 'C_f_0001_0150', 'C_f_0001_0153', 'C_f_0001_0159', 'C_f_0001_0160', 'D_a_0001_0010', 'D_b_0001_0032', 'D_b_0001_0052', 'D_c_0001_0018', 'D_c_0001_0019', 'D_c_0001_0021', 'D_d_0001_0033', 'D_d_0001_0061', 'D_d_0001_0072', 'D_d_0001_0075', 'D_d_0001_0099', 'K_a_0001_0028', 'K_a_0001_0031', 'K_a_0001_0035', 'K_a_0001_0038', 'K_a_0001_0039', 'K_a_0001_0041', 'K_a_0001_0045', 'K_a_0001_0049', 'K_a_0001_0055', 'K_b_0001_0005', 'K_b_0001_0017', 'K_b_0001_0027', 'K_b_0001_0030', 'K_b_0001_0036', 'K_b_0001_0042', 'K_b_0001_0046', 'K_b_0001_0056', 'K_b_0001_0058', 'K_b_0001_0061', 'K_b_0001_0064', 'K_b_0001_0072', 'K_b_0001_0075', 'K_b_0001_0077', 'K_b_0001_0083', 'K_b_0001_0085', 'K_b_0001_0087', 'K_b_0001_0091', 'K_b_0001_0095', 'K_b_0001_0096', 'K_b_0001_0097', 'K_b_0001_0100', 'K_b_0001_0108', 'K_b_0001_0109', 'K_b_0001_0110', 'K_b_0001_0114', 'K_b_0001_0118', 'K_b_0001_0123', 'K_b_0001_0124', 'K_b_0001_0126', 'K_b_0001_0128', 'K_b_0001_0129', 'K_b_0001_0131', 'K_b_0001_0132', 'K_b_0001_0135', 'K_b_0001_0138', 'K_b_0001_0139', 'K_b_0001_0141', 'K_b_0001_0142', 'K_b_0001_0143', 'K_b_0001_0149', 'K_b_0001_0154', 'K_b_0001_0155', 'K_b_0001_0160', 'K_b_0001_0161', 'K_b_0001_0165', 'K_b_0001_0166', 'K_b_0001_0168', 'K_b_0001_0172', 'K_b_0001_0173', 'K_b_0001_0175', 'K_b_0001_0176', 'K_b_0001_0178', 'K_b_0001_0179', 'K_b_0001_0180', 'K_b_0001_0183', 'K_b_0001_0184', 'K_b_0001_0186', 'K_b_0001_0189', 'K_b_0001_0191', 'K_b_0001_0192', 'K_b_0001_0194', 'K_b_0001_0198', 'K_b_0001_0202', 'K_b_0001_0203', 'K_b_0001_0205', 'K_b_0001_0206', 'K_b_0001_0207', 'K_b_0001_0210', 'K_b_0001_0211', 'K_b_0001_0212', 'K_b_0001_0214', 'K_b_0001_0215', 'K_b_0001_0218', 'K_b_0001_0221', 'K_b_0001_0222', 'K_b_0001_0223', 'K_b_0001_0224', 'K_b_0001_0227', 'K_b_0001_0229', 'K_b_0001_0230', 'K_b_0001_0231', 'K_b_0001_0236', 'K_b_0001_0238', 'K_b_0001_0239', 'K_b_0001_0241', 'K_b_0001_0242', 'K_b_0001_0243', 'K_b_0001_0245', 'K_b_0001_0247', 'K_b_0001_0250', 'K_b_0001_0259', 'K_b_0001_0264', 'K_b_0001_0271', 'K_b_0001_0272', 'K_b_0001_0277', 'K_b_0001_0281', 'K_b_0001_0283', 'K_b_0001_0335', 'K_b_0001_0338', 'K_b_0001_0339', 'K_b_0001_0342', 'K_b_0001_0343', 'K_b_0001_0346', 'K_b_0001_0347', 'K_b_0001_0348', 'K_b_0001_0350', 'K_b_0001_0352', 'K_b_0001_0353', 'K_b_0001_0355', 'K_b_0001_0361', 'K_b_0001_0363', 'K_b_0001_0364', 'K_b_0001_0367', 'K_b_0001_0369', 'K_b_0001_0370', 'K_b_0001_0372', 'K_b_0001_0373', 'K_b_0001_0378', 'K_b_0001_0380', 'K_b_0001_0391', 'K_b_0001_0393', 'K_b_0001_0399', 'K_b_0001_0401', 'K_b_0001_0403', 'K_b_0001_0404', 'K_b_0001_0405', 'K_b_0001_0406', 'K_b_0001_0409', 'K_b_0001_0411', 'K_b_0001_0412', 'K_b_0001_0413', 'K_b_0001_0415', 'K_c_0001_0026', 'K_c_0001_0041', 'K_c_0001_0055', 'K_c_0001_0059', 'K_c_0001_0079', 'K_c_0001_0084', 'K_c_0001_0089', 'K_c_0001_0098', 'K_c_0001_0100', 'K_c_0001_0103', 'K_c_0001_0107', 'K_c_0001_0108', 'K_c_0001_0110', 'K_c_0001_0115', 'K_c_0001_0117', 'K_c_0001_0118', 'K_c_0001_0121', 'K_c_0001_0131', 'K_c_0001_0136', 'K_c_0001_0138', 'K_c_0001_0139', 'K_c_0001_0142', 'K_c_0001_0145', 'K_c_0001_0147', 'K_c_0001_0148', 'K_c_0001_0149', 'K_c_0001_0153', 'K_c_0001_0157', 'K_c_0001_0160', 'K_c_0001_0162', 'K_c_0001_0167', 'K_c_0001_0171', 'K_c_0001_0176', 'K_c_0001_0178', 'K_c_0001_0180', 'K_c_0001_0182', 'K_c_0001_0185', 'K_c_0001_0188', 'K_c_0001_0189', 'K_c_0001_0192', 'K_c_0001_0194', 'K_c_0001_0195', 'K_c_0001_0196', 'K_c_0001_0198', 'K_c_0001_0199', 'K_c_0001_0200', 'K_c_0001_0202', 'K_c_0001_0205', 'K_c_0001_0206', 'K_c_0001_0214', 'K_c_0001_0221', 'K_c_0001_0222', 'K_c_0001_0223', 'K_c_0001_0224', 'K_c_0001_0225', 'K_c_0001_0229', 'K_c_0001_0232', 'K_c_0001_0233', 'K_c_0001_0234', 'K_c_0001_0238', 'K_c_0001_0241', 'K_c_0001_0242', 'K_c_0001_0250', 'K_c_0001_0267', 'K_c_0001_0330', 'K_c_0001_0331', 'K_c_0001_0336', 'K_c_0001_0338', 'K_c_0001_0341', 'K_c_0001_0342', 'K_c_0001_0343', 'K_c_0001_0344', 'K_c_0001_0348', 'K_c_0001_0349', 'K_c_0001_0353', 'K_c_0001_0356', 'K_c_0001_0365', 'K_c_0001_0376', 'K_c_0001_0378', 'K_c_0001_0393', 'K_c_0001_0397', 'K_c_0001_0405', 'K_c_0001_0409', 'K_d_0001_0006', 'K_d_0001_0022', 'K_d_0001_0030', 'K_d_0001_0049', 'K_d_0001_0053', 'K_d_0001_0059', 'K_d_0001_0061', 'K_d_0001_0065', 'K_d_0001_0076', 'K_d_0001_0078', 'K_d_0001_0079', 'K_d_0001_0081', 'K_d_0001_0083', 'K_d_0001_0084', 'K_d_0001_0085', 'K_d_0001_0086', 'K_d_0001_0090', 'K_d_0001_0092', 'K_d_0001_0094', 'K_d_0001_0095', 'K_d_0001_0096', 'K_d_0001_0098', 'K_d_0001_0104', 'K_d_0001_0105', 'K_d_0001_0106', 'K_d_0001_0108', 'K_d_0001_0112', 'K_d_0001_0114', 'K_d_0001_0115', 'K_d_0001_0149', 'K_d_0001_0151', 'K_d_0001_0156', 'K_d_0001_0161', 'K_d_0001_0164', 'K_d_0001_0170', 'K_d_0001_0179', 'K_d_0001_0183', 'K_e_0001_0002', 'K_e_0001_0010', 'K_e_0001_0019', 'K_e_0001_0026', 'K_e_0001_0035', 'K_e_0001_0038', 'K_e_0001_0040', 'K_e_0001_0041', 'K_e_0001_0042', 'K_e_0001_0043', 'K_e_0001_0044', 'K_e_0001_0045', 'K_e_0001_0046', 'K_e_0001_0047', 'K_e_0001_0048', 'K_e_0001_0049', 'K_e_0001_0051', 'K_e_0001_0052', 'K_e_0001_0060', 'K_e_0001_0065', 'K_e_0001_0067', 'K_e_0001_0068', 'K_e_0001_0069', 'K_e_0001_0070', 'K_e_0001_0071', 'K_e_0001_0072', 'K_e_0001_0073', 'K_e_0001_0074', 'K_e_0001_0076', 'K_e_0001_0077', 'K_e_0001_0078', 'K_e_0001_0079', 'K_e_0001_0080', 'K_e_0001_0081', 'K_e_0001_0082', 'K_e_0001_0084', 'K_e_0001_0085', 'K_e_0001_0086', 'K_e_0001_0087', 'K_e_0001_0090', 'K_e_0001_0091', 'K_e_0001_0093', 'K_e_0001_0094', 'K_e_0001_0095', 'K_e_0001_0097', 'K_e_0001_0098', 'K_e_0001_0101', 'K_e_0001_0103', 'K_e_0001_0107', 'K_e_0001_0110', 'K_e_0001_0112', 'K_e_0001_0114', 'K_e_0001_0115', 'K_e_0001_0116', 'K_e_0001_0117', 'K_e_0001_0119', 'K_e_0001_0121', 'K_e_0001_0123', 'K_e_0001_0124', 'K_e_0001_0125', 'K_e_0001_0127', 'K_e_0001_0128', 'K_e_0001_0130', 'K_e_0001_0131', 'K_e_0001_0133', 'K_e_0001_0134', 'K_e_0001_0135', 'K_e_0001_0136', 'K_e_0001_0139', 'K_e_0001_0140', 'K_e_0001_0142', 'K_e_0001_0143', 'K_e_0001_0144', 'K_e_0001_0147', 'K_e_0001_0150', 'K_e_0001_0151', 'K_e_0001_0152', 'K_e_0001_0153', 'K_e_0001_0155', 'K_e_0001_0157', 'K_e_0001_0158', 'K_e_0001_0159', 'K_e_0001_0161', 'K_e_0001_0163', 'K_e_0001_0165', 'K_e_0001_0166', 'K_e_0001_0169', 'K_e_0001_0170', 'K_e_0001_0172', 'K_e_0001_0173', 'K_e_0001_0175', 'K_e_0001_0176', 'K_e_0001_0181', 'K_e_0001_0184', 'K_e_0001_0185', 'K_e_0001_0195', 'K_e_0001_0198', 'K_e_0001_0218', 'K_e_0001_0221', 'K_e_0001_0234', 'K_e_0001_0235', 'K_e_0001_0236', 'K_e_0001_0238', 'K_e_0001_0245', 'K_e_0001_0248', 'K_e_0001_0253', 'K_e_0001_0267', 'K_e_0001_0269', 'K_e_0001_0271', 'K_e_0001_0274', 'K_e_0001_0277', 'K_e_0001_0281', 'K_e_0001_0282', 'K_e_0001_0284', 'K_f_0001_0007', 'K_f_0001_0022', 'K_f_0001_0023', 'K_f_0001_0025', 'K_f_0001_0027', 'K_f_0001_0029', 'K_f_0001_0038', 'K_f_0001_0051', 'K_f_0001_0052', 'K_f_0001_0053', 'K_f_0001_0054', 'K_f_0001_0058', 'K_f_0001_0059', 'K_f_0001_0062', 'K_f_0001_0065', 'K_f_0001_0066', 'K_f_0001_0067', 'K_f_0001_0068', 'K_f_0001_0070', 'K_f_0001_0072', 'K_f_0001_0073', 'K_f_0001_0074', 'K_f_0001_0076', 'K_f_0001_0078', 'K_f_0001_0081', 'K_f_0001_0083', 'K_f_0001_0084', 'K_f_0001_0085', 'K_f_0001_0086', 'K_f_0001_0087', 'K_f_0001_0090', 'K_f_0001_0092', 'K_f_0001_0096', 'K_f_0001_0097', 'K_f_0001_0098', 'K_f_0001_0099', 'K_f_0001_0100', 'K_f_0001_0101', 'K_f_0001_0102', 'K_f_0001_0103', 'K_f_0001_0104', 'K_f_0001_0106', 'K_f_0001_0107', 'K_f_0001_0108', 'K_f_0001_0109', 'K_f_0001_0111', 'K_f_0001_0112', 'K_f_0001_0113', 'K_f_0001_0115', 'K_f_0001_0121', 'K_f_0001_0123', 'K_f_0001_0129', 'K_f_0001_0131', 'K_f_0001_0133', 'K_f_0001_0134', 'K_f_0001_0135', 'K_f_0001_0137', 'K_f_0001_0138', 'K_f_0001_0139', 'K_f_0001_0140', 'K_f_0001_0141', 'K_f_0001_0199', 'K_f_0001_0201', 'K_f_0001_0207', 'K_f_0001_0208', 'K_f_0001_0210', 'K_f_0001_0211', 'K_f_0001_0212', 'K_f_0001_0215', 'K_f_0001_0216', 'K_f_0001_0217', 'K_f_0001_0231', 'N_a_0001_0016', 'N_a_0001_0018', 'N_a_0001_0019', 'N_a_0001_0021', 'N_a_0001_0022', 'N_a_0001_0023', 'N_a_0001_0028', 'N_a_0001_0031', 'N_b_0001_0013', 'N_b_0001_0040', 'N_b_0001_0041', 'N_b_0001_0042', 'N_b_0001_0043', 'N_b_0001_0044', 'N_b_0001_0045', 'N_b_0001_0047', 'N_b_0001_0048', 'N_b_0001_0049', 'N_b_0001_0051', 'N_b_0001_0052', 'N_b_0001_0053', 'N_b_0001_0054', 'N_b_0001_0058', 'N_b_0001_0059', 'N_b_0001_0060', 'N_b_0001_0061', 'N_b_0001_0062', 'N_b_0001_0063', 'N_b_0001_0064', 'N_b_0001_0067', 'N_b_0001_0068', 'N_b_0001_0070', 'N_b_0001_0071', 'N_b_0001_0072', 'N_b_0001_0073', 'N_b_0001_0074', 'N_b_0001_0075', 'N_b_0001_0076', 'N_b_0001_0100', 'N_b_0001_0101', 'N_b_0001_0107', 'N_b_0001_0111', 'N_b_0001_0113', 'N_b_0001_0117', 'N_c_0001_0017', 'N_c_0001_0020', 'N_c_0001_0021', 'N_c_0001_0023', 'N_c_0001_0044', 'N_c_0001_0046', 'N_c_0001_0047', 'N_c_0001_0048', 'N_c_0001_0049', 'N_c_0001_0050', 'N_c_0001_0052', 'N_c_0001_0053', 'N_c_0001_0054', 'N_c_0001_0055', 'N_c_0001_0056', 'N_c_0001_0057', 'N_c_0001_0058', 'N_c_0001_0082', 'N_d_0001_0002', 'N_d_0001_0026', 'N_d_0001_0030', 'N_d_0001_0035', 'N_d_0001_0037', 'N_d_0001_0038', 'N_d_0001_0039', 'N_d_0001_0040', 'N_d_0001_0044', 'N_d_0001_0050', 'N_d_0001_0055', 'N_d_0001_0057', 'N_d_0001_0059', 'N_d_0001_0060', 'N_d_0001_0062', 'N_d_0001_0063', 'N_d_0001_0066', 'N_d_0001_0067', 'N_d_0001_0069', 'N_d_0001_0070', 'N_d_0001_0071', 'N_d_0001_0079', 'N_d_0001_0081', 'N_d_0001_0082', 'N_d_0001_0083', 'N_d_0001_0085', 'N_d_0001_0087', 'N_d_0001_0088', 'N_d_0001_0089', 'N_d_0001_0097', 'N_d_0001_0099', 'N_d_0001_0100', 'N_d_0001_0102', 'N_d_0001_0103', 'N_d_0001_0105', 'N_d_0001_0107', 'N_d_0001_0108', 'N_d_0001_0111', 'N_d_0001_0112', 'N_d_0001_0116', 'N_d_0001_0121', 'N_d_0001_0124', 'N_d_0001_0125', 'N_d_0001_0133', 'N_d_0001_0134', 'N_d_0001_0135', 'N_d_0001_0145', 'N_d_0001_0148', 'N_d_0001_0149', 'N_d_0001_0150', 'N_d_0001_0151', 'N_d_0001_0152', 'N_d_0001_0153', 'N_d_0001_0156', 'N_d_0001_0159', 'N_d_0001_0162', 'N_d_0001_0173', 'N_d_0001_0179', 'N_d_0001_0180', 'N_d_0001_0181', 'N_d_0001_0183', 'N_d_0001_0184', 'N_d_0001_0187', 'N_d_0001_0188', 'N_d_0001_0189', 'N_d_0001_0191', 'N_d_0001_0192', 'N_d_0001_0194', 'N_d_0001_0197', 'N_d_0001_0198', 'N_d_0001_0199', 'N_d_0001_0200', 'N_d_0001_0201', 'N_d_0001_0203', 'N_d_0001_0207', 'N_d_0001_0208', 'N_d_0001_0209', 'N_d_0001_0212', 'N_d_0001_0214', 'N_d_0001_0215', 'N_d_0001_0216', 'N_d_0001_0218', 'N_d_0001_0220', 'N_d_0001_0222', 'N_d_0001_0223', 'N_d_0001_0224', 'N_d_0001_0227', 'N_d_0001_0228', 'N_d_0001_0231', 'N_d_0001_0233', 'N_d_0001_0234', 'N_d_0001_0235', 'N_d_0001_0236', 'N_d_0001_0237', 'N_d_0001_0239', 'N_d_0001_0240', 'N_d_0001_0242', 'N_d_0001_0243', 'N_d_0001_0244', 'N_d_0001_0245', 'N_d_0001_0248', 'N_d_0001_0250', 'N_d_0001_0255', 'N_d_0001_0256', 'N_d_0001_0263', 'N_d_0001_0264', 'N_d_0001_0265', 'N_d_0001_0266', 'N_d_0001_0268', 'N_d_0001_0269', 'N_d_0001_0271', 'N_d_0001_0272', 'N_d_0001_0273', 'N_d_0001_0274', 'N_d_0001_0276', 'N_d_0001_0278', 'N_d_0001_0279', 'N_d_0001_0282', 'N_d_0001_0283', 'N_d_0001_0287', 'N_d_0001_0290', 'N_d_0001_0291', 'N_d_0001_0292', 'N_d_0001_0293', 'N_d_0001_0294', 'N_d_0001_0295', 'N_d_0001_0296', 'N_d_0001_0301', 'N_d_0001_0303', 'N_d_0001_0304', 'N_d_0001_0305', 'N_d_0001_0306', 'N_d_0001_0307', 'N_d_0001_0308', 'N_d_0001_0310', 'N_d_0001_0313', 'N_d_0001_0317', 'N_d_0001_0318', 'N_d_0001_0319', 'N_d_0001_0325', 'N_d_0001_0326', 'N_d_0001_0328', 'N_d_0001_0330', 'N_d_0001_0332', 'N_d_0001_0333', 'N_d_0001_0334', 'N_d_0001_0335', 'N_e_0001_0013', 'N_e_0001_0037', 'N_e_0001_0045', 'N_e_0001_0055', 'N_e_0001_0056', 'N_e_0001_0064', 'N_e_0001_0066', 'N_e_0001_0086', 'N_e_0001_0090', 'N_e_0001_0091', 'N_e_0001_0093', 'N_e_0001_0094', 'N_e_0001_0095', 'N_e_0001_0097', 'N_e_0001_0101', 'N_e_0001_0102', 'N_e_0001_0105', 'N_e_0001_0107', 'N_e_0001_0108', 'N_e_0001_0109', 'N_e_0001_0111', 'N_e_0001_0112', 'N_e_0001_0116', 'N_e_0001_0118', 'N_e_0001_0120', 'N_e_0001_0124', 'N_e_0001_0133', 'N_e_0001_0136', 'N_e_0001_0139', 'N_e_0001_0143', 'N_e_0001_0151', 'N_e_0001_0155', 'N_e_0001_0156', 'N_e_0001_0158', 'N_e_0001_0159', 'N_e_0001_0161', 'N_e_0001_0163', 'N_e_0001_0164', 'N_e_0001_0166', 'N_e_0001_0168', 'N_e_0001_0172', 'N_e_0001_0177', 'N_e_0001_0178', 'N_e_0001_0179', 'N_e_0001_0180', 'N_e_0001_0181', 'N_e_0001_0182', 'N_e_0001_0184', 'N_e_0001_0185', 'N_e_0001_0186', 'N_e_0001_0187', 'N_e_0001_0188', 'N_e_0001_0189', 'N_e_0001_0191', 'N_e_0001_0197', 'N_e_0001_0198', 'N_e_0001_0199', 'N_e_0001_0201', 'N_e_0001_0202', 'N_e_0001_0204', 'N_e_0001_0205', 'N_e_0001_0207', 'N_e_0001_0208', 'N_e_0001_0209', 'N_e_0001_0211', 'N_e_0001_0214', 'N_e_0001_0215', 'N_e_0001_0218', 'N_e_0001_0219', 'N_e_0001_0221', 'N_e_0001_0224', 'N_e_0001_0226', 'N_e_0001_0228', 'N_e_0001_0230', 'N_e_0001_0231', 'N_e_0001_0232', 'N_e_0001_0233', 'N_e_0001_0234', 'N_e_0001_0235', 'N_e_0001_0237', 'N_e_0001_0238', 'N_e_0001_0241', 'N_e_0001_0242', 'N_e_0001_0244', 'N_e_0001_0248', 'N_e_0001_0249', 'N_e_0001_0250', 'N_e_0001_0251', 'N_e_0001_0258', 'N_e_0001_0260', 'N_e_0001_0263', 'N_e_0001_0264', 'N_e_0001_0266', 'N_e_0001_0267', 'N_e_0001_0269', 'N_e_0001_0270', 'N_e_0001_0272', 'N_e_0001_0273', 'N_e_0001_0276', 'N_e_0001_0277', 'N_e_0001_0278', 'N_e_0001_0281', 'N_e_0001_0282', 'N_e_0001_0283', 'N_e_0001_0285', 'N_e_0001_0287', 'N_e_0001_0290', 'N_e_0001_0291', 'N_e_0001_0292', 'N_e_0001_0295', 'N_e_0001_0298', 'N_e_0001_0303', 'N_e_0001_0304', 'N_e_0001_0306', 'N_e_0001_0307', 'N_e_0001_0308', 'N_e_0001_0310', 'N_e_0001_0311', 'N_e_0001_0312', 'N_e_0001_0314', 'N_e_0001_0317', 'N_e_0001_0319', 'N_e_0001_0320', 'N_e_0001_0321', 'N_e_0001_0323', 'N_e_0001_0324', 'N_e_0001_0325', 'N_e_0001_0326', 'N_e_0001_0327', 'N_e_0001_0328', 'N_e_0001_0329', 'N_e_0001_0330', 'N_e_0001_0331', 'N_e_0001_0332', 'N_e_0001_0333', 'N_e_0001_0336', 'N_e_0001_0351', 'N_e_0001_0357', 'N_e_0001_0434', 'N_e_0001_0435', 'N_e_0001_0440', 'N_e_0001_0441', 'N_e_0001_0442', 'N_e_0001_0443', 'N_e_0001_0459', 'N_e_0001_0460', 'N_e_0001_0463', 'N_e_0001_0465', 'N_e_0001_0466', 'N_e_0001_0469', 'N_e_0001_0474', 'N_e_0001_0477', 'N_e_0001_0480', 'N_e_0001_0484', 'N_e_0001_0485', 'N_e_0001_0491', 'N_e_0001_0495', 'N_e_0001_0497', 'N_e_0001_0505', 'N_e_0001_0511', 'N_e_0001_0513', 'N_e_0001_0514', 'N_e_0001_0516', 'N_e_0001_0517', 'N_e_0001_0518', 'N_e_0001_0525', 'N_e_0001_0529', 'N_e_0001_0530', 'N_e_0001_0531', 'N_f_0001_0006', 'N_f_0001_0007', 'N_f_0001_0013', 'N_f_0001_0014', 'N_f_0001_0027', 'N_f_0001_0028', 'N_f_0001_0038', 'N_f_0001_0040', 'N_f_0001_0041', 'N_f_0001_0042', 'N_f_0001_0049', 'N_f_0001_0053', 'N_f_0001_0054', 'N_f_0001_0058', 'N_f_0001_0060', 'N_f_0001_0068', 'N_f_0001_0069', 'N_f_0001_0070', 'N_f_0001_0071', 'N_f_0001_0072', 'N_f_0001_0073', 'N_f_0001_0074', 'N_f_0001_0075', 'N_f_0001_0076', 'N_f_0001_0078', 'N_f_0001_0079', 'N_f_0001_0080', 'N_f_0001_0081', 'N_f_0001_0083', 'N_f_0001_0084', 'N_f_0001_0085', 'N_f_0001_0087', 'N_f_0001_0089', 'N_f_0001_0090', 'N_f_0001_0091', 'N_f_0001_0093', 'N_f_0001_0095', 'N_f_0001_0096', 'N_f_0001_0097', 'N_f_0001_0098', 'N_f_0001_0099', 'N_f_0001_0100', 'N_f_0001_0101', 'N_f_0001_0104', 'N_f_0001_0106', 'N_f_0001_0108', 'N_f_0001_0110', 'N_f_0001_0112', 'N_f_0001_0114', 'N_f_0001_0116', 'N_f_0001_0118', 'N_f_0001_0124', 'N_f_0001_0125', 'N_f_0001_0126', 'N_f_0001_0129', 'N_f_0001_0132', 'N_f_0001_0133', 'N_f_0001_0135', 'N_f_0001_0137', 'N_f_0001_0139', 'N_f_0001_0140', 'N_f_0001_0141', 'N_f_0001_0142', 'N_f_0001_0144', 'N_f_0001_0145', 'N_f_0001_0146', 'N_f_0001_0147', 'N_f_0001_0149', 'N_f_0001_0151', 'N_f_0001_0153', 'N_f_0001_0154', 'N_f_0001_0156', 'N_f_0001_0157', 'N_f_0001_0158', 'N_f_0001_0160', 'N_f_0001_0161', 'N_f_0001_0162', 'N_f_0001_0164', 'N_f_0001_0167', 'N_f_0001_0168', 'N_f_0001_0169', 'N_f_0001_0170', 'N_f_0001_0172', 'N_f_0001_0173', 'N_f_0001_0174', 'N_f_0001_0175', 'N_f_0001_0176', 'N_f_0001_0177', 'N_f_0001_0178', 'N_f_0001_0179', 'N_f_0001_0181', 'N_f_0001_0206', 'N_f_0001_0207', 'N_f_0001_0208', 'N_f_0001_0242', 'N_f_0001_0245', 'N_f_0001_0248', 'N_f_0001_0249', 'N_f_0001_0250', 'N_f_0001_0251', 'N_f_0001_0252', 'N_f_0001_0253', 'N_f_0001_0255', 'N_f_0001_0257', 'N_f_0001_0262', 'N_f_0001_0263', 'N_f_0001_0265', 'N_f_0001_0267', 'N_f_0001_0268', 'N_f_0001_0269', 'N_f_0001_0270', 'N_f_0001_0273', 'N_f_0001_0278', 'N_f_0001_0279', 'N_f_0001_0281', 'N_f_0001_0283', 'N_f_0001_0284', 'N_f_0001_0288', 'N_f_0001_0290', 'N_f_0001_0291', 'N_f_0001_0297', 'N_f_0001_0298', 'W_c_0001_0020', 'W_c_0001_0024', 'W_c_0001_0031', 'W_c_0001_0033', 'W_c_0001_0034', 'W_c_0001_0035', 'W_c_0001_0037', 'W_c_0001_0039', 'W_c_0001_0040', 'W_c_0001_0042', 'W_c_0001_0043', 'W_c_0001_0045', 'W_c_0001_0049', 'W_c_0001_0050', 'W_c_0001_0052', 'W_c_0001_0054', 'W_c_0001_0055', 'W_c_0001_0057', 'W_c_0001_0058', 'W_c_0001_0066', 'W_c_0001_0067', 'W_c_0001_0070', 'W_c_0001_0072', 'W_c_0001_0073', 'W_c_0001_0074', 'W_c_0001_0075', 'W_c_0001_0078', 'W_c_0001_0080', 'W_c_0001_0082', 'W_c_0001_0083', 'W_c_0001_0084', 'W_c_0001_0085', 'W_c_0001_0087', 'W_c_0001_0093', 'W_c_0001_0095', 'W_c_0001_0096', 'W_c_0001_0098', 'W_c_0001_0100', 'W_c_0001_0101', 'W_c_0001_0102', 'W_c_0001_0103', 'W_c_0001_0104', 'W_c_0001_0105', 'W_c_0001_0107', 'W_c_0001_0108', 'W_c_0001_0110', 'W_c_0001_0113', 'W_c_0001_0117', 'W_c_0001_0120', 'W_c_0001_0121', 'W_c_0001_0123', 'W_c_0001_0125', 'W_c_0001_0127', 'W_c_0001_0129', 'W_c_0001_0131', 'W_c_0001_0132', 'W_c_0001_0133', 'W_c_0001_0134', 'W_c_0001_0135', 'W_c_0001_0136', 'W_c_0001_0137', 'W_c_0001_0138', 'W_c_0001_0139', 'W_c_0001_0140', 'W_c_0001_0145', 'W_c_0001_0146', 'W_c_0001_0147', 'W_c_0001_0148', 'W_c_0001_0149', 'W_c_0001_0150', 'W_c_0001_0153', 'W_c_0001_0156', 'W_c_0001_0158', 'W_c_0001_0159', 'W_c_0001_0160', 'W_c_0001_0167', 'W_c_0001_0168', 'W_c_0001_0170', 'W_c_0001_0171', 'W_c_0001_0172', 'W_c_0001_0176', 'W_c_0001_0177', 'W_c_0001_0180', 'W_c_0001_0181', 'W_c_0001_0182', 'W_c_0001_0185', 'W_c_0001_0186', 'W_c_0001_0187', 'W_c_0001_0188', 'W_c_0001_0192', 'W_c_0001_0193', 'W_c_0001_0194', 'W_c_0001_0198', 'W_c_0001_0199', 'W_c_0001_0200', 'W_c_0001_0201', 'W_c_0001_0204', 'W_c_0001_0205', 'W_c_0001_0210', 'W_c_0001_0211', 'W_c_0001_0212', 'W_c_0001_0213', 'W_c_0001_0215', 'W_c_0001_0216', 'W_c_0001_0217', 'W_c_0001_0218', 'W_c_0001_0219', 'W_c_0001_0220', 'W_c_0001_0221', 'W_c_0001_0222', 'W_c_0001_0225', 'W_c_0001_0231', 'W_c_0001_0237', 'W_c_0001_0253', 'W_c_0001_0255', 'W_c_0001_0257', 'W_c_0001_0264', 'W_c_0001_0266', 'W_c_0001_0297', 'W_c_0001_0310', 'W_c_0001_0311', 'W_c_0001_0312', 'W_c_0001_0316', 'W_c_0001_0319', 'W_c_0001_0321', 'W_c_0001_0322', 'W_c_0001_0324', 'W_c_0001_0325', 'W_c_0001_0326', 'W_c_0001_0327', 'W_c_0001_0329', 'W_c_0001_0330', 'W_c_0001_0331', 'W_c_0001_0332', 'W_c_0001_0335', 'W_c_0001_0337', 'W_c_0001_0339', 'W_c_0001_0342', 'W_c_0001_0343', 'W_c_0001_0348', 'W_c_0001_0352', 'W_c_0001_0356', 'W_c_0001_0360', 'W_c_0001_0361', 'W_c_0001_0362', 'W_c_0001_0365', 'W_c_0001_0367', 'W_c_0001_0371', 'W_c_0001_0372', 'W_c_0001_0374', 'W_c_0001_0375', 'W_c_0001_0378', 'W_c_0001_0380', 'W_c_0001_0382', 'W_c_0001_0383', 'W_d_0001_0008', 'W_d_0001_0024', 'W_d_0001_0027', 'W_d_0001_0029', 'W_d_0001_0032', 'W_d_0001_0037', 'W_d_0001_0038', 'W_d_0001_0040', 'W_d_0001_0041', 'W_d_0001_0043', 'W_d_0001_0044', 'W_d_0001_0046', 'W_d_0001_0052', 'W_d_0001_0060', 'W_d_0001_0069', 'W_d_0001_0074', 'W_d_0001_0080', 'W_d_0001_0084', 'W_d_0001_0085', 'W_d_0001_0086', 'W_d_0001_0087', 'W_d_0001_0089', 'W_d_0001_0090', 'W_d_0001_0099', 'W_d_0001_0100', 'W_d_0001_0102', 'W_d_0001_0104', 'W_d_0001_0105', 'W_d_0001_0108', 'W_d_0001_0110', 'W_d_0001_0111', 'W_d_0001_0112', 'W_d_0001_0114', 'W_d_0001_0116', 'W_d_0001_0117', 'W_d_0001_0118', 'W_d_0001_0120', 'W_d_0001_0121', 'W_d_0001_0124', 'W_d_0001_0125', 'W_d_0001_0126', 'W_d_0001_0127', 'W_d_0001_0128', 'W_d_0001_0129', 'W_d_0001_0130', 'W_d_0001_0131', 'W_d_0001_0134', 'W_d_0001_0137', 'W_d_0001_0138', 'W_d_0001_0139', 'W_d_0001_0141', 'W_d_0001_0143', 'W_d_0001_0146', 'W_d_0001_0147', 'W_d_0001_0148', 'W_d_0001_0149', 'W_d_0001_0151', 'W_d_0001_0152', 'W_d_0001_0153', 'W_d_0001_0157', 'W_d_0001_0158', 'W_d_0001_0160', 'W_d_0001_0162', 'W_d_0001_0163', 'W_d_0001_0164', 'W_d_0001_0165', 'W_d_0001_0168', 'W_d_0001_0169', 'W_d_0001_0170', 'W_d_0001_0173', 'W_d_0001_0174', 'W_d_0001_0175', 'W_d_0001_0179', 'W_d_0001_0180', 'W_d_0001_0182', 'W_d_0001_0183', 'W_d_0001_0184', 'W_d_0001_0185', 'W_d_0001_0187', 'W_d_0001_0188', 'W_d_0001_0189', 'W_d_0001_0190', 'W_d_0001_0191', 'W_d_0001_0192', 'W_d_0001_0194', 'W_d_0001_0195', 'W_d_0001_0196', 'W_d_0001_0197', 'W_d_0001_0198', 'W_d_0001_0201', 'W_d_0001_0202', 'W_d_0001_0203', 'W_d_0001_0207', 'W_d_0001_0208', 'W_d_0001_0209', 'W_d_0001_0211', 'W_d_0001_0212', 'W_d_0001_0214', 'W_d_0001_0215', 'W_d_0001_0217', 'W_d_0001_0218', 'W_d_0001_0219', 'W_d_0001_0220', 'W_d_0001_0221', 'W_d_0001_0223', 'W_d_0001_0224', 'W_d_0001_0227', 'W_d_0001_0228', 'W_d_0001_0229', 'W_d_0001_0232', 'W_d_0001_0233', 'W_d_0001_0237', 'W_d_0001_0239', 'W_d_0001_0241', 'W_d_0001_0261', 'W_d_0001_0304', 'W_d_0001_0305', 'W_d_0001_0307', 'W_d_0001_0318', 'W_d_0001_0319', 'W_d_0001_0323', 'W_d_0001_0325', 'W_d_0001_0330', 'W_d_0001_0331', 'W_d_0001_0332', 'W_d_0001_0333', 'W_d_0001_0334', 'W_d_0001_0335', 'W_d_0001_0337', 'W_d_0001_0338', 'W_d_0001_0339', 'W_d_0001_0341', 'W_d_0001_0342', 'W_d_0001_0345', 'W_d_0001_0346', 'W_d_0001_0347', 'W_d_0001_0348', 'W_d_0001_0352', 'W_d_0001_0354', 'W_d_0001_0358', 'W_d_0001_0360', 'W_d_0001_0362', 'W_d_0001_0366', 'W_d_0001_0368', 'W_d_0001_0371', 'W_d_0001_0376', 'W_d_0001_0377', 'W_d_0001_0379', 'W_d_0001_0384', 'W_d_0001_0388', 'W_d_0001_0390', 'W_d_0001_0392', 'W_d_0001_0394', 'native_d_0001_0008', 'native_d_0001_0009', 'native_d_0001_0010', 'native_d_0001_0014', 'native_d_0001_0017', 'native_d_0001_0020']\n"
     ]
    }
   ],
   "source": [
    "std_rms = std_dall.loc[std_dall[\"rms_to_template\"] < 0.75].index.tolist()\n",
    "print(std_rms)"
   ]
  },
  {
   "cell_type": "code",
   "execution_count": 18,
   "metadata": {},
   "outputs": [],
   "source": [
    "good_rms = list(set(average_rms) & set(std_rms))"
   ]
  },
  {
   "cell_type": "code",
   "execution_count": 19,
   "metadata": {},
   "outputs": [
    {
     "name": "stdout",
     "output_type": "stream",
     "text": [
      "(63617, 21)\n"
     ]
    }
   ],
   "source": [
    "df_good_rms = dall.loc[dall[\"scaffold\"].isin(good_rms)]\n",
    "print(df_good_rms.shape)"
   ]
  },
  {
   "cell_type": "code",
   "execution_count": 20,
   "metadata": {},
   "outputs": [
    {
     "name": "stdout",
     "output_type": "stream",
     "text": [
      "(30504, 21)\n"
     ]
    }
   ],
   "source": [
    "df_good_monomer = df_good_rms.loc[(df_good_rms[\"chainbreak_posthyb\"]==0.0) & (df_good_rms[\"vdw\"] < 1.0)]\n",
    "print(df_good_monomer.shape)"
   ]
  },
  {
   "cell_type": "code",
   "execution_count": 21,
   "metadata": {},
   "outputs": [
    {
     "data": {
      "text/plain": [
       "<matplotlib.axes._subplots.AxesSubplot at 0x7fec64831940>"
      ]
     },
     "execution_count": 21,
     "metadata": {},
     "output_type": "execute_result"
    },
    {
     "data": {
      "image/png": "[encoded data removed]",
      "text/plain": [
       "<matplotlib.figure.Figure at 0x7fec646a2a20>"
      ]
     },
     "metadata": {
      "needs_background": "light"
     },
     "output_type": "display_data"
    }
   ],
   "source": [
    "df_good_monomer[\"vdw\"].hist(bins=100)"
   ]
  },
  {
   "cell_type": "code",
   "execution_count": 57,
   "metadata": {},
   "outputs": [
    {
     "data": {
      "text/plain": [
       "<matplotlib.axes._subplots.AxesSubplot at 0x7fc8329e2c18>"
      ]
     },
     "execution_count": 57,
     "metadata": {},
     "output_type": "execute_result"
    },
    {
     "data": {
      "image/png": "[encoded data removed]",
      "text/plain": [
       "<matplotlib.figure.Figure at 0x7fc832a11c18>"
      ]
     },
     "metadata": {
      "needs_background": "light"
     },
     "output_type": "display_data"
    }
   ],
   "source": [
    "df_good_monomer[\"vdw_dimer\"].hist(bins=100)"
   ]
  },
  {
   "cell_type": "code",
   "execution_count": 22,
   "metadata": {},
   "outputs": [
    {
     "name": "stdout",
     "output_type": "stream",
     "text": [
      "(27185, 21)\n"
     ]
    }
   ],
   "source": [
    "df_good_dimer = df_good_monomer.loc[(df_good_monomer[\"vdw_dimer\"]<2.0)]\n",
    "print(df_good_dimer.shape)"
   ]
  },
  {
   "cell_type": "code",
   "execution_count": 23,
   "metadata": {},
   "outputs": [
    {
     "data": {
      "text/plain": [
       "<matplotlib.axes._subplots.AxesSubplot at 0x7fec6458efd0>"
      ]
     },
     "execution_count": 23,
     "metadata": {},
     "output_type": "execute_result"
    },
    {
     "data": {
      "image/png": "[encoded data removed]",
      "text/plain": [
       "<matplotlib.figure.Figure at 0x7fec64641198>"
      ]
     },
     "metadata": {
      "needs_background": "light"
     },
     "output_type": "display_data"
    }
   ],
   "source": [
    "df_good_dimer[\"vdw_dimer\"].hist(bins=100)"
   ]
  },
  {
   "cell_type": "code",
   "execution_count": 28,
   "metadata": {},
   "outputs": [
    {
     "name": "stdout",
     "output_type": "stream",
     "text": [
      "       SCORE:  total_score  atom_pair_constraint   cbeta  cenpack  \\\n",
      "1      SCORE:       86.072                   0.0  52.959   -0.703   \n",
      "81     SCORE:       89.960                   0.0  48.531   -0.431   \n",
      "82     SCORE:       93.200                   0.0  48.654    2.755   \n",
      "83     SCORE:       89.411                   0.0  48.916    2.021   \n",
      "84     SCORE:       86.264                   0.0  48.927    1.747   \n",
      "85     SCORE:       91.389                   0.0  48.940    0.120   \n",
      "86     SCORE:       86.534                   0.0  48.505    0.686   \n",
      "87     SCORE:       97.154                   0.0  49.052    2.013   \n",
      "88     SCORE:       91.580                   0.0  48.342    0.764   \n",
      "89     SCORE:       88.209                   0.0  48.291    1.510   \n",
      "91     SCORE:       90.880                   0.0  48.192    2.567   \n",
      "92     SCORE:       91.290                   0.0  48.247    1.211   \n",
      "95     SCORE:       87.558                   0.0  48.577    1.095   \n",
      "96     SCORE:       87.148                   0.0  48.636    0.655   \n",
      "98     SCORE:       89.085                   0.0  48.489    0.542   \n",
      "99     SCORE:       86.180                   0.0  48.094    0.935   \n",
      "101    SCORE:       89.467                   0.0  48.730    1.295   \n",
      "102    SCORE:       93.078                   0.0  48.519    0.435   \n",
      "103    SCORE:       92.743                   0.0  48.325    2.678   \n",
      "104    SCORE:       90.000                   0.0  48.564    1.012   \n",
      "105    SCORE:       87.840                   0.0  48.019   -0.327   \n",
      "108    SCORE:       88.345                   0.0  48.386    2.576   \n",
      "110    SCORE:       86.629                   0.0  48.316    1.387   \n",
      "111    SCORE:       88.345                   0.0  48.386    1.658   \n",
      "112    SCORE:       93.805                   0.0  48.581    1.957   \n",
      "113    SCORE:       85.683                   0.0  47.880    1.991   \n",
      "115    SCORE:       82.252                   0.0  48.792    0.283   \n",
      "117    SCORE:       85.471                   0.0  48.711    0.223   \n",
      "118    SCORE:       91.913                   0.0  48.455    1.105   \n",
      "120    SCORE:       92.703                   0.0  48.916    2.866   \n",
      "...       ...          ...                   ...     ...      ...   \n",
      "70493  SCORE:       80.408                   0.0  47.563    1.174   \n",
      "70494  SCORE:       79.456                   0.0  47.552    0.566   \n",
      "70495  SCORE:       84.507                   0.0  47.642    3.511   \n",
      "70496  SCORE:       81.544                   0.0  47.730    1.295   \n",
      "70497  SCORE:       80.068                   0.0  47.593    0.741   \n",
      "70498  SCORE:       80.108                   0.0  47.609    0.745   \n",
      "70499  SCORE:       79.123                   0.0  47.142    0.550   \n",
      "70500  SCORE:       84.301                   0.0  47.636    3.322   \n",
      "70501  SCORE:       79.468                   0.0  47.514    0.688   \n",
      "70502  SCORE:       84.666                   0.0  47.652    3.434   \n",
      "70503  SCORE:       83.108                   0.0  47.572    2.510   \n",
      "70504  SCORE:       80.487                   0.0  47.583    0.992   \n",
      "70505  SCORE:       82.873                   0.0  47.560    2.564   \n",
      "70506  SCORE:       80.474                   0.0  47.553    0.994   \n",
      "70507  SCORE:       84.309                   0.0  47.639    3.322   \n",
      "70508  SCORE:       84.268                   0.0  47.622    3.318   \n",
      "70509  SCORE:       84.590                   0.0  47.652    3.492   \n",
      "70510  SCORE:       79.638                   0.0  47.632    0.365   \n",
      "70511  SCORE:       80.333                   0.0  47.620    0.954   \n",
      "70512  SCORE:       79.911                   0.0  47.605    0.919   \n",
      "70513  SCORE:       79.513                   0.0  47.553    0.664   \n",
      "70514  SCORE:       84.287                   0.0  47.621    3.340   \n",
      "70515  SCORE:       83.332                   0.0  47.644    2.737   \n",
      "70516  SCORE:       83.241                   0.0  47.651    2.573   \n",
      "70517  SCORE:       79.209                   0.0  47.553    0.352   \n",
      "70518  SCORE:       80.717                   0.0  47.815    0.827   \n",
      "70519  SCORE:       84.306                   0.0  47.638    3.322   \n",
      "70520  SCORE:       83.003                   0.0  47.640    2.462   \n",
      "70521  SCORE:       80.590                   0.0  47.831    0.283   \n",
      "70522  SCORE:       80.234                   0.0  47.639    0.933   \n",
      "\n",
      "       chainbreak_posthyb     env  hs_pair  linear_chainbreak    pair  \\\n",
      "1                     0.0 -16.372    0.000                0.0  -7.687   \n",
      "81                    0.0  -8.847    0.000                0.0  -6.157   \n",
      "82                    0.0  -8.642    0.000                0.0  -6.807   \n",
      "83                    0.0  -9.001    0.000                0.0  -4.679   \n",
      "84                    0.0 -11.275    0.000                0.0  -6.260   \n",
      "85                    0.0 -12.349    0.000                0.0  -6.586   \n",
      "86                    0.0  -9.674    0.000                0.0  -5.470   \n",
      "87                    0.0  -7.398    0.000                0.0  -4.144   \n",
      "88                    0.0  -9.563    0.000                0.0  -5.020   \n",
      "89                    0.0  -9.359    0.000                0.0  -6.681   \n",
      "91                    0.0 -11.323    0.000                0.0  -5.549   \n",
      "92                    0.0 -10.774    0.000                0.0  -4.443   \n",
      "95                    0.0  -8.919    0.000                0.0  -6.607   \n",
      "96                    0.0  -8.114    0.000                0.0  -7.510   \n",
      "98                    0.0  -7.416    0.000                0.0  -6.050   \n",
      "99                    0.0 -10.235    0.000                0.0  -5.990   \n",
      "101                   0.0 -10.941    0.000                0.0  -6.484   \n",
      "102                   0.0  -8.162    0.000                0.0  -4.526   \n",
      "103                   0.0  -9.870    0.000                0.0  -5.482   \n",
      "104                   0.0 -11.405    0.000                0.0  -5.084   \n",
      "105                   0.0  -8.913    0.000                0.0  -4.109   \n",
      "108                   0.0 -10.861    0.000                0.0  -5.362   \n",
      "110                   0.0 -11.156    0.000                0.0  -5.361   \n",
      "111                   0.0  -9.755    0.000                0.0  -5.527   \n",
      "112                   0.0  -6.092    0.000                0.0  -4.272   \n",
      "113                   0.0 -10.887    0.000                0.0  -6.643   \n",
      "115                   0.0 -11.161    0.000                0.0  -7.984   \n",
      "117                   0.0 -11.358    0.000                0.0  -5.397   \n",
      "118                   0.0  -9.889   -0.347                0.0  -4.479   \n",
      "120                   0.0  -8.004    0.000                0.0  -4.762   \n",
      "...                   ...     ...      ...                ...     ...   \n",
      "70493                 0.0  -9.749    0.000                0.0 -11.204   \n",
      "70494                 0.0 -10.208    0.000                0.0 -11.070   \n",
      "70495                 0.0  -9.132    0.000                0.0 -10.195   \n",
      "70496                 0.0  -9.231    0.000                0.0 -10.838   \n",
      "70497                 0.0  -9.686    0.000                0.0 -11.202   \n",
      "70498                 0.0  -9.686    0.000                0.0 -11.181   \n",
      "70499                 0.0 -10.038    0.000                0.0 -11.105   \n",
      "70500                 0.0  -9.132    0.000                0.0 -10.205   \n",
      "70501                 0.0  -9.949    0.000                0.0 -11.409   \n",
      "70502                 0.0  -9.132    0.000                0.0  -9.970   \n",
      "70503                 0.0  -9.182    0.000                0.0 -10.450   \n",
      "70504                 0.0  -9.629    0.000                0.0 -11.099   \n",
      "70505                 0.0  -9.182    0.000                0.0 -10.723   \n",
      "70506                 0.0  -9.629    0.000                0.0 -11.092   \n",
      "70507                 0.0  -9.132    0.000                0.0 -10.200   \n",
      "70508                 0.0  -9.132    0.000                0.0 -10.219   \n",
      "70509                 0.0  -9.132    0.000                0.0 -10.102   \n",
      "70510                 0.0 -10.120    0.000                0.0 -10.822   \n",
      "70511                 0.0  -9.686    0.000                0.0 -11.178   \n",
      "70512                 0.0  -9.949    0.000                0.0 -11.295   \n",
      "70513                 0.0 -10.025    0.000                0.0 -11.267   \n",
      "70514                 0.0  -9.132    0.000                0.0 -10.221   \n",
      "70515                 0.0  -9.132    0.000                0.0 -10.527   \n",
      "70516                 0.0  -9.132    0.000                0.0 -10.474   \n",
      "70517                 0.0 -10.025    0.000                0.0 -11.257   \n",
      "70518                 0.0  -9.249    0.000                0.0 -11.267   \n",
      "70519                 0.0  -9.132    0.000                0.0 -10.202   \n",
      "70520                 0.0  -9.132    0.000                0.0 -10.575   \n",
      "70521                 0.0  -9.611    0.000                0.0 -10.513   \n",
      "70522                 0.0  -9.686    0.000                0.0 -11.278   \n",
      "\n",
      "        ...     rsigma   sheet  ss_pair    vdw         description  \\\n",
      "1       ...      0.000   3.776    0.000  0.500  K_c_0001_0242_0002   \n",
      "81      ...      0.000   7.551    0.000  0.516  W_c_0001_0352_0002   \n",
      "82      ...      0.000   7.551    0.000  0.496  W_c_0001_0352_0003   \n",
      "83      ...     -0.851   5.007   -1.473  0.411  W_c_0001_0352_0004   \n",
      "84      ...      0.000   3.776    0.000  0.456  W_c_0001_0352_0005   \n",
      "85      ...      0.000  11.327    0.350  0.550  W_c_0001_0352_0006   \n",
      "86      ...     -0.977   5.007   -1.057  0.437  W_c_0001_0352_0007   \n",
      "87      ...      0.000   7.551    0.000  0.566  W_c_0001_0352_0008   \n",
      "88      ...      0.000   7.551    0.000  0.249  W_c_0001_0352_0009   \n",
      "89      ...      0.000   5.007    0.000  0.449  W_c_0001_0352_0010   \n",
      "91      ...      0.000   7.551    0.000  0.574  W_c_0001_0352_0012   \n",
      "92      ...      0.000   7.551    0.000  0.587  W_c_0001_0352_0013   \n",
      "95      ...      0.000   3.776    0.000  0.558  W_c_0001_0352_0016   \n",
      "96      ...      0.000   3.776    0.000  0.602  W_c_0001_0352_0017   \n",
      "98      ...      0.000   3.776    0.000  0.460  W_c_0001_0352_0019   \n",
      "99      ...      0.000   3.776    0.000  0.556  W_c_0001_0352_0020   \n",
      "101     ...      0.000   7.551    0.000  0.315  W_c_0001_0352_0022   \n",
      "102     ...      0.000   7.551    0.000  0.300  W_c_0001_0352_0023   \n",
      "103     ...      0.000   7.551    0.000  0.528  W_c_0001_0352_0024   \n",
      "104     ...      0.000   7.551    0.000  0.541  W_c_0001_0352_0025   \n",
      "105     ...      0.000   3.776    0.000  0.332  W_c_0001_0352_0026   \n",
      "108     ...      0.000   3.776    0.000  0.585  W_c_0001_0352_0030   \n",
      "110     ...      0.000   5.007   -0.708  0.277  W_c_0001_0352_0032   \n",
      "111     ...      0.000   5.007   -1.076  0.495  W_c_0001_0352_0033   \n",
      "112     ...      0.000   3.776    0.000  0.550  W_c_0001_0352_0034   \n",
      "113     ...      0.000   3.776    0.000  0.704  W_c_0001_0352_0035   \n",
      "115     ...     -0.878   5.007   -1.326  0.663  W_c_0001_0352_0037   \n",
      "117     ...      0.000   3.776    0.000  0.554  W_c_0001_0352_0039   \n",
      "118     ...      0.000   7.551    0.000  0.569  W_c_0001_0352_0040   \n",
      "120     ...      0.000   3.776    0.000  0.589  W_c_0001_0352_0042   \n",
      "...     ...        ...     ...      ...    ...                 ...   \n",
      "70493   ...      0.000   3.776    0.000  0.229  N_f_0001_0206_0021   \n",
      "70494   ...      0.000   3.776    0.000  0.230  N_f_0001_0206_0022   \n",
      "70495   ...      0.000   3.776    0.000  0.232  N_f_0001_0206_0023   \n",
      "70496   ...      0.000   3.776    0.000  0.231  N_f_0001_0206_0024   \n",
      "70497   ...      0.000   3.776    0.000  0.230  N_f_0001_0206_0025   \n",
      "70498   ...      0.000   3.776    0.000  0.229  N_f_0001_0206_0026   \n",
      "70499   ...      0.000   3.776    0.000  0.229  N_f_0001_0206_0027   \n",
      "70500   ...      0.000   3.776    0.000  0.232  N_f_0001_0206_0028   \n",
      "70501   ...      0.000   3.776    0.000  0.229  N_f_0001_0206_0029   \n",
      "70502   ...      0.000   3.776    0.000  0.232  N_f_0001_0206_0030   \n",
      "70503   ...      0.000   3.776    0.000  0.232  N_f_0001_0206_0031   \n",
      "70504   ...      0.000   3.776    0.000  0.229  N_f_0001_0206_0032   \n",
      "70505   ...      0.000   3.776    0.000  0.231  N_f_0001_0206_0033   \n",
      "70506   ...      0.000   3.776    0.000  0.229  N_f_0001_0206_0034   \n",
      "70507   ...      0.000   3.776    0.000  0.232  N_f_0001_0206_0035   \n",
      "70508   ...      0.000   3.776    0.000  0.232  N_f_0001_0206_0036   \n",
      "70509   ...      0.000   3.776    0.000  0.232  N_f_0001_0206_0037   \n",
      "70510   ...      0.000   3.776    0.000  0.229  N_f_0001_0206_0038   \n",
      "70511   ...      0.000   3.776    0.000  0.230  N_f_0001_0206_0039   \n",
      "70512   ...      0.000   3.776    0.000  0.229  N_f_0001_0206_0040   \n",
      "70513   ...      0.000   3.776    0.000  0.229  N_f_0001_0206_0041   \n",
      "70514   ...      0.000   3.776    0.000  0.232  N_f_0001_0206_0042   \n",
      "70515   ...      0.000   3.776    0.000  0.233  N_f_0001_0206_0043   \n",
      "70516   ...      0.000   3.776    0.000  0.232  N_f_0001_0206_0044   \n",
      "70517   ...      0.000   3.776    0.000  0.229  N_f_0001_0206_0045   \n",
      "70518   ...      0.000   3.776    0.000  0.229  N_f_0001_0206_0046   \n",
      "70519   ...      0.000   3.776    0.000  0.232  N_f_0001_0206_0047   \n",
      "70520   ...      0.000   3.776    0.000  0.233  N_f_0001_0206_0048   \n",
      "70521   ...      0.000   3.776    0.000  0.230  N_f_0001_0206_0049   \n",
      "70522   ...      0.000   3.776    0.000  0.229  N_f_0001_0206_0050   \n",
      "\n",
      "            scaffold rms_to_template                abego_loop vdw_dimer  \\\n",
      "1      K_c_0001_0242        0.702002  BBBBEBABGBBAAAAAAAAAAAAA  1.996065   \n",
      "81     W_c_0001_0352        0.816749          BBBAGBGEBBBOBBAA  0.415699   \n",
      "82     W_c_0001_0352        0.660825          BBBBBAAAGBABBBAA  0.702342   \n",
      "83     W_c_0001_0352        0.667270          BBBBABGGBBGBBBAA  0.589237   \n",
      "84     W_c_0001_0352        1.211974          BBBBBBGOBABABAAA  0.415699   \n",
      "85     W_c_0001_0352        0.816938          BBBBBAABBABBBBAA  1.037387   \n",
      "86     W_c_0001_0352        0.484079          BBBBABGOBEBBBBAA  0.587093   \n",
      "87     W_c_0001_0352        0.551497          BBBBBGAEABBBBBAA  0.458189   \n",
      "88     W_c_0001_0352        0.685907          BBBBBAABAABABBAA  0.428568   \n",
      "89     W_c_0001_0352        0.862735          BBBBAAAOABABBGAA  0.540892   \n",
      "91     W_c_0001_0352        1.428504          BBBBBAABAAEABBAA  0.487154   \n",
      "92     W_c_0001_0352        0.840530          BBBBAAAEBOBAEGAA  0.636178   \n",
      "95     W_c_0001_0352        0.471196          BBBBBAABBGGBEGAA  0.925760   \n",
      "96     W_c_0001_0352        0.701469          BBBBABABBBABOBAA  0.514040   \n",
      "98     W_c_0001_0352        0.628256          BBBBBAABBBABBGAA  1.256653   \n",
      "99     W_c_0001_0352        1.053796          BBBBBAAOABGAEGAA  0.856215   \n",
      "101    W_c_0001_0352        0.722160          BBBBABAAAAABAGAA  1.584465   \n",
      "102    W_c_0001_0352        0.675887          BBBBAAAGBBGBBBAA  0.458342   \n",
      "103    W_c_0001_0352        1.369050          BBBBBAAGABBABBAA  1.389159   \n",
      "104    W_c_0001_0352        1.242910          BBBBAABEAABAEGAA  1.071493   \n",
      "105    W_c_0001_0352        0.845330          BBBBBBGAABGABBAA  0.439248   \n",
      "108    W_c_0001_0352        0.810430          BBBBAABBBGBGBBAA  0.714728   \n",
      "110    W_c_0001_0352        0.811237          BBBBAAABBABBBBAA  1.925679   \n",
      "111    W_c_0001_0352        0.521676          BBBBAABOABBBBBAA  0.530876   \n",
      "112    W_c_0001_0352        0.909414          BBBBBABBABGABBAA  0.571924   \n",
      "113    W_c_0001_0352        0.953192          BBEBAAAOABOBBGAA  0.442012   \n",
      "115    W_c_0001_0352        0.802720          BBBBABGOBABBBBAA  1.071525   \n",
      "117    W_c_0001_0352        1.060111          BBBBBAABBABABBAA  0.467694   \n",
      "118    W_c_0001_0352        1.110347          BBBBBBBAGBBABBAA  1.354553   \n",
      "120    W_c_0001_0352        0.707171          BBBBBBAOABGABBAA  0.578774   \n",
      "...              ...             ...                       ...       ...   \n",
      "70493  N_f_0001_0206        0.189630             BBAAAABBGBAAB  0.548761   \n",
      "70494  N_f_0001_0206        0.194969             BBAAAABBGBAAB  0.548761   \n",
      "70495  N_f_0001_0206        0.074046             BBAAAABBGBAAB  0.589560   \n",
      "70496  N_f_0001_0206        0.247518             BBAAAABABBAAB  0.797515   \n",
      "70497  N_f_0001_0206        0.196500             BBAAAABBGBAAB  0.548761   \n",
      "70498  N_f_0001_0206        0.196790             BBAAAABBGBAAB  0.548761   \n",
      "70499  N_f_0001_0206        0.235056             BBAAAABBGBAAB  0.549010   \n",
      "70500  N_f_0001_0206        0.074642             BBAAAABBGBAAB  0.594180   \n",
      "70501  N_f_0001_0206        0.188212             BBAAAABBGBAAB  0.548761   \n",
      "70502  N_f_0001_0206        0.070879             BBAAAABBGBAAB  0.579137   \n",
      "70503  N_f_0001_0206        0.096417             BBAAAABBGBAAB  0.628615   \n",
      "70504  N_f_0001_0206        0.160989             BBAAAABBGBAAB  0.548761   \n",
      "70505  N_f_0001_0206        0.100703             BBAAAABBGBAAB  0.633928   \n",
      "70506  N_f_0001_0206        0.148279             BBAAAABBGBAAB  0.548761   \n",
      "70507  N_f_0001_0206        0.074323             BBAAAABBGBAAB  0.592813   \n",
      "70508  N_f_0001_0206        0.075663             BBAAAABBGBAAB  0.596257   \n",
      "70509  N_f_0001_0206        0.072683             BBAAAABBGBAAB  0.585637   \n",
      "70510  N_f_0001_0206        0.239543             BBAAAAOABBAAB  0.549445   \n",
      "70511  N_f_0001_0206        0.196436             BBAAAABBGBAAB  0.548761   \n",
      "70512  N_f_0001_0206        0.183360             BBAAAABBGBAAB  0.548761   \n",
      "70513  N_f_0001_0206        0.279664             BBAAAABABBAAB  0.554793   \n",
      "70514  N_f_0001_0206        0.076029             BBAAAABBGBAAB  0.597798   \n",
      "70515  N_f_0001_0206        0.186519             BBAAAABABBAAB  0.580048   \n",
      "70516  N_f_0001_0206        0.178331             BBAAAABABBAAB  0.619025   \n",
      "70517  N_f_0001_0206        0.279506             BBAAAABABBAAB  0.558908   \n",
      "70518  N_f_0001_0206        0.211158             BBAAAAOABBAAB  0.983365   \n",
      "70519  N_f_0001_0206        0.074413             BBAAAABBGBAAB  0.592607   \n",
      "70520  N_f_0001_0206        0.187760             BBAAAABABBAAB  0.581553   \n",
      "70521  N_f_0001_0206        0.183252             BBAAAAOABBAAB  1.005144   \n",
      "70522  N_f_0001_0206        0.193222             BBAAAABBGBAAB  0.548761   \n",
      "\n",
      "       cis_pro  \n",
      "1           []  \n",
      "81         [O]  \n",
      "82          []  \n",
      "83          []  \n",
      "84         [O]  \n",
      "85          []  \n",
      "86         [O]  \n",
      "87          []  \n",
      "88          []  \n",
      "89         [O]  \n",
      "91          []  \n",
      "92         [O]  \n",
      "95          []  \n",
      "96         [O]  \n",
      "98          []  \n",
      "99         [O]  \n",
      "101         []  \n",
      "102         []  \n",
      "103         []  \n",
      "104         []  \n",
      "105         []  \n",
      "108         []  \n",
      "110         []  \n",
      "111        [O]  \n",
      "112         []  \n",
      "113     [O, O]  \n",
      "115        [O]  \n",
      "117         []  \n",
      "118         []  \n",
      "120        [O]  \n",
      "...        ...  \n",
      "70493       []  \n",
      "70494       []  \n",
      "70495       []  \n",
      "70496       []  \n",
      "70497       []  \n",
      "70498       []  \n",
      "70499       []  \n",
      "70500       []  \n",
      "70501       []  \n",
      "70502       []  \n",
      "70503       []  \n",
      "70504       []  \n",
      "70505       []  \n",
      "70506       []  \n",
      "70507       []  \n",
      "70508       []  \n",
      "70509       []  \n",
      "70510      [O]  \n",
      "70511       []  \n",
      "70512       []  \n",
      "70513       []  \n",
      "70514       []  \n",
      "70515       []  \n",
      "70516       []  \n",
      "70517       []  \n",
      "70518      [O]  \n",
      "70519       []  \n",
      "70520       []  \n",
      "70521      [O]  \n",
      "70522       []  \n",
      "\n",
      "[27185 rows x 21 columns]\n"
     ]
    }
   ],
   "source": [
    "print(df_good_dimer)"
   ]
  },
  {
   "cell_type": "code",
   "execution_count": 38,
   "metadata": {},
   "outputs": [
    {
     "name": "stdout",
     "output_type": "stream",
     "text": [
      "(22312, 21)\n"
     ]
    }
   ],
   "source": [
    "df_no_cis = df_good_dimer.loc[(df_good_dimer.cis_pro.map(len) == 0) & (df_good_dimer[\"rms_to_template\"] < 1.5 ) ]\n",
    "print(df_no_cis.shape)"
   ]
  },
  {
   "cell_type": "code",
   "execution_count": 39,
   "metadata": {},
   "outputs": [
    {
     "name": "stdout",
     "output_type": "stream",
     "text": [
      "                    total_score  atom_pair_constraint      cbeta   cenpack  \\\n",
      "scaffold                                                                     \n",
      "A_b_0001_0034         79.271200                   0.0  47.508333 -3.219233   \n",
      "A_b_0001_0039         81.636250                   0.0  48.989909 -1.476659   \n",
      "A_b_0001_0047         74.096947                   0.0  52.645474 -6.746842   \n",
      "A_b_0001_0053         79.352780                   0.0  48.070732 -0.506878   \n",
      "A_b_0001_0056         82.555580                   0.0  46.961740 -0.914300   \n",
      "A_b_0001_0058         84.266939                   0.0  51.177714 -3.670102   \n",
      "A_b_0001_0059         89.127340                   0.0  50.945560 -3.273520   \n",
      "A_b_0001_0066         78.902128                   0.0  50.028846 -3.524949   \n",
      "A_b_0001_0069         86.591636                   0.0  52.679432 -3.413591   \n",
      "A_b_0001_0072         86.491211                   0.0  52.878474 -3.987316   \n",
      "A_b_0001_0082         81.311000                   0.0  52.607161 -6.119968   \n",
      "A_b_0001_0119         81.828625                   0.0  46.940542 -0.701979   \n",
      "A_b_0001_0127         83.539930                   0.0  46.351302  0.017628   \n",
      "A_c_0001_0034         84.404000                   0.0  48.312000  1.321000   \n",
      "A_c_0001_0036         83.451681                   0.0  47.666340 -1.614319   \n",
      "A_c_0001_0037         88.960500                   0.0  47.097523  0.474250   \n",
      "A_c_0001_0043         89.405605                   0.0  47.345535 -1.236302   \n",
      "A_c_0001_0046         81.383000                   0.0  47.170800 -0.539240   \n",
      "A_c_0001_0055         84.447512                   0.0  48.020293  1.061976   \n",
      "A_c_0001_0056         81.742396                   0.0  48.314125 -1.296437   \n",
      "A_c_0001_0057         89.806440                   0.0  47.473660  1.277000   \n",
      "A_c_0001_0059         87.074128                   0.0  47.269362  0.655809   \n",
      "A_c_0001_0060         87.728898                   0.0  47.808122  0.077673   \n",
      "A_c_0001_0062         80.901000                   0.0  48.709320 -4.524000   \n",
      "A_c_0001_0064         87.185842                   0.0  51.083211 -4.525316   \n",
      "A_c_0001_0067         82.330634                   0.0  51.250512 -1.885927   \n",
      "A_c_0001_0072         69.482646                   0.0  52.918042 -4.199917   \n",
      "A_c_0001_0073         78.470028                   0.0  50.930556 -4.577250   \n",
      "A_c_0001_0074         89.536581                   0.0  53.648302 -3.874535   \n",
      "A_c_0001_0076         82.585000                   0.0  52.766500 -3.440687   \n",
      "...                         ...                   ...        ...       ...   \n",
      "W_d_0001_0332         78.436846                   0.0  48.470615 -1.232308   \n",
      "W_d_0001_0333         81.936556                   0.0  48.720333  1.540556   \n",
      "W_d_0001_0334         85.030267                   0.0  48.046000 -1.264200   \n",
      "W_d_0001_0335         88.281884                   0.0  48.442581  1.145953   \n",
      "W_d_0001_0337         86.050783                   0.0  48.477478 -1.366913   \n",
      "W_d_0001_0338         87.655488                   0.0  49.218171 -0.696732   \n",
      "W_d_0001_0339         75.480786                   0.0  49.969214 -1.546214   \n",
      "W_d_0001_0341         89.346000                   0.0  50.501857  0.112143   \n",
      "W_d_0001_0342         74.929400                   0.0  50.037600  0.420600   \n",
      "W_d_0001_0345         84.517333                   0.0  49.296333 -1.007667   \n",
      "W_d_0001_0346         88.247313                   0.0  49.089875 -0.527375   \n",
      "W_d_0001_0348         79.839667                   0.0  48.175333 -2.339833   \n",
      "W_d_0001_0352         87.222111                   0.0  49.865111  0.394222   \n",
      "W_d_0001_0354         86.970958                   0.0  49.375542 -0.141458   \n",
      "W_d_0001_0358         83.065429                   0.0  47.971286 -0.258500   \n",
      "W_d_0001_0360         85.367143                   0.0  48.733929  0.092143   \n",
      "W_d_0001_0362         82.388421                   0.0  48.538842  1.079421   \n",
      "W_d_0001_0368         86.248556                   0.0  48.194822  2.686578   \n",
      "W_d_0001_0371         84.934520                   0.0  47.173180  3.737880   \n",
      "W_d_0001_0376         78.964909                   0.0  48.370273  0.072091   \n",
      "W_d_0001_0377         84.170100                   0.0  47.175500  1.939700   \n",
      "W_d_0001_0379         84.405227                   0.0  49.085273  0.853955   \n",
      "W_d_0001_0384         83.410133                   0.0  48.199667  0.397400   \n",
      "W_d_0001_0388         84.876667                   0.0  48.428667  0.335000   \n",
      "W_d_0001_0390         78.884333                   0.0  48.249333  1.326333   \n",
      "W_d_0001_0392         84.199652                   0.0  48.772609  0.639652   \n",
      "W_d_0001_0394         76.728429                   0.0  48.421857 -1.711143   \n",
      "native_d_0001_0010    70.744000                   0.0  49.062000 -4.982000   \n",
      "native_d_0001_0014    72.875000                   0.0  47.270000 -5.227000   \n",
      "native_d_0001_0020    66.928760                   0.0  45.236800 -5.176140   \n",
      "\n",
      "                    chainbreak_posthyb        env   hs_pair  \\\n",
      "scaffold                                                      \n",
      "A_b_0001_0034                      0.0 -12.966067  0.000000   \n",
      "A_b_0001_0039                      0.0 -14.526955  0.000000   \n",
      "A_b_0001_0047                      0.0 -16.212421  0.291474   \n",
      "A_b_0001_0053                      0.0 -17.818000  0.000000   \n",
      "A_b_0001_0056                      0.0  -9.810940  0.000000   \n",
      "A_b_0001_0058                      0.0 -13.395408  0.000000   \n",
      "A_b_0001_0059                      0.0 -11.173560  0.000000   \n",
      "A_b_0001_0066                      0.0 -14.625538  0.000000   \n",
      "A_b_0001_0069                      0.0 -16.754273  0.000000   \n",
      "A_b_0001_0072                      0.0  -3.120211  0.000000   \n",
      "A_b_0001_0082                      0.0   9.596452  0.000000   \n",
      "A_b_0001_0119                      0.0 -12.290250  0.000000   \n",
      "A_b_0001_0127                      0.0  -9.090023  0.000000   \n",
      "A_c_0001_0034                      0.0 -12.097000  0.000000   \n",
      "A_c_0001_0036                      0.0  -4.870234  0.000000   \n",
      "A_c_0001_0037                      0.0  -6.940114  0.000000   \n",
      "A_c_0001_0043                      0.0  -6.007256  0.000000   \n",
      "A_c_0001_0046                      0.0 -13.482040  0.000000   \n",
      "A_c_0001_0055                      0.0  -8.875439  0.000000   \n",
      "A_c_0001_0056                      0.0 -14.463354  0.000000   \n",
      "A_c_0001_0057                      0.0  -9.131620  0.000000   \n",
      "A_c_0001_0059                      0.0 -12.815532  0.000000   \n",
      "A_c_0001_0060                      0.0 -10.836796  0.000000   \n",
      "A_c_0001_0062                      0.0 -13.572400  0.008520   \n",
      "A_c_0001_0064                      0.0 -14.149211  0.000000   \n",
      "A_c_0001_0067                      0.0 -13.489317  0.000000   \n",
      "A_c_0001_0072                      0.0  -8.369667  0.000000   \n",
      "A_c_0001_0073                      0.0 -12.377778  0.000000   \n",
      "A_c_0001_0074                      0.0 -17.551884  0.000000   \n",
      "A_c_0001_0076                      0.0  -5.179104  0.000000   \n",
      "...                                ...        ...       ...   \n",
      "W_d_0001_0332                      0.0 -14.316308  0.004538   \n",
      "W_d_0001_0333                      0.0 -16.314556 -0.059000   \n",
      "W_d_0001_0334                      0.0 -14.025800  0.000000   \n",
      "W_d_0001_0335                      0.0  -8.931116  0.006953   \n",
      "W_d_0001_0337                      0.0 -13.736043  0.000000   \n",
      "W_d_0001_0338                      0.0 -11.877756  0.004073   \n",
      "W_d_0001_0339                      0.0 -19.714929  0.000000   \n",
      "W_d_0001_0341                      0.0 -12.859143 -0.095571   \n",
      "W_d_0001_0342                      0.0 -19.135600 -0.076000   \n",
      "W_d_0001_0345                      0.0 -13.901833  0.000000   \n",
      "W_d_0001_0346                      0.0 -12.535563  0.000000   \n",
      "W_d_0001_0348                      0.0 -13.751333  0.000000   \n",
      "W_d_0001_0352                      0.0 -13.044333  0.000000   \n",
      "W_d_0001_0354                      0.0 -12.229792 -0.028333   \n",
      "W_d_0001_0358                      0.0 -13.805071 -0.022643   \n",
      "W_d_0001_0360                      0.0 -12.278071  0.000000   \n",
      "W_d_0001_0362                      0.0 -16.707526 -0.046579   \n",
      "W_d_0001_0368                      0.0 -14.301933  0.000000   \n",
      "W_d_0001_0371                      0.0 -12.020880 -0.023000   \n",
      "W_d_0001_0376                      0.0 -15.222636  0.000000   \n",
      "W_d_0001_0377                      0.0 -11.815900  0.000000   \n",
      "W_d_0001_0379                      0.0 -15.342500 -0.013636   \n",
      "W_d_0001_0384                      0.0 -14.194733 -0.016000   \n",
      "W_d_0001_0388                      0.0 -14.103667  0.000000   \n",
      "W_d_0001_0390                      0.0 -16.974333  0.000000   \n",
      "W_d_0001_0392                      0.0 -14.502652 -0.019565   \n",
      "W_d_0001_0394                      0.0 -17.647000  0.000000   \n",
      "native_d_0001_0010                 0.0 -15.303000  0.000000   \n",
      "native_d_0001_0014                 0.0 -10.315600  0.000000   \n",
      "native_d_0001_0020                 0.0 -14.068260  0.000000   \n",
      "\n",
      "                    linear_chainbreak       pair         rg     rsigma  \\\n",
      "scaffold                                                                 \n",
      "A_b_0001_0034                     0.0  -5.029767  48.884967   0.000000   \n",
      "A_b_0001_0039                     0.0  -0.029295  50.253727  -2.681818   \n",
      "A_b_0001_0047                     0.0  -7.673526  52.614579  -2.221842   \n",
      "A_b_0001_0053                     0.0  -3.214585  48.747171   0.000000   \n",
      "A_b_0001_0056                     0.0  -6.163200  48.400140   0.000000   \n",
      "A_b_0001_0058                     0.0  -5.961020  51.673265   0.000000   \n",
      "A_b_0001_0059                     0.0  -4.254620  52.720080   0.000000   \n",
      "A_b_0001_0066                     0.0  -7.733769  50.665359   0.000000   \n",
      "A_b_0001_0069                     0.0  -4.010386  54.010545   0.000000   \n",
      "A_b_0001_0072                     0.0  -1.980789  57.065789  -7.071211   \n",
      "A_b_0001_0082                     0.0  -7.419871  58.000323 -12.063742   \n",
      "A_b_0001_0119                     0.0  -4.160792  47.937229   0.000000   \n",
      "A_b_0001_0127                     0.0  -5.654605  47.842837   0.000000   \n",
      "A_c_0001_0034                     0.0  -7.112000  49.229000   0.000000   \n",
      "A_c_0001_0036                     0.0  -5.199787  49.252149  -3.341277   \n",
      "A_c_0001_0037                     0.0  -4.397818  48.627773   0.000000   \n",
      "A_c_0001_0043                     0.0  -3.409395  48.551256   0.000000   \n",
      "A_c_0001_0046                     0.0  -4.447240  48.601960   0.000000   \n",
      "A_c_0001_0055                     0.0  -8.471122  48.418927   0.000000   \n",
      "A_c_0001_0056                     0.0  -4.132542  49.248125   0.000000   \n",
      "A_c_0001_0057                     0.0  -2.912040  48.960080   0.000000   \n",
      "A_c_0001_0059                     0.0  -0.656362  48.540277   0.000000   \n",
      "A_c_0001_0060                     0.0  -2.783898  49.305510   0.000000   \n",
      "A_c_0001_0062                     0.0   0.034740  50.864660  -1.777480   \n",
      "A_c_0001_0064                     0.0  -1.225579  51.926316   0.000000   \n",
      "A_c_0001_0067                     0.0  -6.238537  53.144293  -2.199902   \n",
      "A_c_0001_0072                     0.0  -7.050688  57.394125  -9.688062   \n",
      "A_c_0001_0073                     0.0  -0.906389  53.528194  -4.807222   \n",
      "A_c_0001_0074                     0.0  -2.155000  55.410488   0.000000   \n",
      "A_c_0001_0076                     0.0  -5.838167  55.648750  -6.860021   \n",
      "...                               ...        ...        ...        ...   \n",
      "W_d_0001_0332                     0.0  -8.530769  49.813077   0.000000   \n",
      "W_d_0001_0333                     0.0  -6.163000  50.089889   0.000000   \n",
      "W_d_0001_0334                     0.0  -1.417600  49.495000   0.000000   \n",
      "W_d_0001_0335                     0.0  -4.489767  49.245000  -0.950744   \n",
      "W_d_0001_0337                     0.0  -0.885826  49.418478   0.000000   \n",
      "W_d_0001_0338                     0.0  -3.505902  50.363341   0.000000   \n",
      "W_d_0001_0339                     0.0  -8.152714  50.821143   0.000000   \n",
      "W_d_0001_0341                     0.0  -2.959571  50.521143   0.000000   \n",
      "W_d_0001_0342                     0.0 -10.997400  50.303400   0.000000   \n",
      "W_d_0001_0345                     0.0  -4.366000  50.242667   0.000000   \n",
      "W_d_0001_0346                     0.0  -2.443125  50.417750   0.000000   \n",
      "W_d_0001_0348                     0.0  -4.974333  48.376167   0.000000   \n",
      "W_d_0001_0352                     0.0  -4.559667  50.389000   0.000000   \n",
      "W_d_0001_0354                     0.0  -4.640083  50.454583   0.000000   \n",
      "W_d_0001_0358                     0.0  -4.096571  49.127929   0.000000   \n",
      "W_d_0001_0360                     0.0  -4.143929  48.841071   0.000000   \n",
      "W_d_0001_0362                     0.0  -3.831105  49.220842   0.000000   \n",
      "W_d_0001_0368                     0.0  -3.271400  48.807756   0.000000   \n",
      "W_d_0001_0371                     0.0  -6.408480  48.258260   0.000000   \n",
      "W_d_0001_0376                     0.0  -7.300273  48.801545   0.000000   \n",
      "W_d_0001_0377                     0.0  -5.828900  48.483800   0.000000   \n",
      "W_d_0001_0379                     0.0  -4.238636  49.909045   0.000000   \n",
      "W_d_0001_0384                     0.0  -4.468600  49.364067   0.000000   \n",
      "W_d_0001_0388                     0.0  -3.062000  49.197000   0.000000   \n",
      "W_d_0001_0390                     0.0  -6.784000  48.511833   0.000000   \n",
      "W_d_0001_0392                     0.0  -4.023739  49.210913   0.000000   \n",
      "W_d_0001_0394                     0.0  -6.040857  49.237857   0.000000   \n",
      "native_d_0001_0010                0.0 -12.577000  50.723000  -0.886000   \n",
      "native_d_0001_0014                0.0  -8.645000  48.608800  -1.678600   \n",
      "native_d_0001_0020                0.0 -10.681260  47.212760   0.000000   \n",
      "\n",
      "                       sheet    ss_pair       vdw  rms_to_template  vdw_dimer  \n",
      "scaffold                                                                       \n",
      "A_b_0001_0034       3.776000   0.000000  0.317200         0.172736   0.589252  \n",
      "A_b_0001_0039       5.007000  -4.218114  0.318386         0.259203   0.561868  \n",
      "A_b_0001_0047       5.007000  -4.200526  0.593684         0.436782   1.567079  \n",
      "A_b_0001_0053       3.776000   0.000000  0.298707         0.232306   0.574129  \n",
      "A_b_0001_0056       3.776000   0.000000  0.306120         0.109397   0.562643  \n",
      "A_b_0001_0058       3.776000   0.000000  0.666796         0.175359   1.296966  \n",
      "A_b_0001_0059       3.776000   0.000000  0.388040         0.246429   0.571603  \n",
      "A_b_0001_0066       3.776000   0.000000  0.316487         0.159231   1.280975  \n",
      "A_b_0001_0069       3.776000   0.000000  0.304477         0.287582   0.608296  \n",
      "A_b_0001_0072       5.007000 -12.666842  0.365842         0.421498   0.685103  \n",
      "A_b_0001_0082       5.007000 -18.662290  0.365903         0.599320   0.601733  \n",
      "A_b_0001_0119       3.776000   0.000000  0.328312         0.225380   0.623798  \n",
      "A_b_0001_0127       3.776000   0.000000  0.297093         0.203436   0.563556  \n",
      "A_c_0001_0034       3.776000   0.000000  0.976000         0.496100   0.662498  \n",
      "A_c_0001_0036       5.007000  -4.013191  0.564851         0.476377   0.713740  \n",
      "A_c_0001_0037       3.776000   0.000000  0.323364         0.180059   0.567397  \n",
      "A_c_0001_0043       3.776000   0.000000  0.386395         0.134450   0.651456  \n",
      "A_c_0001_0046       3.776000   0.000000  0.303160         0.170782   0.586441  \n",
      "A_c_0001_0055       3.776000   0.000000  0.517561         0.342162   1.134901  \n",
      "A_c_0001_0056       3.776000   0.000000  0.297021         0.139536   0.562863  \n",
      "A_c_0001_0057       3.776000   0.000000  0.363800         0.134624   0.576349  \n",
      "A_c_0001_0059       3.776000   0.000000  0.305064         0.198172   0.635977  \n",
      "A_c_0001_0060       3.776000   0.000000  0.382878         0.264044   0.588778  \n",
      "A_c_0001_0062       5.007000  -4.236060  0.386840         0.124090   0.571815  \n",
      "A_c_0001_0064       3.776000   0.000000  0.300895         0.420548   0.558625  \n",
      "A_c_0001_0067       5.007000  -3.703512  0.446049         0.689657   0.688716  \n",
      "A_c_0001_0072       5.007000 -16.816521  0.288188         0.444330   0.561308  \n",
      "A_c_0001_0073       5.007000  -8.637556  0.310250         0.602398   0.579519  \n",
      "A_c_0001_0074       3.776000   0.000000  0.283674         0.317509   0.560138  \n",
      "A_c_0001_0076       5.007000  -9.824917  0.305521         0.313565   0.582227  \n",
      "...                      ...        ...       ...              ...        ...  \n",
      "W_d_0001_0332       3.776000   0.000000  0.452308         0.233333   0.583040  \n",
      "W_d_0001_0333       3.776000   0.000000  0.346889         0.191885   0.422532  \n",
      "W_d_0001_0334       3.776000   0.000000  0.421467         0.219129   0.509943  \n",
      "W_d_0001_0335       4.978372  -1.515326  0.349442         0.231795   0.456811  \n",
      "W_d_0001_0337       3.776000   0.000000  0.368130         0.202144   0.438472  \n",
      "W_d_0001_0338       3.776000   0.000000  0.374707         0.436423   0.753431  \n",
      "W_d_0001_0339       3.776000   0.000000  0.328786         0.794674   0.475090  \n",
      "W_d_0001_0341       3.776000   0.000000  0.349429         0.187970   0.429232  \n",
      "W_d_0001_0342       3.776000   0.000000  0.601200         0.288651   0.416031  \n",
      "W_d_0001_0345       3.776000   0.000000  0.478167         0.203387   0.622648  \n",
      "W_d_0001_0346       3.776000   0.000000  0.470250         0.271109   0.510792  \n",
      "W_d_0001_0348       3.776000   0.000000  0.577667         0.149913   0.533225  \n",
      "W_d_0001_0352       3.776000   0.000000  0.402333         0.278014   0.415699  \n",
      "W_d_0001_0354       3.776000   0.000000  0.404917         0.179565   0.424759  \n",
      "W_d_0001_0358       3.776000   0.000000  0.373429         0.193563   0.439257  \n",
      "W_d_0001_0360       3.776000   0.000000  0.346500         0.179469   0.517501  \n",
      "W_d_0001_0362       3.776000   0.000000  0.358579         0.160431   0.429275  \n",
      "W_d_0001_0368       3.776000   0.000000  0.356978         0.354964   0.426283  \n",
      "W_d_0001_0371       3.776000   0.000000  0.442120         0.119492   0.415754  \n",
      "W_d_0001_0376       3.776000   0.000000  0.468182         0.282380   0.556263  \n",
      "W_d_0001_0377       3.776000   0.000000  0.439900         0.216133   0.472702  \n",
      "W_d_0001_0379       3.776000   0.000000  0.376136         0.212824   0.422213  \n",
      "W_d_0001_0384       3.776000   0.000000  0.352867         0.147600   0.427951  \n",
      "W_d_0001_0388       3.776000   0.000000  0.306000         0.544143   0.615365  \n",
      "W_d_0001_0390       3.776000   0.000000  0.779167         0.225734   0.456687  \n",
      "W_d_0001_0392       3.776000   0.000000  0.346652         0.150459   0.415829  \n",
      "W_d_0001_0394       3.776000   0.000000  0.692286         0.273505   0.985637  \n",
      "native_d_0001_0010  5.007000  -1.150000  0.849000         1.104734   1.439607  \n",
      "native_d_0001_0014  5.007000  -3.005600  0.860800         0.846379   1.277702  \n",
      "native_d_0001_0020  3.776000   0.000000  0.629300         0.164679   1.083618  \n",
      "\n",
      "[1132 rows x 16 columns]\n"
     ]
    }
   ],
   "source": [
    "print(df_no_cis.groupby(by=\"scaffold\").mean())"
   ]
  },
  {
   "cell_type": "code",
   "execution_count": 40,
   "metadata": {},
   "outputs": [
    {
     "data": {
      "text/plain": [
       "<matplotlib.axes._subplots.AxesSubplot at 0x7fec6316fac8>"
      ]
     },
     "execution_count": 40,
     "metadata": {},
     "output_type": "execute_result"
    },
    {
     "data": {
      "image/png": "[encoded data removed]",
      "text/plain": [
       "<matplotlib.figure.Figure at 0x7fec62d3d668>"
      ]
     },
     "metadata": {
      "needs_background": "light"
     },
     "output_type": "display_data"
    }
   ],
   "source": [
    "df_no_cis[\"vdw\"].hist(bins=100)"
   ]
  },
  {
   "cell_type": "code",
   "execution_count": 41,
   "metadata": {},
   "outputs": [
    {
     "data": {
      "text/plain": [
       "<matplotlib.axes._subplots.AxesSubplot at 0x7fec55e52748>"
      ]
     },
     "execution_count": 41,
     "metadata": {},
     "output_type": "execute_result"
    },
    {
     "data": {
      "image/png": "[encoded data removed]",
      "text/plain": [
       "<matplotlib.figure.Figure at 0x7fec559ad7f0>"
      ]
     },
     "metadata": {
      "needs_background": "light"
     },
     "output_type": "display_data"
    }
   ],
   "source": [
    "df_no_cis[\"vdw_dimer\"].hist(bins=100)"
   ]
  },
  {
   "cell_type": "code",
   "execution_count": 42,
   "metadata": {},
   "outputs": [
    {
     "data": {
      "text/plain": [
       "<matplotlib.axes._subplots.AxesSubplot at 0x7fec558c60b8>"
      ]
     },
     "execution_count": 42,
     "metadata": {},
     "output_type": "execute_result"
    },
    {
     "data": {
      "image/png": "[encoded data removed]",
      "text/plain": [
       "<matplotlib.figure.Figure at 0x7fec558ef978>"
      ]
     },
     "metadata": {
      "needs_background": "light"
     },
     "output_type": "display_data"
    }
   ],
   "source": [
    "df_no_cis[\"rms_to_template\"].hist(bins=100)"
   ]
  },
  {
   "cell_type": "code",
   "execution_count": 46,
   "metadata": {},
   "outputs": [],
   "source": [
    "with open(\"../strep_design_loops_round1/task_list\",'w') as task_file:\n",
    "    for index,row in df_no_cis.iterrows():\n",
    "        folder = row[\"scaffold\"]\n",
    "        pdb_name = row[\"description\"]\n",
    "        task_file.write(pdb_name+\"\\n\")\n",
    "        new_pdb = \"../strep_design_loops_round1/\"+pdb_name+\".pdb\"\n",
    "        pdb_loop = folder+\"/\"+pdb_name+\".pdb\"\n",
    "        template_pdb = folder+\"/\"+folder+\".pdb\"\n",
    "        with open(new_pdb,\"w\") as out_pdb:\n",
    "            with open(pdb_loop,'r') as in_pdb:\n",
    "                for line in in_pdb:\n",
    "                    if line.startswith(\"ATOM\"):\n",
    "                        out_pdb.write(line)\n",
    "            with open(template_pdb,'r') as template:\n",
    "                for line in template:\n",
    "                    if line.startswith(\"HETATM\"):\n",
    "                        out_pdb.write(line)\n",
    "                    elif \"REMARK PDBinfo-LABEL:\" in line and line.split()[3] == \"segment_lookup\":\n",
    "                        out_pdb.write(line)"
   ]
  },
  {
   "cell_type": "code",
   "execution_count": 60,
   "metadata": {},
   "outputs": [],
   "source": [
    "all_scaffolds = df_no_cis.groupby(by=\"scaffold\").size().index.tolist()\n"
   ]
  },
  {
   "cell_type": "code",
   "execution_count": 61,
   "metadata": {},
   "outputs": [],
   "source": [
    "with open(\"../picked_scaffolds\",\"w\") as task_file:\n",
    "    for item in all_scaffolds:\n",
    "        task_file.write(item+\".pdb\\n\")\n"
   ]
  },
  {
   "cell_type": "code",
   "execution_count": null,
   "metadata": {},
   "outputs": [],
   "source": []
  }
 ],
 "metadata": {
  "kernelspec": {
   "display_name": "Python 3",
   "language": "python",
   "name": "python3"
  },
  "language_info": {
   "codemirror_mode": {
    "name": "ipython",
    "version": 3
   },
   "file_extension": ".py",
   "mimetype": "text/x-python",
   "name": "python",
   "nbconvert_exporter": "python",
   "pygments_lexer": "ipython3",
   "version": "3.6.5"
  }
 },
 "nbformat": 4,
 "nbformat_minor": 2
}
